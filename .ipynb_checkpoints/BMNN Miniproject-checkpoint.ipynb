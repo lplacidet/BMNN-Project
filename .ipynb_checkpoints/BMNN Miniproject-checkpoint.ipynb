{
 "cells": [
  {
   "cell_type": "code",
   "execution_count": 1,
   "metadata": {},
   "outputs": [],
   "source": [
    "# start with importing the libraries we need\n",
    "\n",
    "%matplotlib inline  \n",
    "import matplotlib.pyplot as plt\n",
    "import numpy as np\n",
    "from neurodynex3.hopfield_network import pattern_tools, plot_tools, network\n",
    "import neurodynex3.hopfield_network.pattern_tools as tools"
   ]
  },
  {
   "cell_type": "markdown",
   "metadata": {},
   "source": [
    "# Miniproject: Hopfield Networks\n",
    "\n",
    "# 1. Theory\n",
    "\n",
    "See report for theory answers\n",
    "\n",
    "# 2. Capacity\n",
    "\n",
    "### Question 2.2."
   ]
  },
  {
   "cell_type": "code",
   "execution_count": 56,
   "metadata": {},
   "outputs": [],
   "source": [
    "# Global variables\n",
    "\n",
    "N = 100 # number of neurons considering for our pattern\n",
    "T = 5 # time-steps for effectively stored patterns\n",
    "\n",
    "pattern_size = 10 # Pattern size, chosen so that pattern_size**2 = 100 = N\n",
    "\n",
    "# To obtain the probability that the first pattern is  is effectivley stored, we iterate the script a certain\n",
    "# amount of time (number of hopfield models generated to estimate probability)\n",
    "running_iterations = 100"
   ]
  },
  {
   "cell_type": "markdown",
   "metadata": {},
   "source": [
    "#### Using code from neurodynex3 Python library:\n"
   ]
  },
  {
   "cell_type": "code",
   "execution_count": 57,
   "metadata": {},
   "outputs": [],
   "source": [
    "# Number of patterns we are currently working with:\n",
    "num_pattern_list = np.arange(0, 60, 5)\n",
    "num_pattern_list[0] = 1 # Solving issue with zero patterns...\n",
    "\n",
    "# When increasing number of patterns, retrieving probability\n",
    "probability_list = []"
   ]
  },
  {
   "cell_type": "code",
   "execution_count": 58,
   "metadata": {
    "scrolled": true
   },
   "outputs": [
    {
     "name": "stdout",
     "output_type": "stream",
     "text": [
      "Running for 1 patterns...\n",
      "Probability that our pattern was correctly retrieved:1.0\n",
      "Running for 5 patterns...\n",
      "Probability that our pattern was correctly retrieved:1.0\n",
      "Running for 10 patterns...\n",
      "Probability that our pattern was correctly retrieved:0.96\n",
      "Running for 15 patterns...\n",
      "Probability that our pattern was correctly retrieved:0.62\n",
      "Running for 20 patterns...\n",
      "Probability that our pattern was correctly retrieved:0.39\n",
      "Running for 25 patterns...\n",
      "Probability that our pattern was correctly retrieved:0.11\n",
      "Running for 30 patterns...\n",
      "Probability that our pattern was correctly retrieved:0.03\n",
      "Running for 35 patterns...\n",
      "Probability that our pattern was correctly retrieved:0.0\n",
      "Running for 40 patterns...\n",
      "Probability that our pattern was correctly retrieved:0.0\n",
      "Running for 45 patterns...\n",
      "Probability that our pattern was correctly retrieved:0.0\n",
      "Running for 50 patterns...\n",
      "Probability that our pattern was correctly retrieved:0.0\n",
      "Running for 55 patterns...\n",
      "Probability that our pattern was correctly retrieved:0.0\n"
     ]
    }
   ],
   "source": [
    "for P in num_pattern_list:\n",
    "    \n",
    "    print('Running for '+str(P)+' patterns...')\n",
    "    # create an instance of the class HopfieldNetwork\n",
    "    hopfield_net = network.HopfieldNetwork(nr_neurons= pattern_size**2)\n",
    "\n",
    "    # instantiate a pattern factory\n",
    "    factory = pattern_tools.PatternFactory(pattern_size, pattern_size)\n",
    "\n",
    "    identical_count = 0\n",
    "    \n",
    "    for i in range(running_iterations): # run the script some times\n",
    "\n",
    "        pattern_list = []\n",
    "        # add random patterns to the list (this value changes to obtain different probabilities for our plot)\n",
    "        pattern_list.extend(factory.create_random_pattern_list(nr_patterns=P, on_probability=0.5))\n",
    "\n",
    "        # let the hopfield network \"learn\" the patterns. Note: they are not stored\n",
    "        # explicitly but only network weights are updated !\n",
    "        hopfield_net.store_patterns(pattern_list)\n",
    "\n",
    "        # initialize with original pattern\n",
    "        hopfield_net.set_state_from_pattern(pattern_list[0])\n",
    "        # from this initial state, let the network dynamics evolve. \n",
    "        states = hopfield_net.run_with_monitoring(nr_steps=T-1) # T-1 gets us to state 5\n",
    "\n",
    "        # each network state is a vector. reshape it to the same shape used to create the patterns.\n",
    "        states_as_patterns = factory.reshape_patterns(states)\n",
    "        # plot the states of the network\n",
    "        # plot_tools.plot_state_sequence_and_overlap(states_as_patterns, pattern_list, reference_idx=0, suptitle=\"Network dynamics\")\n",
    "\n",
    "        if (np.sum(states_as_patterns[-1] == pattern_list[0])) == 100:\n",
    "            # We have identical patterns, one neuron state was flipped after 5 iterations\n",
    "            identical_count += 1\n",
    "\n",
    "    proba_correct = identical_count / running_iterations\n",
    "    print(\"Probability that our pattern was correctly retrieved:\" +str(proba_correct))\n",
    "\n",
    "    probability_list.append(proba_correct)"
   ]
  },
  {
   "cell_type": "code",
   "execution_count": 60,
   "metadata": {},
   "outputs": [
    {
     "data": {
      "image/png": "[encoded data removed]",
      "text/plain": [
       "<Figure size 432x288 with 1 Axes>"
      ]
     },
     "metadata": {
      "needs_background": "light"
     },
     "output_type": "display_data"
    }
   ],
   "source": [
    "# Plotting the probability for pattern p^1 to be effectively stored, as a function of the number of patterns\n",
    "\n",
    "plt.figure()\n",
    "plt.scatter(num_pattern_list, probability_list)\n",
    "plt.xlabel('Number of patterns')\n",
    "plt.ylabel('Probability')\n",
    "plt.title('Probability of effectively storing pattern p^1 as a function of the number of patterns')\n",
    "plt.grid(True)"
   ]
  },
  {
   "cell_type": "markdown",
   "metadata": {},
   "source": [
    "#### Implementing alternative and more efficient method to store patterns: and checking if weights are still the same"
   ]
  },
  {
   "cell_type": "code",
   "execution_count": null,
   "metadata": {},
   "outputs": [],
   "source": [
    "# Using alternative and more efficient way to store patterns\n",
    "\n",
    "class Hopfield_fast(network.HopfieldNetwork):\n",
    "    def __init__(self, nr_neurons):\n",
    "        super().__init__(nr_neurons)\n",
    "    \n",
    "    def store_patterns(self, pattern_list):\n",
    "        # check if the input is a list or a numpy array\n",
    "        if type(pattern_list) == list:\n",
    "            pattern_list = np.array(pattern_list)\n",
    "        pattern_list = pattern_list.reshape(pattern_list.shape[0],-1)\n",
    "        pattern_size = pattern_list.shape[1]\n",
    "        # fill in the following line for make the Hopfield_fast class to run\n",
    "        self.weights = 1 / pattern_size  * np.einsum('?,?->?', ?, ?) \n",
    "        np.fill_diagonal(self.weights, 0)"
   ]
  },
  {
   "cell_type": "code",
   "execution_count": null,
   "metadata": {},
   "outputs": [],
   "source": [
    "# Before you continue test that your weights are correct (compare with the neurodynex version)\n",
    "\n",
    "slow_hopfield_net = network.HopfieldNetwork(nr_neurons= pattern_size**2)\n",
    "fast_hopfield_net = Hopfield_fast(slow_hopfield_net)\n",
    "\n",
    "factory = pattern_tools.PatternFactory(pattern_size, pattern_size)\n",
    "\n",
    "pattern_list = []\n",
    "# add random patterns to the list (this value changes to obtain different probabilities for our plot)\n",
    "pattern_list.extend(factory.create_random_pattern_list(nr_patterns=P, on_probability=0.5))\n",
    "\n",
    "# let the hopfield network \"learn\" the patterns. Note: they are not stored\n",
    "# explicitly but only network weights are updated !\n",
    "slow_hopfield_net.store_patterns(pattern_list)\n",
    "fast_hopfield_net.store_patterns(pattern_list)\n",
    "\n",
    "print(slow_hopfield_net.weights == fast_hopfield_net.weights)\n",
    "print('All the weights are the same?'+str((slow_hopfield_net.weights == fast_hopfield_net.weights).all()))"
   ]
  },
  {
   "cell_type": "markdown",
   "metadata": {},
   "source": [
    "#### Obtaining the plot using alternative and more efficient method to store patterns:"
   ]
  },
  {
   "cell_type": "code",
   "execution_count": null,
   "metadata": {},
   "outputs": [],
   "source": [
    "# Number of patterns we are currently working with:\n",
    "num_pattern_list = np.arange(0, 100, 1)\n",
    "num_pattern_list[0] = 1 # Solving issue with zero patterns...\n",
    "\n",
    "# When increasing number of patterns, retrieving probability\n",
    "fast_probability_list = []"
   ]
  },
  {
   "cell_type": "code",
   "execution_count": null,
   "metadata": {},
   "outputs": [],
   "source": [
    "for P in num_pattern_list:\n",
    "    \n",
    "    print('Running for '+str(P)+' patterns...')\n",
    "    # create an instance of the class HopfieldNetwork\n",
    "    slow_hopfield_net = network.HopfieldNetwork(nr_neurons= pattern_size**2)\n",
    "    fast_hopfield_net = Hopfield_fast(slow_hopfield_net)\n",
    "    \n",
    "    # instantiate a pattern factory\n",
    "    factory = pattern_tools.PatternFactory(pattern_size, pattern_size)\n",
    "\n",
    "    identical_count = 0\n",
    "    \n",
    "    for i in range(running_iterations): # run the script some times\n",
    "\n",
    "        pattern_list = []\n",
    "        # add random patterns to the list (this value changes to obtain different probabilities for our plot)\n",
    "        pattern_list.extend(factory.create_random_pattern_list(nr_patterns=P, on_probability=0.5))\n",
    "\n",
    "        # let the hopfield network \"learn\" the patterns. Note: they are not stored\n",
    "        # explicitly but only network weights are updated !\n",
    "        fast_hopfield_net.store_patterns(pattern_list)\n",
    "\n",
    "        # initialize with original pattern\n",
    "        fast_hopfield_net.set_state_from_pattern(pattern_list[0])\n",
    "        # from this initial state, let the network dynamics evolve. \n",
    "        states = fast_hopfield_net.run_with_monitoring(nr_steps=T-1) # T-1 gets us to state 5\n",
    "\n",
    "        # each network state is a vector. reshape it to the same shape used to create the patterns.\n",
    "        states_as_patterns = factory.reshape_patterns(states)\n",
    "        # plot the states of the network\n",
    "        # plot_tools.plot_state_sequence_and_overlap(states_as_patterns, pattern_list, reference_idx=0, suptitle=\"Network dynamics\")\n",
    "\n",
    "        if (np.sum(states_as_patterns[-1] == pattern_list[0])) == 100:\n",
    "            # We have identical patterns, one neuron state was flipped after 5 iterations\n",
    "            identical_count += 1\n",
    "\n",
    "    proba_correct = identical_count / running_iterations\n",
    "    print(\"Probability that our pattern was correctly retrieved:\" +str(proba_correct))\n",
    "\n",
    "    fast_probability_list.append(proba_correct)"
   ]
  },
  {
   "cell_type": "code",
   "execution_count": null,
   "metadata": {},
   "outputs": [],
   "source": [
    "# Plotting the probability for pattern p^1 to be effectively stored, as a function of the number of patterns\n",
    "\n",
    "plt.figure()\n",
    "plt.scatter(num_pattern_list, fast_probability_list)\n",
    "plt.xlabel('Number of patterns')\n",
    "plt.ylabel('Probability')\n",
    "plt.title('Probability of effectively storing pattern p^1 as a function of the number of patterns')\n",
    "plt.grid(True)"
   ]
  },
  {
   "cell_type": "markdown",
   "metadata": {},
   "source": [
    "### Question 2.3."
   ]
  },
  {
   "cell_type": "code",
   "execution_count": null,
   "metadata": {},
   "outputs": [],
   "source": [
    "# Extracting empirical capacity:\n",
    "\n",
    "# We are looking for the maximal number of patterns that the network can store with P = 0.99\n",
    "\n",
    "P_star_empirical = ??? # maximal value obtained where probability is still above or equal to 0.99\n",
    "\n",
    "C_empirical = P_star_empirical / N\n",
    "\n",
    "print(\"From the previous question, the empirical capacity is: \"+str(C_empirical))"
   ]
  },
  {
   "cell_type": "code",
   "execution_count": null,
   "metadata": {},
   "outputs": [],
   "source": [
    "# Comparing to theoretical capacity found in pen&pencil exercise 3 of week 5:\n",
    "# Instead of having 1 flipped pixel over 10000, we have 1 flipped pixel over 100\n",
    "\n",
    "# To have on average, at most, one bit to be wrong: corresponds to erf(2.6) = 0.9998\n",
    "# We can deduce: sqrt(N/2(P-1)) = 2.6\n",
    "\n",
    "# This gives us:\n",
    "\n",
    "P_star_theoretical = 1 + N/(2*(2.6**2))\n",
    "\n",
    "C_theoretical = P_star_theoretical/N\n",
    "\n",
    "print(\"From the Pen&Pencil exercise 3 of week 5, we deduce the theoretical capacity:\"+str(C_theoretical))"
   ]
  },
  {
   "cell_type": "markdown",
   "metadata": {},
   "source": [
    "# 3. From binary neurons to saturated rectified linear neurons\n",
    "\n",
    "### Question 3.1"
   ]
  },
  {
   "cell_type": "code",
   "execution_count": 96,
   "metadata": {},
   "outputs": [],
   "source": [
    "t_range = np.linspace(-10,10, 1000000)\n",
    "\n",
    "def g(h, beta):\n",
    "    return np.minimum(1, np.maximum(-1, beta*h))"
   ]
  },
  {
   "cell_type": "code",
   "execution_count": 98,
   "metadata": {},
   "outputs": [
    {
     "data": {
      "text/plain": [
       "Text(0.5, 1.0, 'Gain function for beta = 1')"
      ]
     },
     "execution_count": 98,
     "metadata": {},
     "output_type": "execute_result"
    },
    {
     "data": {
      "image/png": "[encoded data removed]",
      "text/plain": [
       "<Figure size 432x288 with 1 Axes>"
      ]
     },
     "metadata": {
      "needs_background": "light"
     },
     "output_type": "display_data"
    }
   ],
   "source": [
    "beta = 1\n",
    "y_values = []\n",
    "\n",
    "for t in t_range:\n",
    "    y = g(t, beta)\n",
    "    y_values.append(y)\n",
    "\n",
    "\n",
    "plt.figure()\n",
    "plt.plot(t_range, y_values)\n",
    "plt.xlabel('h')\n",
    "plt.ylabel('g(h)')\n",
    "plt.title('Gain function for beta = 1')"
   ]
  },
  {
   "cell_type": "markdown",
   "metadata": {},
   "source": [
    "### Question 3.2\n",
    "\n",
    "See report for theoretical answer\n",
    "\n",
    "### Question 3.3"
   ]
  },
  {
   "cell_type": "code",
   "execution_count": null,
   "metadata": {},
   "outputs": [],
   "source": []
  },
  {
   "cell_type": "markdown",
   "metadata": {},
   "source": [
    "### Question 3.4"
   ]
  },
  {
   "cell_type": "code",
   "execution_count": 102,
   "metadata": {},
   "outputs": [
    {
     "data": {
      "text/plain": [
       "Text(0.5, 1.0, 'Gain function for beta = 1')"
      ]
     },
     "execution_count": 102,
     "metadata": {},
     "output_type": "execute_result"
    },
    {
     "data": {
      "image/png": "[encoded data removed]",
      "text/plain": [
       "<Figure size 432x288 with 1 Axes>"
      ]
     },
     "metadata": {
      "needs_background": "light"
     },
     "output_type": "display_data"
    }
   ],
   "source": [
    "beta = 0.5\n",
    "y_values = []\n",
    "\n",
    "for t in t_range:\n",
    "    y = g(t, beta)\n",
    "    y_values.append(y)\n",
    "\n",
    "\n",
    "plt.figure()\n",
    "plt.plot(t_range, y_values)\n",
    "plt.xlabel('h')\n",
    "plt.ylabel('g(h)')\n",
    "plt.title('Gain function for beta = 1')"
   ]
  },
  {
   "cell_type": "code",
   "execution_count": 103,
   "metadata": {},
   "outputs": [
    {
     "data": {
      "text/plain": [
       "Text(0.5, 1.0, 'Gain function for beta = 1')"
      ]
     },
     "execution_count": 103,
     "metadata": {},
     "output_type": "execute_result"
    },
    {
     "data": {
      "image/png": "[encoded data removed]",
      "text/plain": [
       "<Figure size 432x288 with 1 Axes>"
      ]
     },
     "metadata": {
      "needs_background": "light"
     },
     "output_type": "display_data"
    }
   ],
   "source": [
    "beta = 0.25\n",
    "y_values = []\n",
    "\n",
    "for t in t_range:\n",
    "    y = g(t, beta)\n",
    "    y_values.append(y)\n",
    "\n",
    "\n",
    "plt.figure()\n",
    "plt.plot(t_range, y_values)\n",
    "plt.xlabel('h')\n",
    "plt.ylabel('g(h)')\n",
    "plt.title('Gain function for beta = 1')"
   ]
  },
  {
   "cell_type": "code",
   "execution_count": 104,
   "metadata": {},
   "outputs": [
    {
     "data": {
      "text/plain": [
       "Text(0.5, 1.0, 'Gain function for beta = 1')"
      ]
     },
     "execution_count": 104,
     "metadata": {},
     "output_type": "execute_result"
    },
    {
     "data": {
      "image/png": "[encoded data removed]",
      "text/plain": [
       "<Figure size 432x288 with 1 Axes>"
      ]
     },
     "metadata": {
      "needs_background": "light"
     },
     "output_type": "display_data"
    }
   ],
   "source": [
    "beta = 0.1\n",
    "y_values = []\n",
    "\n",
    "for t in t_range:\n",
    "    y = g(t, beta)\n",
    "    y_values.append(y)\n",
    "\n",
    "\n",
    "plt.figure()\n",
    "plt.plot(t_range, y_values)\n",
    "plt.xlabel('h')\n",
    "plt.ylabel('g(h)')\n",
    "plt.title('Gain function for beta = 1')"
   ]
  },
  {
   "cell_type": "code",
   "execution_count": null,
   "metadata": {},
   "outputs": [],
   "source": []
  }
 ],
 "metadata": {
  "kernelspec": {
   "display_name": "Python 3",
   "language": "python",
   "name": "python3"
  },
  "language_info": {
   "codemirror_mode": {
    "name": "ipython",
    "version": 3
   },
   "file_extension": ".py",
   "mimetype": "text/x-python",
   "name": "python",
   "nbconvert_exporter": "python",
   "pygments_lexer": "ipython3",
   "version": "3.8.5"
  }
 },
 "nbformat": 4,
 "nbformat_minor": 4
}
