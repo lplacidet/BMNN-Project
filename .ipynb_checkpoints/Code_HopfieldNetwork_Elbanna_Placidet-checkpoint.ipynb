{
 "cells": [
  {
   "cell_type": "code",
   "execution_count": 1,
   "metadata": {
    "colab": {
     "base_uri": "https://localhost:8080/"
    },
    "id": "kNrc3o817DJy",
    "outputId": "d0da379c-0a0b-4b0d-aa36-faf64235f0ed"
   },
   "outputs": [
    {
     "name": "stdout",
     "output_type": "stream",
     "text": [
      "Collecting neurodynex3\n",
      "\u001b[?25l  Downloading https://files.pythonhosted.org/packages/87/31/725a4daa33508672f0f3e22fa224c2bc8261cc22a4e914f9d499fd540785/neurodynex3-1.0.3-py3-none-any.whl (75kB)\n",
      "\r",
      "\u001b[K     |████▍                           | 10kB 13.9MB/s eta 0:00:01\r",
      "\u001b[K     |████████▊                       | 20kB 18.0MB/s eta 0:00:01\r",
      "\u001b[K     |█████████████                   | 30kB 14.5MB/s eta 0:00:01\r",
      "\u001b[K     |█████████████████▍              | 40kB 13.4MB/s eta 0:00:01\r",
      "\u001b[K     |█████████████████████▊          | 51kB 7.2MB/s eta 0:00:01\r",
      "\u001b[K     |██████████████████████████▏     | 61kB 6.9MB/s eta 0:00:01\r",
      "\u001b[K     |██████████████████████████████▌ | 71kB 7.7MB/s eta 0:00:01\r",
      "\u001b[K     |████████████████████████████████| 81kB 5.0MB/s \n",
      "\u001b[?25hRequirement already satisfied: mpmath in /usr/local/lib/python3.7/dist-packages (from neurodynex3) (1.2.1)\n",
      "Requirement already satisfied: numpy in /usr/local/lib/python3.7/dist-packages (from neurodynex3) (1.19.5)\n",
      "Collecting setuptools-scm\n",
      "  Downloading https://files.pythonhosted.org/packages/c4/d5/e50358c82026f44cd8810c8165002746cd3f8b78865f6bcf5d7f0fe4f652/setuptools_scm-6.0.1-py3-none-any.whl\n",
      "Requirement already satisfied: scipy in /usr/local/lib/python3.7/dist-packages (from neurodynex3) (1.4.1)\n",
      "Requirement already satisfied: setuptools in /usr/local/lib/python3.7/dist-packages (from neurodynex3) (56.1.0)\n",
      "Requirement already satisfied: matplotlib in /usr/local/lib/python3.7/dist-packages (from neurodynex3) (3.2.2)\n",
      "Collecting nose\n",
      "\u001b[?25l  Downloading https://files.pythonhosted.org/packages/15/d8/dd071918c040f50fa1cf80da16423af51ff8ce4a0f2399b7bf8de45ac3d9/nose-1.3.7-py3-none-any.whl (154kB)\n",
      "\u001b[K     |████████████████████████████████| 163kB 14.0MB/s \n",
      "\u001b[?25hCollecting brian2==2.3\n",
      "\u001b[?25l  Downloading https://files.pythonhosted.org/packages/e6/ce/03f7807c36a4d75c67dc39d087b09e6be85bdff09825761f0f1c3d2061db/Brian2-2.3.tar.gz (1.6MB)\n",
      "\u001b[K     |████████████████████████████████| 1.6MB 48.4MB/s \n",
      "\u001b[?25hCollecting mock\n",
      "  Downloading https://files.pythonhosted.org/packages/5c/03/b7e605db4a57c0f6fba744b11ef3ddf4ddebcada35022927a2b5fc623fdf/mock-4.0.3-py3-none-any.whl\n",
      "Requirement already satisfied: kiwisolver>=1.0.1 in /usr/local/lib/python3.7/dist-packages (from matplotlib->neurodynex3) (1.3.1)\n",
      "Requirement already satisfied: cycler>=0.10 in /usr/local/lib/python3.7/dist-packages (from matplotlib->neurodynex3) (0.10.0)\n",
      "Requirement already satisfied: python-dateutil>=2.1 in /usr/local/lib/python3.7/dist-packages (from matplotlib->neurodynex3) (2.8.1)\n",
      "Requirement already satisfied: pyparsing!=2.0.4,!=2.1.2,!=2.1.6,>=2.0.1 in /usr/local/lib/python3.7/dist-packages (from matplotlib->neurodynex3) (2.4.7)\n",
      "Requirement already satisfied: cython>=0.29 in /usr/local/lib/python3.7/dist-packages (from brian2==2.3->neurodynex3) (0.29.23)\n",
      "Requirement already satisfied: sympy>=1.2 in /usr/local/lib/python3.7/dist-packages (from brian2==2.3->neurodynex3) (1.7.1)\n",
      "Requirement already satisfied: jinja2>=2.7 in /usr/local/lib/python3.7/dist-packages (from brian2==2.3->neurodynex3) (2.11.3)\n",
      "Requirement already satisfied: future in /usr/local/lib/python3.7/dist-packages (from brian2==2.3->neurodynex3) (0.16.0)\n",
      "Requirement already satisfied: six in /usr/local/lib/python3.7/dist-packages (from cycler>=0.10->matplotlib->neurodynex3) (1.15.0)\n",
      "Requirement already satisfied: MarkupSafe>=0.23 in /usr/local/lib/python3.7/dist-packages (from jinja2>=2.7->brian2==2.3->neurodynex3) (2.0.1)\n",
      "Building wheels for collected packages: brian2\n",
      "  Building wheel for brian2 (setup.py) ... \u001b[?25l\u001b[?25hdone\n",
      "  Created wheel for brian2: filename=Brian2-2.3-cp37-cp37m-linux_x86_64.whl size=1283905 sha256=95fffd18eab9b007e315ed3613b866050c9930769a8fe3e92ae2bbdad1e038ed\n",
      "  Stored in directory: /root/.cache/pip/wheels/d0/53/ca/54953abc5f741ebd69a87da3b87f3630c5073d26d2d4426cc9\n",
      "Successfully built brian2\n",
      "Installing collected packages: setuptools-scm, nose, brian2, mock, neurodynex3\n",
      "Successfully installed brian2-2.3 mock-4.0.3 neurodynex3-1.0.3 nose-1.3.7 setuptools-scm-6.0.1\n"
     ]
    }
   ],
   "source": [
    "# start with importing the libraries we need\n",
    "!pip install neurodynex3\n",
    "%matplotlib inline  \n",
    "import matplotlib.pyplot as plt\n",
    "import numpy as np\n",
    "from neurodynex3.hopfield_network import pattern_tools, plot_tools, network\n",
    "import neurodynex3.hopfield_network.pattern_tools as tools"
   ]
  },
  {
   "cell_type": "markdown",
   "metadata": {
    "id": "n0OpPm6U7DJ6"
   },
   "source": [
    "# Miniproject: Hopfield Networks\n",
    "\n",
    "# 1. Theory\n",
    "\n",
    "See report for theory answers"
   ]
  },
  {
   "cell_type": "code",
   "execution_count": 2,
   "metadata": {
    "colab": {
     "base_uri": "https://localhost:8080/",
     "height": 1000
    },
    "id": "H5Fbfgr77DJ8",
    "outputId": "55a03526-ef68-46f4-a4bd-56fe5127bae3"
   },
   "outputs": [
    {
     "data": {
      "image/png": "[encoded data removed]",
      "text/plain": [
       "<Figure size 432x288 with 4 Axes>"
      ]
     },
     "metadata": {
      "needs_background": "light",
      "tags": []
     },
     "output_type": "display_data"
    },
    {
     "data": {
      "image/png": "[encoded data removed]",
      "text/plain": [
       "<Figure size 432x288 with 2 Axes>"
      ]
     },
     "metadata": {
      "needs_background": "light",
      "tags": []
     },
     "output_type": "display_data"
    },
    {
     "name": "stdout",
     "output_type": "stream",
     "text": [
      "[array([1, 1, 0, 0, 0, 1, 0, 1, 0, 1, 0, 1, 0, 1, 1, 1, 0, 0, 0, 0, 1, 1,\n",
      "       1, 0, 1, 1, 0, 0, 1, 0, 0, 0, 1, 0, 1, 1, 1, 0, 1, 1, 0, 0, 0, 0,\n",
      "       0, 1, 1, 0, 1, 0, 0, 0, 0, 1, 0, 0, 1, 0, 1, 0, 1, 0, 0, 1, 1, 0,\n",
      "       1, 1, 1, 1, 0, 1, 1, 1, 1, 0, 0, 1, 0, 0, 0, 0, 1, 1, 1, 1, 0, 1,\n",
      "       1, 1, 0, 0, 1, 0, 1, 1, 1, 1, 1, 0]), array([1., 1., 1., 1., 1., 1., 1., 1., 1., 1., 1., 1., 1., 1., 1., 1., 1.,\n",
      "       1., 1., 1., 1., 1., 1., 1., 1., 1., 1., 1., 1., 1., 1., 1., 1., 1.,\n",
      "       1., 1., 1., 1., 1., 1., 1., 1., 1., 1., 1., 1., 1., 1., 1., 1., 1.,\n",
      "       1., 1., 1., 1., 1., 1., 1., 1., 1., 1., 1., 1., 1., 1., 1., 1., 1.,\n",
      "       1., 1., 1., 1., 1., 1., 1., 1., 1., 1., 1., 1., 1., 1., 1., 1., 1.,\n",
      "       1., 1., 1., 1., 1., 1., 1., 1., 1., 1., 1., 1., 1., 1., 1.]), array([1., 1., 1., 1., 1., 1., 1., 1., 1., 1., 1., 1., 1., 1., 1., 1., 1.,\n",
      "       1., 1., 1., 1., 1., 1., 1., 1., 1., 1., 1., 1., 1., 1., 1., 1., 1.,\n",
      "       1., 1., 1., 1., 1., 1., 1., 1., 1., 1., 1., 1., 1., 1., 1., 1., 1.,\n",
      "       1., 1., 1., 1., 1., 1., 1., 1., 1., 1., 1., 1., 1., 1., 1., 1., 1.,\n",
      "       1., 1., 1., 1., 1., 1., 1., 1., 1., 1., 1., 1., 1., 1., 1., 1., 1.,\n",
      "       1., 1., 1., 1., 1., 1., 1., 1., 1., 1., 1., 1., 1., 1., 1.]), array([1., 1., 1., 1., 1., 1., 1., 1., 1., 1., 1., 1., 1., 1., 1., 1., 1.,\n",
      "       1., 1., 1., 1., 1., 1., 1., 1., 1., 1., 1., 1., 1., 1., 1., 1., 1.,\n",
      "       1., 1., 1., 1., 1., 1., 1., 1., 1., 1., 1., 1., 1., 1., 1., 1., 1.,\n",
      "       1., 1., 1., 1., 1., 1., 1., 1., 1., 1., 1., 1., 1., 1., 1., 1., 1.,\n",
      "       1., 1., 1., 1., 1., 1., 1., 1., 1., 1., 1., 1., 1., 1., 1., 1., 1.,\n",
      "       1., 1., 1., 1., 1., 1., 1., 1., 1., 1., 1., 1., 1., 1., 1.]), array([1., 1., 1., 1., 1., 1., 1., 1., 1., 1., 1., 1., 1., 1., 1., 1., 1.,\n",
      "       1., 1., 1., 1., 1., 1., 1., 1., 1., 1., 1., 1., 1., 1., 1., 1., 1.,\n",
      "       1., 1., 1., 1., 1., 1., 1., 1., 1., 1., 1., 1., 1., 1., 1., 1., 1.,\n",
      "       1., 1., 1., 1., 1., 1., 1., 1., 1., 1., 1., 1., 1., 1., 1., 1., 1.,\n",
      "       1., 1., 1., 1., 1., 1., 1., 1., 1., 1., 1., 1., 1., 1., 1., 1., 1.,\n",
      "       1., 1., 1., 1., 1., 1., 1., 1., 1., 1., 1., 1., 1., 1., 1.])]\n",
      "\n"
     ]
    },
    {
     "data": {
      "image/png": "[encoded data removed]",
      "text/plain": [
       "<Figure size 432x288 with 1 Axes>"
      ]
     },
     "metadata": {
      "needs_background": "light",
      "tags": []
     },
     "output_type": "display_data"
    },
    {
     "data": {
      "image/png": "[encoded data removed]",
      "text/plain": [
       "<Figure size 432x288 with 10 Axes>"
      ]
     },
     "metadata": {
      "needs_background": "light",
      "tags": []
     },
     "output_type": "display_data"
    },
    {
     "name": "stdout",
     "output_type": "stream",
     "text": [
      "[1. 1. 1. 1. 1. 1. 1. 1. 1. 1. 1. 1. 1. 1. 1. 1. 1. 1. 1. 1. 1. 1. 1. 1.\n",
      " 1. 1. 1. 1. 1. 1. 1. 1. 1. 1. 1. 1. 1. 1. 1. 1. 1. 1. 1. 1. 1. 1. 1. 1.\n",
      " 1. 1. 1. 1. 1. 1. 1. 1. 1. 1. 1. 1. 1. 1. 1. 1. 1. 1. 1. 1. 1. 1. 1. 1.\n",
      " 1. 1. 1. 1. 1. 1. 1. 1. 1. 1. 1. 1. 1. 1. 1. 1. 1. 1. 1. 1. 1. 1. 1. 1.\n",
      " 1. 1. 1. 1.]\n"
     ]
    }
   ],
   "source": [
    "# Running a simulation for question 1.2 to highlight issue with having pattern values equal to 0 and 1\n",
    "\n",
    "pattern_size = 10 # Pattern size, chosen so that pattern_size**2 = 100 = N\n",
    "\n",
    "# create an instance of the class HopfieldNetwork\n",
    "hopfield_net = network.HopfieldNetwork(nr_neurons= pattern_size**2)\n",
    "# instantiate a pattern factory\n",
    "factory = pattern_tools.PatternFactory(pattern_size, pattern_size)\n",
    "\n",
    "pattern_list = []\n",
    "new_pattern_list = []\n",
    "\n",
    "# add random patterns to the list\n",
    "pattern_list.extend(factory.create_random_pattern_list(nr_patterns=4, on_probability=0.5))\n",
    "\n",
    "for i, pattern in enumerate(pattern_list):\n",
    "    pattern = np.reshape(pattern, (1,pattern_size**2))\n",
    "    for k in range(len(pattern[0])):\n",
    "        if pattern[0][k] == -1:\n",
    "            pattern[0][k] = 0 # Changing the pattern values so that they are equalt to either 0 or 1\n",
    "    pattern = np.reshape(pattern, (pattern_size, pattern_size))\n",
    "    new_pattern_list.append(pattern)\n",
    "\n",
    "plot_tools.plot_pattern_list(new_pattern_list)\n",
    "# how similar are the random patterns and the checkerboard? Check the overlaps\n",
    "overlap_matrix = pattern_tools.compute_overlap_matrix(new_pattern_list)\n",
    "plot_tools.plot_overlap_matrix(overlap_matrix)\n",
    "\n",
    "# let the hopfield network \"learn\" the patterns. Note: they are not stored\n",
    "# explicitly but only network weights are updated !\n",
    "hopfield_net.store_patterns(new_pattern_list)\n",
    "\n",
    "plt.figure()\n",
    "plt.hist(hopfield_net.weights.flatten(),10)\n",
    "\n",
    "hopfield_net.set_state_from_pattern(new_pattern_list[0])\n",
    "#hopfield_net.set_state_from_pattern(0*new_pattern_list[0]) # even if we set the pattern to only zero values, all the values are converge to 1\n",
    "\n",
    "# from this initial state, let the network dynamics evolve. \n",
    "states = hopfield_net.run_with_monitoring(nr_steps=4)\n",
    "print(states)\n",
    "\n",
    "# each network state is a vector. reshape it to the same shape used to create the patterns.\n",
    "states_as_patterns = factory.reshape_patterns(states)\n",
    "# plot the states of the network\n",
    "plot_tools.plot_state_sequence_and_overlap(states_as_patterns, new_pattern_list, reference_idx=0, suptitle=\"Network dynamics\")\n",
    "\n",
    "\n",
    "# plt.figure()\n",
    "# plt.hist(hopfield_net.weights.flatten(), 20)\n",
    "\n",
    "print(states[4])"
   ]
  },
  {
   "cell_type": "markdown",
   "metadata": {
    "id": "yYdelbXE7DKB"
   },
   "source": [
    "# 2. Capacity\n",
    "\n",
    "### Question 2.2."
   ]
  },
  {
   "cell_type": "code",
   "execution_count": 3,
   "metadata": {
    "id": "UmqSIWTO7DKB"
   },
   "outputs": [],
   "source": [
    "# Global variables\n",
    "\n",
    "N = 100 # number of neurons considering for our pattern\n",
    "T = 5 # time-steps for effectively stored patterns\n",
    "\n",
    "pattern_size = 10 # Pattern size, chosen so that pattern_size**2 = 100 = N\n",
    "\n",
    "# To obtain the probability that the first pattern is  is effectivley stored, we iterate the script a certain\n",
    "# amount of time (number of hopfield models generated to estimate probability)\n",
    "running_iterations_slow = 100\n",
    "running_iterations_fast = 1000"
   ]
  },
  {
   "cell_type": "markdown",
   "metadata": {
    "id": "Gp4HTBiT7DKC"
   },
   "source": [
    "#### Using code from neurodynex3 Python library:\n"
   ]
  },
  {
   "cell_type": "code",
   "execution_count": 4,
   "metadata": {
    "id": "Hg5PFd7R7DKC"
   },
   "outputs": [],
   "source": [
    "# Number of patterns we are currently working with: (we are zooming in on the beginning by taking\n",
    "# more points and thus have more precision there)\n",
    "num_pattern_list_beginning = np.arange(1,16, 1)\n",
    "num_pattern_list_end = np.arange(20, 55, 5)\n",
    "num_pattern_list = np.concatenate((num_pattern_list_beginning, num_pattern_list_end), axis=None)\n",
    "# When increasing number of patterns, retrieving probability\n",
    "probability_list = []"
   ]
  },
  {
   "cell_type": "code",
   "execution_count": 5,
   "metadata": {
    "colab": {
     "base_uri": "https://localhost:8080/"
    },
    "id": "Dza-E-ob7DKC",
    "outputId": "240bfa92-13f9-46c4-adc8-cb63e31bd009"
   },
   "outputs": [
    {
     "name": "stdout",
     "output_type": "stream",
     "text": [
      "[ 1  2  3  4  5  6  7  8  9 10 11 12 13 14 15 20 25 30 35 40 45 50]\n"
     ]
    }
   ],
   "source": [
    "print(num_pattern_list)"
   ]
  },
  {
   "cell_type": "code",
   "execution_count": null,
   "metadata": {
    "colab": {
     "base_uri": "https://localhost:8080/"
    },
    "id": "iAK1mhIG7DKD",
    "outputId": "3bc9eeae-180f-4bd2-a289-a46e84333ac4",
    "scrolled": true
   },
   "outputs": [
    {
     "name": "stdout",
     "output_type": "stream",
     "text": [
      "Running for 1 patterns...\n",
      "Probability that our pattern was correctly retrieved:1.0\n",
      "Running for 2 patterns...\n",
      "Probability that our pattern was correctly retrieved:1.0\n",
      "Running for 3 patterns...\n",
      "Probability that our pattern was correctly retrieved:1.0\n",
      "Running for 4 patterns...\n",
      "Probability that our pattern was correctly retrieved:1.0\n",
      "Running for 5 patterns...\n",
      "Probability that our pattern was correctly retrieved:1.0\n",
      "Running for 6 patterns...\n",
      "Probability that our pattern was correctly retrieved:1.0\n",
      "Running for 7 patterns...\n",
      "Probability that our pattern was correctly retrieved:1.0\n",
      "Running for 8 patterns...\n",
      "Probability that our pattern was correctly retrieved:1.0\n",
      "Running for 9 patterns...\n",
      "Probability that our pattern was correctly retrieved:1.0\n",
      "Running for 10 patterns...\n",
      "Probability that our pattern was correctly retrieved:1.0\n",
      "Running for 11 patterns...\n",
      "Probability that our pattern was correctly retrieved:1.0\n",
      "Running for 12 patterns...\n",
      "Probability that our pattern was correctly retrieved:1.0\n",
      "Running for 13 patterns...\n",
      "Probability that our pattern was correctly retrieved:1.0\n",
      "Running for 14 patterns...\n",
      "Probability that our pattern was correctly retrieved:1.0\n",
      "Running for 15 patterns...\n",
      "Probability that our pattern was correctly retrieved:1.0\n",
      "Running for 20 patterns...\n",
      "Probability that our pattern was correctly retrieved:1.0\n",
      "Running for 25 patterns...\n",
      "Probability that our pattern was correctly retrieved:1.0\n",
      "Running for 30 patterns...\n",
      "Probability that our pattern was correctly retrieved:0.98\n",
      "Running for 35 patterns...\n",
      "Probability that our pattern was correctly retrieved:1.0\n",
      "Running for 40 patterns...\n",
      "Probability that our pattern was correctly retrieved:0.99\n",
      "Running for 45 patterns...\n",
      "Probability that our pattern was correctly retrieved:0.99\n",
      "Running for 50 patterns...\n",
      "Probability that our pattern was correctly retrieved:0.92\n"
     ]
    }
   ],
   "source": [
    "for P in num_pattern_list:\n",
    "    \n",
    "    print('Running for '+str(P)+' patterns...')\n",
    "    # create an instance of the class HopfieldNetwork\n",
    "    hopfield_net = network.HopfieldNetwork(nr_neurons= pattern_size**2)\n",
    "\n",
    "    # instantiate a pattern factory\n",
    "    factory = pattern_tools.PatternFactory(pattern_size, pattern_size)\n",
    "\n",
    "    identical_count = 0\n",
    "    \n",
    "    for i in range(running_iterations_slow): # run the script some times\n",
    "\n",
    "        pattern_list = []\n",
    "        # add random patterns to the list (this value changes to obtain different probabilities for our plot)\n",
    "        pattern_list.extend(factory.create_random_pattern_list(nr_patterns=P, on_probability=0.5))\n",
    "\n",
    "        # let the hopfield network \"learn\" the patterns. Note: they are not stored\n",
    "        # explicitly but only network weights are updated !\n",
    "        hopfield_net.store_patterns(pattern_list)\n",
    "\n",
    "        # initialize with original pattern\n",
    "        hopfield_net.set_state_from_pattern(pattern_list[0])\n",
    "        # from this initial state, let the network dynamics evolve. \n",
    "        states = hopfield_net.run_with_monitoring(nr_steps=T-1) # T-1 gets us to state 5\n",
    "\n",
    "        # each network state is a vector. reshape it to the same shape used to create the patterns.\n",
    "        states_as_patterns = factory.reshape_patterns(states)\n",
    "        # plot the states of the network\n",
    "        # plot_tools.plot_state_sequence_and_overlap(states_as_patterns, pattern_list, reference_idx=0, suptitle=\"Network dynamics\")\n",
    "    \n",
    "        overlap_list = []\n",
    "        \n",
    "        overlap_list = pattern_tools.compute_overlap_list(states_as_patterns[-1], pattern_list)\n",
    "        max_overlap = np.argmax(overlap_list)\n",
    " \n",
    "        if (max_overlap == 0):\n",
    "            identical_count += 1\n",
    "        # More restrictive definition of stored patterns\n",
    "        #if (np.sum(states_as_patterns[-1] == pattern_list[0])) == 100:\n",
    "            # We have identical patterns, one neuron state was flipped after 5 iterations\n",
    "            #identical_count += 1\n",
    "\n",
    "    proba_correct = identical_count / running_iterations_slow\n",
    "    print(\"Probability that our pattern was correctly retrieved:\" +str(proba_correct))\n",
    "\n",
    "    probability_list.append(proba_correct)"
   ]
  },
  {
   "cell_type": "code",
   "execution_count": null,
   "metadata": {
    "colab": {
     "base_uri": "https://localhost:8080/",
     "height": 295
    },
    "id": "U3s3ZNM37DKE",
    "outputId": "cc97fc63-2f05-4063-9726-c1d487a4bc07"
   },
   "outputs": [
    {
     "data": {
      "image/png": "[encoded data removed]",
      "text/plain": [
       "<Figure size 432x288 with 1 Axes>"
      ]
     },
     "metadata": {
      "tags": []
     },
     "output_type": "display_data"
    }
   ],
   "source": [
    "# Plotting the probability for pattern p^1 to be effectively stored, as a function of the number of patterns\n",
    "\n",
    "plt.figure()\n",
    "plt.scatter(num_pattern_list, probability_list)\n",
    "plt.xlabel('Number of patterns')\n",
    "plt.ylabel('Probability')\n",
    "plt.title('Probability of effectively storing pattern p^1 as a function of the number of patterns')\n",
    "plt.grid(True)"
   ]
  },
  {
   "cell_type": "markdown",
   "metadata": {
    "id": "9BHxNi-97DKF"
   },
   "source": [
    "For the slow Hopfield network, we used considerably less iterations given the computation time.  As a result, we have a higher variability."
   ]
  },
  {
   "cell_type": "markdown",
   "metadata": {
    "id": "CuR3Cddp7DKF"
   },
   "source": [
    "#### Implementing alternative and more efficient method to store patterns: and checking if weights are still the same"
   ]
  },
  {
   "cell_type": "code",
   "execution_count": 6,
   "metadata": {
    "id": "_IKEaogj7DKG"
   },
   "outputs": [],
   "source": [
    "# Using alternative and more efficient way to store patterns\n",
    "\n",
    "class Hopfield_fast(network.HopfieldNetwork):\n",
    "    def __init__(self, nr_neurons):\n",
    "        super().__init__(nr_neurons)\n",
    "    \n",
    "    def store_patterns(self, pattern_list):\n",
    "        # check if the input is a list or a numpy array\n",
    "        if type(pattern_list) == list:\n",
    "            pattern_list = np.array(pattern_list)\n",
    "        pattern_list = pattern_list.reshape(pattern_list.shape[0],-1)\n",
    "        pattern_size = pattern_list.shape[1]\n",
    "        # fill in the following line for make the Hopfield_fast class to run\n",
    "        self.weights = 1 / pattern_size  * np.einsum('ij,jk->ik', pattern_list.T, pattern_list) \n",
    "        np.fill_diagonal(self.weights, 0)"
   ]
  },
  {
   "cell_type": "code",
   "execution_count": 7,
   "metadata": {
    "colab": {
     "base_uri": "https://localhost:8080/"
    },
    "id": "rwohrf_B7DKG",
    "outputId": "d6c03637-a796-476f-ee23-fbb46d1ced7e"
   },
   "outputs": [
    {
     "name": "stdout",
     "output_type": "stream",
     "text": [
      "[[ True  True  True ...  True  True  True]\n",
      " [ True  True  True ...  True  True  True]\n",
      " [ True  True  True ...  True  True  True]\n",
      " ...\n",
      " [ True  True  True ...  True  True  True]\n",
      " [ True  True  True ...  True  True  True]\n",
      " [ True  True  True ...  True  True  True]]\n",
      "All the weights are the same? True\n"
     ]
    }
   ],
   "source": [
    "# Before you continue test that your weights are correct (compare with the neurodynex version)\n",
    "P = 4\n",
    "slow_hopfield_net = network.HopfieldNetwork(nr_neurons= pattern_size**2)\n",
    "fast_hopfield_net = Hopfield_fast(pattern_size**2)\n",
    "\n",
    "factory = pattern_tools.PatternFactory(pattern_size, pattern_size)\n",
    "\n",
    "pattern_list = []\n",
    "# add random patterns to the list (this value changes to obtain different probabilities for our plot)\n",
    "pattern_list.extend(factory.create_random_pattern_list(nr_patterns=P, on_probability=0.5))\n",
    "\n",
    "# let the hopfield network \"learn\" the patterns. Note: they are not stored\n",
    "# explicitly but only network weights are updated !\n",
    "slow_hopfield_net.store_patterns(pattern_list)\n",
    "fast_hopfield_net.store_patterns(pattern_list)\n",
    "\n",
    "print(slow_hopfield_net.weights == fast_hopfield_net.weights)\n",
    "print('All the weights are the same? '+str((slow_hopfield_net.weights == fast_hopfield_net.weights).all()))"
   ]
  },
  {
   "cell_type": "markdown",
   "metadata": {
    "id": "M5W3Jv1-7DKH"
   },
   "source": [
    "#### Obtaining the plot using alternative and more efficient method to store patterns:"
   ]
  },
  {
   "cell_type": "code",
   "execution_count": 8,
   "metadata": {
    "colab": {
     "base_uri": "https://localhost:8080/"
    },
    "id": "C9jr-zcX7DKH",
    "outputId": "2ccc3b1a-0b04-40aa-d555-1d91d19083ee"
   },
   "outputs": [
    {
     "name": "stdout",
     "output_type": "stream",
     "text": [
      "[  1   1   2   3   4   5   6   7   8   9  10  11  12  13  14  15  16  17\n",
      "  18  19  20  21  22  23  24  25  26  27  28  29  30  31  32  33  34  35\n",
      "  36  37  38  39  40  41  42  43  44  45  46  47  48  49  50  51  52  53\n",
      "  54  55  56  57  58  59  60  61  62  63  64  65  66  67  68  69  70  71\n",
      "  72  73  74  75  76  77  78  79  80  81  82  83  84  85  86  87  88  89\n",
      "  90  91  92  93  94  95  96  97  98  99 100]\n"
     ]
    }
   ],
   "source": [
    "# Number of patterns we are currently working with:\n",
    "num_pattern_list = np.arange(0, 101, 1)\n",
    "#num_pattern_list = np.arange(0, 1001, 1)\n",
    "num_pattern_list[0] = 1 # Solving issue with zero patterns...\n",
    "print(num_pattern_list)\n",
    "\n",
    "# When increasing number of patterns, retrieving probability\n",
    "fast_probability_list = []"
   ]
  },
  {
   "cell_type": "code",
   "execution_count": null,
   "metadata": {
    "colab": {
     "base_uri": "https://localhost:8080/"
    },
    "id": "OeL0oOAn7DKI",
    "outputId": "df593f6b-d3cd-4a2e-ed20-2ae28b1794a8",
    "scrolled": true
   },
   "outputs": [
    {
     "name": "stdout",
     "output_type": "stream",
     "text": [
      "Running for 1 patterns...\n",
      "Probability that our pattern was correctly retrieved:1.0\n",
      "Running for 1 patterns...\n",
      "Probability that our pattern was correctly retrieved:1.0\n",
      "Running for 2 patterns...\n",
      "Probability that our pattern was correctly retrieved:1.0\n",
      "Running for 3 patterns...\n",
      "Probability that our pattern was correctly retrieved:1.0\n",
      "Running for 4 patterns...\n",
      "Probability that our pattern was correctly retrieved:1.0\n",
      "Running for 5 patterns...\n",
      "Probability that our pattern was correctly retrieved:1.0\n",
      "Running for 6 patterns...\n",
      "Probability that our pattern was correctly retrieved:1.0\n",
      "Running for 7 patterns...\n",
      "Probability that our pattern was correctly retrieved:1.0\n",
      "Running for 8 patterns...\n",
      "Probability that our pattern was correctly retrieved:1.0\n",
      "Running for 9 patterns...\n",
      "Probability that our pattern was correctly retrieved:1.0\n",
      "Running for 10 patterns...\n",
      "Probability that our pattern was correctly retrieved:1.0\n",
      "Running for 11 patterns...\n",
      "Probability that our pattern was correctly retrieved:1.0\n",
      "Running for 12 patterns...\n",
      "Probability that our pattern was correctly retrieved:1.0\n",
      "Running for 13 patterns...\n",
      "Probability that our pattern was correctly retrieved:1.0\n",
      "Running for 14 patterns...\n",
      "Probability that our pattern was correctly retrieved:1.0\n",
      "Running for 15 patterns...\n",
      "Probability that our pattern was correctly retrieved:1.0\n",
      "Running for 16 patterns...\n",
      "Probability that our pattern was correctly retrieved:1.0\n",
      "Running for 17 patterns...\n",
      "Probability that our pattern was correctly retrieved:1.0\n",
      "Running for 18 patterns...\n",
      "Probability that our pattern was correctly retrieved:0.999\n",
      "Running for 19 patterns...\n",
      "Probability that our pattern was correctly retrieved:1.0\n",
      "Running for 20 patterns...\n",
      "Probability that our pattern was correctly retrieved:1.0\n",
      "Running for 21 patterns...\n",
      "Probability that our pattern was correctly retrieved:0.996\n",
      "Running for 22 patterns...\n",
      "Probability that our pattern was correctly retrieved:0.996\n",
      "Running for 23 patterns...\n",
      "Probability that our pattern was correctly retrieved:0.997\n",
      "Running for 24 patterns...\n",
      "Probability that our pattern was correctly retrieved:0.998\n",
      "Running for 25 patterns...\n",
      "Probability that our pattern was correctly retrieved:0.999\n",
      "Running for 26 patterns...\n",
      "Probability that our pattern was correctly retrieved:0.996\n",
      "Running for 27 patterns...\n",
      "Probability that our pattern was correctly retrieved:0.998\n",
      "Running for 28 patterns...\n",
      "Probability that our pattern was correctly retrieved:0.99\n",
      "Running for 29 patterns...\n",
      "Probability that our pattern was correctly retrieved:0.991\n",
      "Running for 30 patterns...\n",
      "Probability that our pattern was correctly retrieved:0.991\n",
      "Running for 31 patterns...\n",
      "Probability that our pattern was correctly retrieved:0.992\n",
      "Running for 32 patterns...\n",
      "Probability that our pattern was correctly retrieved:0.98\n",
      "Running for 33 patterns...\n",
      "Probability that our pattern was correctly retrieved:0.983\n",
      "Running for 34 patterns...\n",
      "Probability that our pattern was correctly retrieved:0.971\n",
      "Running for 35 patterns...\n",
      "Probability that our pattern was correctly retrieved:0.969\n",
      "Running for 36 patterns...\n",
      "Probability that our pattern was correctly retrieved:0.972\n",
      "Running for 37 patterns...\n",
      "Probability that our pattern was correctly retrieved:0.981\n",
      "Running for 38 patterns...\n",
      "Probability that our pattern was correctly retrieved:0.963\n",
      "Running for 39 patterns...\n",
      "Probability that our pattern was correctly retrieved:0.956\n",
      "Running for 40 patterns...\n",
      "Probability that our pattern was correctly retrieved:0.956\n",
      "Running for 41 patterns...\n",
      "Probability that our pattern was correctly retrieved:0.959\n",
      "Running for 42 patterns...\n",
      "Probability that our pattern was correctly retrieved:0.953\n",
      "Running for 43 patterns...\n",
      "Probability that our pattern was correctly retrieved:0.946\n",
      "Running for 44 patterns...\n",
      "Probability that our pattern was correctly retrieved:0.96\n",
      "Running for 45 patterns...\n",
      "Probability that our pattern was correctly retrieved:0.945\n",
      "Running for 46 patterns...\n",
      "Probability that our pattern was correctly retrieved:0.921\n",
      "Running for 47 patterns...\n",
      "Probability that our pattern was correctly retrieved:0.937\n",
      "Running for 48 patterns...\n",
      "Probability that our pattern was correctly retrieved:0.941\n",
      "Running for 49 patterns...\n",
      "Probability that our pattern was correctly retrieved:0.915\n",
      "Running for 50 patterns...\n",
      "Probability that our pattern was correctly retrieved:0.925\n",
      "Running for 51 patterns...\n",
      "Probability that our pattern was correctly retrieved:0.916\n",
      "Running for 52 patterns...\n",
      "Probability that our pattern was correctly retrieved:0.915\n",
      "Running for 53 patterns...\n",
      "Probability that our pattern was correctly retrieved:0.898\n",
      "Running for 54 patterns...\n",
      "Probability that our pattern was correctly retrieved:0.929\n",
      "Running for 55 patterns...\n",
      "Probability that our pattern was correctly retrieved:0.899\n",
      "Running for 56 patterns...\n",
      "Probability that our pattern was correctly retrieved:0.882\n",
      "Running for 57 patterns...\n",
      "Probability that our pattern was correctly retrieved:0.905\n",
      "Running for 58 patterns...\n",
      "Probability that our pattern was correctly retrieved:0.885\n",
      "Running for 59 patterns...\n",
      "Probability that our pattern was correctly retrieved:0.897\n",
      "Running for 60 patterns...\n",
      "Probability that our pattern was correctly retrieved:0.902\n",
      "Running for 61 patterns...\n",
      "Probability that our pattern was correctly retrieved:0.903\n",
      "Running for 62 patterns...\n",
      "Probability that our pattern was correctly retrieved:0.886\n",
      "Running for 63 patterns...\n",
      "Probability that our pattern was correctly retrieved:0.883\n",
      "Running for 64 patterns...\n",
      "Probability that our pattern was correctly retrieved:0.895\n",
      "Running for 65 patterns...\n",
      "Probability that our pattern was correctly retrieved:0.883\n",
      "Running for 66 patterns...\n",
      "Probability that our pattern was correctly retrieved:0.865\n",
      "Running for 67 patterns...\n",
      "Probability that our pattern was correctly retrieved:0.866\n",
      "Running for 68 patterns...\n",
      "Probability that our pattern was correctly retrieved:0.854\n",
      "Running for 69 patterns...\n",
      "Probability that our pattern was correctly retrieved:0.884\n",
      "Running for 70 patterns...\n",
      "Probability that our pattern was correctly retrieved:0.858\n",
      "Running for 71 patterns...\n",
      "Probability that our pattern was correctly retrieved:0.859\n",
      "Running for 72 patterns...\n",
      "Probability that our pattern was correctly retrieved:0.859\n",
      "Running for 73 patterns...\n",
      "Probability that our pattern was correctly retrieved:0.874\n",
      "Running for 74 patterns...\n",
      "Probability that our pattern was correctly retrieved:0.861\n",
      "Running for 75 patterns...\n",
      "Probability that our pattern was correctly retrieved:0.848\n",
      "Running for 76 patterns...\n",
      "Probability that our pattern was correctly retrieved:0.848\n",
      "Running for 77 patterns...\n",
      "Probability that our pattern was correctly retrieved:0.868\n",
      "Running for 78 patterns...\n",
      "Probability that our pattern was correctly retrieved:0.849\n",
      "Running for 79 patterns...\n",
      "Probability that our pattern was correctly retrieved:0.828\n",
      "Running for 80 patterns...\n",
      "Probability that our pattern was correctly retrieved:0.851\n",
      "Running for 81 patterns...\n",
      "Probability that our pattern was correctly retrieved:0.85\n",
      "Running for 82 patterns...\n",
      "Probability that our pattern was correctly retrieved:0.819\n",
      "Running for 83 patterns...\n",
      "Probability that our pattern was correctly retrieved:0.85\n",
      "Running for 84 patterns...\n",
      "Probability that our pattern was correctly retrieved:0.834\n",
      "Running for 85 patterns...\n",
      "Probability that our pattern was correctly retrieved:0.858\n",
      "Running for 86 patterns...\n",
      "Probability that our pattern was correctly retrieved:0.837\n",
      "Running for 87 patterns...\n",
      "Probability that our pattern was correctly retrieved:0.859\n",
      "Running for 88 patterns...\n",
      "Probability that our pattern was correctly retrieved:0.822\n",
      "Running for 89 patterns...\n",
      "Probability that our pattern was correctly retrieved:0.829\n",
      "Running for 90 patterns...\n",
      "Probability that our pattern was correctly retrieved:0.843\n",
      "Running for 91 patterns...\n",
      "Probability that our pattern was correctly retrieved:0.818\n",
      "Running for 92 patterns...\n",
      "Probability that our pattern was correctly retrieved:0.835\n",
      "Running for 93 patterns...\n",
      "Probability that our pattern was correctly retrieved:0.83\n",
      "Running for 94 patterns...\n",
      "Probability that our pattern was correctly retrieved:0.812\n",
      "Running for 95 patterns...\n",
      "Probability that our pattern was correctly retrieved:0.821\n",
      "Running for 96 patterns...\n",
      "Probability that our pattern was correctly retrieved:0.81\n",
      "Running for 97 patterns...\n",
      "Probability that our pattern was correctly retrieved:0.826\n",
      "Running for 98 patterns...\n",
      "Probability that our pattern was correctly retrieved:0.827\n",
      "Running for 99 patterns...\n",
      "Probability that our pattern was correctly retrieved:0.805\n",
      "Running for 100 patterns...\n",
      "Probability that our pattern was correctly retrieved:0.823\n"
     ]
    }
   ],
   "source": [
    "for P in num_pattern_list:\n",
    "    \n",
    "    print('Running for '+str(P)+' patterns...')\n",
    "    # create an instance of the class HopfieldNetwork\n",
    "    fast_hopfield_net = Hopfield_fast(nr_neurons= pattern_size**2)\n",
    "    \n",
    "    # instantiate a pattern factory\n",
    "    factory = pattern_tools.PatternFactory(pattern_size, pattern_size)\n",
    "\n",
    "    identical_count = 0\n",
    "    \n",
    "    for i in range(running_iterations_fast): # run the script some times\n",
    "\n",
    "        pattern_list = []\n",
    "        # add random patterns to the list (this value changes to obtain different probabilities for our plot)\n",
    "        pattern_list.extend(factory.create_random_pattern_list(nr_patterns=P, on_probability=0.5))\n",
    "\n",
    "        # let the hopfield network \"learn\" the patterns. Note: they are not stored\n",
    "        # explicitly but only network weights are updated !\n",
    "        fast_hopfield_net.store_patterns(pattern_list)\n",
    "\n",
    "        # initialize with original pattern\n",
    "        fast_hopfield_net.set_state_from_pattern(pattern_list[0])\n",
    "        # from this initial state, let the network dynamics evolve. \n",
    "        states = fast_hopfield_net.run_with_monitoring(nr_steps=T-1) # T-1 gets us to state 5\n",
    "\n",
    "        # each network state is a vector. reshape it to the same shape used to create the patterns.\n",
    "        states_as_patterns = factory.reshape_patterns(states)\n",
    "        # plot the states of the network\n",
    "        # plot_tools.plot_state_sequence_and_overlap(states_as_patterns, pattern_list, reference_idx=0, suptitle=\"Network dynamics\")\n",
    "\n",
    "        overlap_list = []\n",
    "        \n",
    "        overlap_list = pattern_tools.compute_overlap_list(states_as_patterns[-1], pattern_list)\n",
    "        max_overlap = np.argmax(overlap_list)\n",
    " \n",
    "        if (max_overlap == 0):\n",
    "            identical_count += 1\n",
    "        # More restrictive definition of stored patterns\n",
    "        #if (np.sum(states_as_patterns[-1] == pattern_list[0])) == 100:\n",
    "            # We have identical patterns, one neuron state was flipped after 5 iterations\n",
    "            #identical_count += 1\n",
    "\n",
    "    proba_correct = identical_count / running_iterations_fast\n",
    "    print(\"Probability that our pattern was correctly retrieved:\" +str(proba_correct))\n",
    "\n",
    "    fast_probability_list.append(proba_correct)"
   ]
  },
  {
   "cell_type": "code",
   "execution_count": null,
   "metadata": {
    "colab": {
     "base_uri": "https://localhost:8080/",
     "height": 295
    },
    "id": "2um5LriG7DKI",
    "outputId": "e07e9f97-c141-4b4e-e408-a7347c01c70a"
   },
   "outputs": [
    {
     "data": {
      "image/png": "[encoded data removed]",
      "text/plain": [
       "<Figure size 432x288 with 1 Axes>"
      ]
     },
     "metadata": {
      "tags": []
     },
     "output_type": "display_data"
    }
   ],
   "source": [
    "# Plotting the probability for pattern p^1 to be effectively stored, as a function of the number of patterns\n",
    "\n",
    "plt.figure()\n",
    "plt.scatter(num_pattern_list, fast_probability_list)\n",
    "plt.xlabel('Number of patterns')\n",
    "plt.ylabel('Probability')\n",
    "plt.title('Probability of effectively storing pattern p^1 as a function of the number of patterns')\n",
    "plt.grid(True)\n",
    "plt.savefig('question22.png', bbox_inches='tight')"
   ]
  },
  {
   "cell_type": "markdown",
   "metadata": {},
   "source": [
    "With the einsum, we are able to speed up the computation and more easily increase the number of iterations that we run the algorithm for.  This enables us to reduce the variability.  In the plot above, the value of running_iterations_fast was increased to 10000.  This did take a long time to run, and therefore we reduced it to 1,000 for the following questions, given we had also to run it for several value (whether it be $\\beta$ or k)"
   ]
  },
  {
   "cell_type": "markdown",
   "metadata": {
    "id": "bR_kvubJ7DKJ"
   },
   "source": [
    "### Question 2.3."
   ]
  },
  {
   "cell_type": "code",
   "execution_count": null,
   "metadata": {
    "colab": {
     "base_uri": "https://localhost:8080/"
    },
    "id": "5kAHPMJB7DKJ",
    "outputId": "17a146b6-957b-41d9-af01-00eb4729e67c"
   },
   "outputs": [
    {
     "name": "stdout",
     "output_type": "stream",
     "text": [
      "From the previous question, the empirical capacity is: 0.32\n"
     ]
    }
   ],
   "source": [
    "# Extracting empirical capacity:\n",
    "\n",
    "# We are looking for the maximal number of patterns that the network can store with P = 0.99\n",
    "\n",
    "fast_probability_list_array = np.array(fast_probability_list)\n",
    "P_star_empirical = len(fast_probability_list_array[fast_probability_list_array >= 0.99]) # maximal value obtained where probability is still above or equal to 0.99\n",
    "\n",
    "C_empirical = P_star_empirical / N\n",
    "\n",
    "print(\"From the previous question, the empirical capacity is: \"+str(C_empirical))"
   ]
  },
  {
   "cell_type": "code",
   "execution_count": null,
   "metadata": {
    "id": "m6ifQmhc7DKJ"
   },
   "outputs": [],
   "source": [
    "# Comparing to theoretical capacity found in pen&pencil exercise 3 of week 5:\n",
    "# Instead of having 1 flipped pixel over 10000, we have 1 flipped pixel over 100\n",
    "\n",
    "# To have on average, at most, one bit to be wrong: corresponds to erf(sqrt(N/(2*(P-1)))) = 1-2/N = 0.98\n",
    "# When solving on wolframalpha, we solve erf(x) = 0.98 and obtain:\n",
    "x = 1.64497635713319\n",
    "\n",
    "# https://www.wolframalpha.com/input/?i=erf%28x%29+%3D+0.98"
   ]
  },
  {
   "cell_type": "code",
   "execution_count": null,
   "metadata": {
    "colab": {
     "base_uri": "https://localhost:8080/"
    },
    "id": "9-0pKmzW7DKK",
    "outputId": "e29ca586-e36d-4627-a861-e3b1509ebb4d"
   },
   "outputs": [
    {
     "name": "stdout",
     "output_type": "stream",
     "text": [
      "We deduce the theoretical capacity:0.19477817938610037\n"
     ]
    }
   ],
   "source": [
    "# This gives us:\n",
    "\n",
    "P_star_theoretical = 1 + N/(2*(x**2))\n",
    "\n",
    "C_theoretical = P_star_theoretical/N\n",
    "\n",
    "print(\"We deduce the theoretical capacity:\"+str(C_theoretical))"
   ]
  },
  {
   "cell_type": "markdown",
   "metadata": {},
   "source": [
    "We notice that the empirical value is considerably higher than the theoretical value computed.  As a result, this indicates that the definition of effectively stored patterns allows for a higher capacity."
   ]
  },
  {
   "cell_type": "markdown",
   "metadata": {
    "id": "sq-LC9kE7DKK"
   },
   "source": [
    "# 3. From binary neurons to saturated rectified linear neurons\n",
    "\n",
    "### Question 3.1"
   ]
  },
  {
   "cell_type": "code",
   "execution_count": null,
   "metadata": {
    "id": "ZUi49wqX7DKK"
   },
   "outputs": [],
   "source": [
    "t_range = np.linspace(-10,10, 1000000)\n",
    "\n",
    "def g(h, beta):\n",
    "    return np.minimum(1, np.maximum(-1, beta*h))"
   ]
  },
  {
   "cell_type": "code",
   "execution_count": null,
   "metadata": {
    "colab": {
     "base_uri": "https://localhost:8080/",
     "height": 295
    },
    "id": "ZgMEfxPf7DKL",
    "outputId": "03ffde73-1252-43f9-e021-b51a63620867"
   },
   "outputs": [
    {
     "data": {
      "image/png": "[encoded data removed]",
      "text/plain": [
       "<Figure size 432x288 with 1 Axes>"
      ]
     },
     "metadata": {
      "tags": []
     },
     "output_type": "display_data"
    }
   ],
   "source": [
    "beta = 1\n",
    "y_values = []\n",
    "\n",
    "for t in t_range:\n",
    "    y = g(t, beta)\n",
    "    y_values.append(y)\n",
    "\n",
    "\n",
    "plt.figure()\n",
    "plt.plot(t_range, y_values)\n",
    "plt.xlabel('h')\n",
    "plt.ylabel('g(h)')\n",
    "plt.title('Gain function for beta = 1')\n",
    "plt.grid(True)\n",
    "plt.savefig('question31.png', bbox_inches='tight')"
   ]
  },
  {
   "cell_type": "markdown",
   "metadata": {
    "id": "pux0lHUa7DKL"
   },
   "source": [
    "### Question 3.2\n",
    "\n",
    "See report for theoretical answer\n",
    "\n",
    "### Question 3.3"
   ]
  },
  {
   "cell_type": "code",
   "execution_count": null,
   "metadata": {
    "colab": {
     "base_uri": "https://localhost:8080/"
    },
    "id": "BCE2CvyK7DKM",
    "outputId": "c389a939-857b-4756-ef05-3714d1cfc0dc"
   },
   "outputs": [
    {
     "name": "stdout",
     "output_type": "stream",
     "text": [
      "Beta values:\n",
      "[   1   50  100  150  200  250  300  350  400  450  500  550  600  650\n",
      "  700  750  800  850  900  950 1000]\n"
     ]
    }
   ],
   "source": [
    "betas = np.arange(1, 1010, 50)\n",
    "betas[1:] = betas[1:]-1\n",
    "\n",
    "print('Beta values:')\n",
    "print(betas)"
   ]
  },
  {
   "cell_type": "code",
   "execution_count": null,
   "metadata": {
    "colab": {
     "base_uri": "https://localhost:8080/"
    },
    "id": "fnRkpNcN7DKM",
    "outputId": "67a7d6bb-f3d8-419f-95a2-71a30cb3aa67"
   },
   "outputs": [
    {
     "name": "stdout",
     "output_type": "stream",
     "text": [
      "[  1   2   3   4   5   6   7   8   9  10  11  12  13  14  15  16  17  18\n",
      "  19  20  30  40  50  60  70  80  90 100]\n"
     ]
    }
   ],
   "source": [
    "num_pattern_list = np.arange(1,20,1)\n",
    "num_pattern_list_ending = np.arange(20,110,10)\n",
    "num_pattern_list = np.concatenate((num_pattern_list, num_pattern_list_ending), axis=None)\n",
    "print(num_pattern_list)"
   ]
  },
  {
   "cell_type": "code",
   "execution_count": null,
   "metadata": {
    "id": "4bSvk1K67DKM"
   },
   "outputs": [],
   "source": [
    "def update_function(state_s0, weights):\n",
    "    global beta\n",
    "    random_neuron_idx_list = np.random.permutation(len(state_s0))\n",
    "    state_s1 = state_s0.copy()\n",
    "    for i in range(len(random_neuron_idx_list)):\n",
    "        rand_neuron_i = random_neuron_idx_list[i]\n",
    "        h_i = np.dot(weights[:, rand_neuron_i], state_s1)\n",
    "        prop_state_s1_on = np.minimum(1, np.maximum(-1, beta*h_i))\n",
    "        # the update here is probabilistic and in the next line we do the inference step\n",
    "        state_s1[rand_neuron_i] = 1 if prop_state_s1_on > np.random.rand() else -1 \n",
    "    return state_s1"
   ]
  },
  {
   "cell_type": "code",
   "execution_count": null,
   "metadata": {
    "colab": {
     "base_uri": "https://localhost:8080/"
    },
    "id": "0v9O6kxI7DKM",
    "outputId": "7bbdf5fa-40da-4cd5-c86f-4bd5188659b3",
    "scrolled": true
   },
   "outputs": [
    {
     "name": "stdout",
     "output_type": "stream",
     "text": [
      "For Beta=1, The Capacity=0.01\n",
      "For Beta=50, The Capacity=0.16\n",
      "For Beta=100, The Capacity=0.16\n",
      "For Beta=150, The Capacity=0.16\n",
      "For Beta=200, The Capacity=0.16\n",
      "For Beta=250, The Capacity=0.17\n",
      "For Beta=300, The Capacity=0.15\n",
      "For Beta=350, The Capacity=0.15\n",
      "For Beta=400, The Capacity=0.16\n",
      "For Beta=450, The Capacity=0.16\n",
      "For Beta=500, The Capacity=0.16\n",
      "For Beta=550, The Capacity=0.15\n",
      "For Beta=600, The Capacity=0.15\n",
      "For Beta=650, The Capacity=0.17\n",
      "For Beta=700, The Capacity=0.17\n",
      "For Beta=750, The Capacity=0.16\n",
      "For Beta=800, The Capacity=0.17\n",
      "For Beta=850, The Capacity=0.17\n",
      "For Beta=900, The Capacity=0.16\n",
      "For Beta=950, The Capacity=0.16\n",
      "For Beta=1000, The Capacity=0.17\n"
     ]
    }
   ],
   "source": [
    "capacity = []\n",
    "\n",
    "for beta in betas:\n",
    "    \n",
    "    probability_list = []\n",
    "\n",
    "    for P in num_pattern_list:\n",
    "\n",
    "        hopfield_net = Hopfield_fast(nr_neurons= pattern_size**2)\n",
    "        hopfield_net.set_dynamics_to_user_function(update_function)\n",
    "        \n",
    "        factory = pattern_tools.PatternFactory(pattern_size, pattern_size)\n",
    "        identical_count = 0\n",
    "\n",
    "        for i in range(running_iterations_fast):\n",
    "            pattern_list = []\n",
    "            # add random patterns to the list\n",
    "            pattern_list.extend(factory.create_random_pattern_list(nr_patterns=P, on_probability=0.5))\n",
    "            # let the hopfield network \"learn\" the patterns. Note: they are not stored\n",
    "            # explicitly but only network weights are updated !\n",
    "            hopfield_net.store_patterns(pattern_list)\n",
    "            # initialize with original pattern\n",
    "            hopfield_net.set_state_from_pattern(pattern_list[0])\n",
    "            # from this initial state, let the network dynamics evolve. \n",
    "            states = hopfield_net.run_with_monitoring(nr_steps=5) # T-1 gets us to state 5\n",
    "            # each network state is a vector. reshape it to the same shape used to create the patterns.\n",
    "            states_as_patterns = factory.reshape_patterns(states)\n",
    "\n",
    "            # Computing the overlap\n",
    "            overlap_list = []\n",
    "            overlap_list = pattern_tools.compute_overlap_list(states_as_patterns[-1], pattern_list)\n",
    "            max_overlap = np.argmax(overlap_list)\n",
    "            if (max_overlap == 0): # if the overlap is maximal with pattern 1, then we increment the counting to then obtain the probability\n",
    "                identical_count += 1\n",
    "\n",
    "\n",
    "        proba_correct = identical_count / running_iterations_fast\n",
    "        probability_list.append(proba_correct)\n",
    "\n",
    "    probability_list = np.array(probability_list)\n",
    "    P_star = len(probability_list[probability_list >= 0.99]) # maximal value obtained where probability is still above or equal to 0.99\n",
    "\n",
    "    capacity.append(P_star/N)\n",
    "    print('For Beta='+str(beta)+', The Capacity='+str(P_star/N))"
   ]
  },
  {
   "cell_type": "code",
   "execution_count": null,
   "metadata": {
    "colab": {
     "base_uri": "https://localhost:8080/",
     "height": 295
    },
    "id": "uqqm2Q6J7DKN",
    "outputId": "ff07c886-1851-4995-ba23-333aa7f6619c"
   },
   "outputs": [
    {
     "data": {
      "image/png": "[encoded data removed]",
      "text/plain": [
       "<Figure size 432x288 with 1 Axes>"
      ]
     },
     "metadata": {
      "tags": []
     },
     "output_type": "display_data"
    }
   ],
   "source": [
    "plt.plot(betas, capacity)\n",
    "plt.xlabel('Beta')\n",
    "plt.ylabel('Capacity')\n",
    "plt.grid(True)\n",
    "plt.title('Capacity as a function of Beta')\n",
    "plt.savefig('question33.png', bbox_inches='tight')"
   ]
  },
  {
   "cell_type": "markdown",
   "metadata": {
    "id": "D6iMmjrp7DKN"
   },
   "source": [
    "#### Zooming into beta values (1 to 100):"
   ]
  },
  {
   "cell_type": "code",
   "execution_count": null,
   "metadata": {
    "colab": {
     "base_uri": "https://localhost:8080/"
    },
    "id": "FpzLFu4B7DKN",
    "outputId": "3771c2c3-81dd-49a1-c43b-5900ce57f3e6"
   },
   "outputs": [
    {
     "data": {
      "text/plain": [
       "array([  1,   2,   3,   4,   5,   6,   7,   8,   9,  10,  11,  12,  13,\n",
       "        14,  15,  16,  17,  18,  19,  20,  30,  40,  50,  60,  70,  80,\n",
       "        90, 100])"
      ]
     },
     "execution_count": 14,
     "metadata": {
      "tags": []
     },
     "output_type": "execute_result"
    }
   ],
   "source": [
    "betas_begin = np.arange(1, 20, 1)\n",
    "betas_end = np.arange(20,110,10)\n",
    "betas = np.concatenate((betas_begin, betas_end), axis=None)\n",
    "betas"
   ]
  },
  {
   "cell_type": "code",
   "execution_count": null,
   "metadata": {
    "colab": {
     "base_uri": "https://localhost:8080/"
    },
    "id": "ZiPNQdDa7DKN",
    "outputId": "ae7cc36f-f50a-4f5e-9bdc-7867e955da8f",
    "scrolled": true
   },
   "outputs": [
    {
     "name": "stdout",
     "output_type": "stream",
     "text": [
      "For Beta=1, The Capacity=0.01\n",
      "For Beta=2, The Capacity=0.09\n",
      "For Beta=3, The Capacity=0.12\n",
      "For Beta=4, The Capacity=0.14\n",
      "For Beta=5, The Capacity=0.14\n",
      "For Beta=6, The Capacity=0.14\n",
      "For Beta=7, The Capacity=0.15\n",
      "For Beta=8, The Capacity=0.16\n",
      "For Beta=9, The Capacity=0.14\n",
      "For Beta=10, The Capacity=0.15\n",
      "For Beta=11, The Capacity=0.15\n",
      "For Beta=12, The Capacity=0.16\n",
      "For Beta=13, The Capacity=0.17\n",
      "For Beta=14, The Capacity=0.16\n",
      "For Beta=15, The Capacity=0.16\n",
      "For Beta=16, The Capacity=0.16\n",
      "For Beta=17, The Capacity=0.16\n",
      "For Beta=18, The Capacity=0.16\n",
      "For Beta=19, The Capacity=0.15\n",
      "For Beta=20, The Capacity=0.16\n",
      "For Beta=30, The Capacity=0.16\n",
      "For Beta=40, The Capacity=0.16\n",
      "For Beta=50, The Capacity=0.16\n",
      "For Beta=60, The Capacity=0.16\n",
      "For Beta=70, The Capacity=0.16\n",
      "For Beta=80, The Capacity=0.15\n",
      "For Beta=90, The Capacity=0.16\n",
      "For Beta=100, The Capacity=0.16\n"
     ]
    }
   ],
   "source": [
    "# Zooming in for beta values:\n",
    "capacity_smaller_betas = []\n",
    "\n",
    "for beta in betas:\n",
    "    \n",
    "    probability_list = []\n",
    "\n",
    "    for P in num_pattern_list:\n",
    "\n",
    "        hopfield_net = Hopfield_fast(nr_neurons= pattern_size**2)\n",
    "        hopfield_net.set_dynamics_to_user_function(update_function)\n",
    "        \n",
    "        factory = pattern_tools.PatternFactory(pattern_size, pattern_size)\n",
    "        identical_count = 0\n",
    "\n",
    "        for i in range(running_iterations_fast):\n",
    "            pattern_list = []\n",
    "            # add random patterns to the list\n",
    "            pattern_list.extend(factory.create_random_pattern_list(nr_patterns=P, on_probability=0.5))\n",
    "            # let the hopfield network \"learn\" the patterns. Note: they are not stored\n",
    "            # explicitly but only network weights are updated !\n",
    "            hopfield_net.store_patterns(pattern_list)\n",
    "            # initialize with original pattern\n",
    "            hopfield_net.set_state_from_pattern(pattern_list[0])\n",
    "            # from this initial state, let the network dynamics evolve. \n",
    "            states = hopfield_net.run_with_monitoring(nr_steps=5) # T-1 gets us to state 5\n",
    "            # each network state is a vector. reshape it to the same shape used to create the patterns.\n",
    "            states_as_patterns = factory.reshape_patterns(states)\n",
    "            # Computing the overlap\n",
    "            overlap_list = []\n",
    "            overlap_list = pattern_tools.compute_overlap_list(states_as_patterns[-1], pattern_list)\n",
    "            max_overlap = np.argmax(overlap_list)\n",
    "            if (max_overlap == 0): # if the overlap is maximal with pattern 1, then we increment the counting to then obtain the probability\n",
    "                identical_count += 1\n",
    "\n",
    "        proba_correct = identical_count / running_iterations_fast\n",
    "        probability_list.append(proba_correct)\n",
    "\n",
    "    probability_list = np.array(probability_list)\n",
    "    P_star = len(probability_list[probability_list >= 0.99]) # maximal value obtained where probability is still above or equal to 0.99\n",
    "\n",
    "    capacity_smaller_betas.append(P_star/N)\n",
    "    print('For Beta='+str(beta)+', The Capacity='+str(P_star/N))"
   ]
  },
  {
   "cell_type": "code",
   "execution_count": null,
   "metadata": {
    "colab": {
     "base_uri": "https://localhost:8080/",
     "height": 295
    },
    "id": "NJThKEwM7DKO",
    "outputId": "997e39b4-e509-4271-c0e9-39f4e4709457"
   },
   "outputs": [
    {
     "data": {
      "image/png": "[encoded data removed]",
      "text/plain": [
       "<Figure size 432x288 with 1 Axes>"
      ]
     },
     "metadata": {
      "tags": []
     },
     "output_type": "display_data"
    }
   ],
   "source": [
    "plt.plot(betas, capacity_smaller_betas)\n",
    "plt.xlabel('Beta')\n",
    "plt.ylabel('Capacity')\n",
    "plt.grid(True)\n",
    "plt.title('Capacity as a function of Beta')\n",
    "plt.savefig('question33zoomedin.png', bbox_inches='tight')"
   ]
  },
  {
   "cell_type": "markdown",
   "metadata": {
    "id": "h6B0PcAs7DKO"
   },
   "source": [
    "#### Zooming into beta values (1 to 20):"
   ]
  },
  {
   "cell_type": "code",
   "execution_count": null,
   "metadata": {
    "id": "FZJO694s7DKO"
   },
   "outputs": [],
   "source": [
    "betas = np.arange(1, 21, 1)"
   ]
  },
  {
   "cell_type": "code",
   "execution_count": null,
   "metadata": {
    "colab": {
     "background_save": true,
     "base_uri": "https://localhost:8080/"
    },
    "id": "SUTXZEKy7DKO",
    "outputId": "d8399800-537e-489e-ecb5-9d84c088a102"
   },
   "outputs": [
    {
     "name": "stdout",
     "output_type": "stream",
     "text": [
      "For Beta=1, The Capacity=0.01\n",
      "For Beta=2, The Capacity=0.08\n",
      "For Beta=3, The Capacity=0.12\n",
      "For Beta=4, The Capacity=0.15\n",
      "For Beta=5, The Capacity=0.13\n",
      "For Beta=6, The Capacity=0.14\n",
      "For Beta=7, The Capacity=0.16\n",
      "For Beta=8, The Capacity=0.15\n",
      "For Beta=9, The Capacity=0.16\n",
      "For Beta=10, The Capacity=0.16\n",
      "For Beta=11, The Capacity=0.15\n",
      "For Beta=12, The Capacity=0.16\n",
      "For Beta=13, The Capacity=0.15\n",
      "For Beta=14, The Capacity=0.15\n",
      "For Beta=15, The Capacity=0.16\n",
      "For Beta=16, The Capacity=0.16\n",
      "For Beta=17, The Capacity=0.16\n",
      "For Beta=18, The Capacity=0.16\n",
      "For Beta=19, The Capacity=0.15\n",
      "For Beta=20, The Capacity=0.16\n"
     ]
    }
   ],
   "source": [
    "# More Zooming in for beta values:\n",
    "capacity_smaller_betas = []\n",
    "\n",
    "for beta in betas:\n",
    "    \n",
    "    probability_list = []\n",
    "\n",
    "    for P in num_pattern_list:\n",
    "\n",
    "        hopfield_net = Hopfield_fast(nr_neurons= pattern_size**2)\n",
    "        hopfield_net.set_dynamics_to_user_function(update_function)\n",
    "        \n",
    "        factory = pattern_tools.PatternFactory(pattern_size, pattern_size)\n",
    "        identical_count = 0\n",
    "\n",
    "        for i in range(running_iterations_fast):\n",
    "            pattern_list = []\n",
    "            # add random patterns to the list\n",
    "            pattern_list.extend(factory.create_random_pattern_list(nr_patterns=P, on_probability=0.5))\n",
    "            # let the hopfield network \"learn\" the patterns. Note: they are not stored\n",
    "            # explicitly but only network weights are updated !\n",
    "            hopfield_net.store_patterns(pattern_list)\n",
    "            # initialize with original pattern\n",
    "            hopfield_net.set_state_from_pattern(pattern_list[0])\n",
    "            # from this initial state, let the network dynamics evolve. \n",
    "            states = hopfield_net.run_with_monitoring(nr_steps=5) # T-1 gets us to state 5\n",
    "            # each network state is a vector. reshape it to the same shape used to create the patterns.\n",
    "            states_as_patterns = factory.reshape_patterns(states)\n",
    "            # Computing the overlap\n",
    "            overlap_list = []\n",
    "            overlap_list = pattern_tools.compute_overlap_list(states_as_patterns[-1], pattern_list)\n",
    "            max_overlap = np.argmax(overlap_list)\n",
    "            if (max_overlap == 0): # if the overlap is maximal with pattern 1, then we increment the counting to then obtain the probability\n",
    "                identical_count += 1\n",
    "\n",
    "        proba_correct = identical_count / running_iterations_fast\n",
    "        probability_list.append(proba_correct)\n",
    "\n",
    "    probability_list = np.array(probability_list)\n",
    "    P_star = len(probability_list[probability_list >= 0.99]) # maximal value obtained where probability is still above or equal to 0.99\n",
    "\n",
    "    capacity_smaller_betas.append(P_star/N)\n",
    "    print('For Beta='+str(beta)+', The Capacity='+str(P_star/N))"
   ]
  },
  {
   "cell_type": "code",
   "execution_count": null,
   "metadata": {
    "colab": {
     "background_save": true
    },
    "id": "g84AWfhA7DKP",
    "outputId": "8bf86ade-e8a3-47c6-b1d7-cbd24cc7c65a"
   },
   "outputs": [
    {
     "data": {
      "image/png": "[encoded data removed]",
      "text/plain": [
       "<Figure size 432x288 with 1 Axes>"
      ]
     },
     "metadata": {
      "tags": []
     },
     "output_type": "display_data"
    }
   ],
   "source": [
    "plt.plot(betas, capacity_smaller_betas)\n",
    "plt.xlabel('Beta')\n",
    "plt.ylabel('Capacity')\n",
    "plt.grid(True)\n",
    "plt.title('Capacity as a function of Beta')\n",
    "plt.savefig('question33morezoomedin.png', bbox_inches='tight')"
   ]
  },
  {
   "cell_type": "markdown",
   "metadata": {
    "id": "_PP9bv1h7DKP"
   },
   "source": [
    "### Question 3.4"
   ]
  },
  {
   "cell_type": "code",
   "execution_count": null,
   "metadata": {
    "id": "YBAquQ_a7DKP"
   },
   "outputs": [],
   "source": [
    "small_betas = [0.1, 0.25, 0.5, 0.75, 1]\n",
    "\n",
    "plt.figure()\n",
    "\n",
    "for beta in small_betas:\n",
    "    y_values = []\n",
    "\n",
    "    for t in t_range:\n",
    "        y = g(t, beta)\n",
    "        y_values.append(y)\n",
    "\n",
    "\n",
    "    plt.plot(t_range, y_values, label = beta)\n",
    "    plt.xlabel('h')\n",
    "    plt.ylabel('g(h)')\n",
    "    plt.title('Gain function for betas < 1')\n",
    "\n",
    "plt.grid(True)\n",
    "plt.legend()\n",
    "plt.savefig('question34.png', bbox_inches='tight')"
   ]
  },
  {
   "cell_type": "code",
   "execution_count": null,
   "metadata": {
    "id": "mqB5NvDh7DKP"
   },
   "outputs": [],
   "source": [
    "# Running a simulation with such a small beta value to see evolution:\n",
    "\n",
    "# Defining values\n",
    "small_beta = 0.25\n",
    "beta = small_beta\n",
    "pattern_size = 10 # Pattern size, chosen so that pattern_size**2 = 100 = N\n",
    "number_patterns = 5\n",
    "\n",
    "# create an instance of the class HopfieldNetwork\n",
    "hopfield_net = Hopfield_fast(nr_neurons= pattern_size**2)\n",
    "hopfield_net.set_dynamics_to_user_function(update_function)\n",
    "\n",
    "# instantiate a pattern factory\n",
    "factory = pattern_tools.PatternFactory(pattern_size, pattern_size)\n",
    "\n",
    "pattern_list = []\n",
    "\n",
    "# add random patterns to the list\n",
    "pattern_list.extend(factory.create_random_pattern_list(nr_patterns=number_patterns, on_probability=0.5))\n",
    "\n",
    "# let the hopfield network \"learn\" the patterns. Note: they are not stored\n",
    "# explicitly but only network weights are updated !\n",
    "hopfield_net.store_patterns(pattern_list)\n",
    "\n",
    "plt.figure()\n",
    "plt.hist(hopfield_net.weights.flatten(),10)\n",
    "\n",
    "hopfield_net.set_state_from_pattern(pattern_list[0])\n",
    "#hopfield_net.set_state_from_pattern(0*new_pattern_list[0]) # even if we set the pattern to only zero values, all the values are converge to 1\n",
    "\n",
    "# from this initial state, let the network dynamics evolve. \n",
    "states = hopfield_net.run_with_monitoring(nr_steps=5)\n",
    "\n",
    "# each network state is a vector. reshape it to the same shape used to create the patterns.\n",
    "states_as_patterns = factory.reshape_patterns(states)\n",
    "# plot the states of the network\n",
    "plot_tools.plot_state_sequence_and_overlap(states_as_patterns, pattern_list, reference_idx=0, suptitle=\"Network dynamics\")\n",
    "\n"
   ]
  },
  {
   "cell_type": "markdown",
   "metadata": {
    "id": "X6dkFVbQ7DKQ"
   },
   "source": [
    "# 4. Correlated Patterns\n",
    "\n",
    "### Question 4.1"
   ]
  },
  {
   "cell_type": "code",
   "execution_count": 9,
   "metadata": {
    "colab": {
     "base_uri": "https://localhost:8080/"
    },
    "id": "UtUZX5V-7DKQ",
    "outputId": "e3193b34-f262-4287-feff-56bf27ea6939"
   },
   "outputs": [
    {
     "name": "stdout",
     "output_type": "stream",
     "text": [
      "k_values: \n",
      "[ 0 10 20 30 40 50 60 70 80 90]\n"
     ]
    }
   ],
   "source": [
    "k_values = np.arange(0, 100, 10)\n",
    "print(\"k_values: \")\n",
    "print(k_values)"
   ]
  },
  {
   "cell_type": "code",
   "execution_count": 10,
   "metadata": {
    "colab": {
     "base_uri": "https://localhost:8080/"
    },
    "id": "wI8-SeQT7DKQ",
    "outputId": "4fee0df7-147b-4fa2-ba82-e582b253ef03"
   },
   "outputs": [
    {
     "name": "stdout",
     "output_type": "stream",
     "text": [
      "[  1   2   3   4   5   6   7   8   9  10  11  12  13  14  15  16  17  18\n",
      "  19  20  21  22  23  24  25  26  27  28  29  30  31  32  33  34  35  36\n",
      "  37  38  39  40  41  42  43  44  45  46  47  48  49  50  51  52  53  54\n",
      "  55  56  57  58  59  60  61  62  63  64  65  66  67  68  69  70  71  72\n",
      "  73  74  75  76  77  78  79  80  81  82  83  84  85  86  87  88  89  90\n",
      "  91  92  93  94  95  96  97  98  99 100]\n"
     ]
    }
   ],
   "source": [
    "num_pattern_list = np.arange(1, 101, 1)\n",
    "print(num_pattern_list)"
   ]
  },
  {
   "cell_type": "code",
   "execution_count": 11,
   "metadata": {
    "colab": {
     "base_uri": "https://localhost:8080/"
    },
    "id": "dx5jYFWh7DKQ",
    "outputId": "ce2126cb-e0f6-43d2-97d7-39e28c3756f9",
    "scrolled": true
   },
   "outputs": [
    {
     "name": "stdout",
     "output_type": "stream",
     "text": [
      "For k = 0: \n",
      "Capacity is equal to: 0.3\n",
      "For k = 10: \n",
      "Capacity is equal to: 0.08\n",
      "For k = 20: \n",
      "Capacity is equal to: 0.04\n",
      "For k = 30: \n",
      "Capacity is equal to: 0.03\n",
      "For k = 40: \n",
      "Capacity is equal to: 0.02\n",
      "For k = 50: \n",
      "Capacity is equal to: 0.02\n",
      "For k = 60: \n",
      "Capacity is equal to: 0.02\n",
      "For k = 70: \n",
      "Capacity is equal to: 0.02\n",
      "For k = 80: \n",
      "Capacity is equal to: 0.02\n",
      "For k = 90: \n",
      "Capacity is equal to: 0.02\n"
     ]
    }
   ],
   "source": [
    "capacity_k = []\n",
    "\n",
    "for k in k_values:\n",
    "    \n",
    "    probability_list = []\n",
    "    \n",
    "    for P in num_pattern_list:\n",
    "\n",
    "        # create an instance of the class HopfieldNetwork\n",
    "        fast_hopfield_net = Hopfield_fast(nr_neurons= pattern_size**2)\n",
    "\n",
    "        # instantiate a pattern factory\n",
    "        factory = pattern_tools.PatternFactory(pattern_size, pattern_size)\n",
    "\n",
    "        identical_count = 0\n",
    "\n",
    "        for i in range(running_iterations_fast): # run the script some times\n",
    "\n",
    "            pattern_list = []\n",
    "            # add random patterns to the list (this value changes to obtain different probabilities for our plot)\n",
    "            pattern_list.extend(factory.create_random_pattern_list(nr_patterns=P, on_probability=0.5))\n",
    "\n",
    "            ref_pattern = np.reshape(pattern_list[0], (1,pattern_size**2)) # reshaping so that can set the k first values to identical values\n",
    "            \n",
    "            new_pattern_list = []  # defining correlated patter list\n",
    "            \n",
    "            for i, pattern in enumerate(pattern_list):\n",
    "                if i == 0:\n",
    "                    new_pattern_list.append(np.reshape(ref_pattern, (pattern_size, pattern_size)))\n",
    "                if i!=0:\n",
    "                    pattern = np.reshape(pattern, (1,pattern_size**2))\n",
    "                    pattern[0][:k+1] = ref_pattern[0][:k+1]\n",
    "                    pattern = np.reshape(pattern, (pattern_size, pattern_size))\n",
    "                    new_pattern_list.append(pattern)\n",
    "                \n",
    "            # let the hopfield network \"learn\" the patterns. Note: they are not stored\n",
    "            # explicitly but only network weights are updated !\n",
    "            fast_hopfield_net.store_patterns(new_pattern_list)\n",
    "\n",
    "            # initialize with original pattern\n",
    "            fast_hopfield_net.set_state_from_pattern(new_pattern_list[0])\n",
    "            # from this initial state, let the network dynamics evolve. \n",
    "            states = fast_hopfield_net.run_with_monitoring(nr_steps=T-1) # T-1 gets us to state 5\n",
    "\n",
    "            # each network state is a vector. reshape it to the same shape used to create the patterns.\n",
    "            states_as_patterns = factory.reshape_patterns(states)\n",
    "            # plot the states of the network\n",
    "            # plot_tools.plot_state_sequence_and_overlap(states_as_patterns, pattern_list, reference_idx=0, suptitle=\"Network dynamics\")\n",
    "\n",
    "            # Computing the overlap\n",
    "            overlap_list = []\n",
    "            overlap_list = pattern_tools.compute_overlap_list(states_as_patterns[-1], new_pattern_list)\n",
    "            max_overlap = np.argmax(overlap_list)\n",
    "            if (max_overlap == 0): # if the overlap is maximal with pattern 1, then we increment the counting to then obtain the probability\n",
    "                identical_count += 1\n",
    "\n",
    "        proba_correct = identical_count / running_iterations_fast\n",
    "        #print(\"Probability that our pattern was correctly retrieved:\" +str(proba_correct))\n",
    "\n",
    "        probability_list.append(proba_correct)\n",
    "        \n",
    "    probability_list = np.array(probability_list)\n",
    "    P_star = len(probability_list[probability_list >= 0.99]) # maximal value obtained where probability is still above or equal to 0.99\n",
    "\n",
    "    print(\"For k = \"+str(k)+\": \")\n",
    "    print(\"Capacity is equal to: \"+str(P_star/N))\n",
    "    capacity_k.append(P_star/N)"
   ]
  },
  {
   "cell_type": "code",
   "execution_count": 12,
   "metadata": {
    "colab": {
     "base_uri": "https://localhost:8080/",
     "height": 295
    },
    "id": "WyGvGY7M7DKR",
    "outputId": "e8f22249-64ae-4d84-9a7f-d15653466286"
   },
   "outputs": [
    {
     "data": {
      "image/png": "[encoded data removed]",
      "text/plain": [
       "<Figure size 432x288 with 1 Axes>"
      ]
     },
     "metadata": {
      "needs_background": "light",
      "tags": []
     },
     "output_type": "display_data"
    }
   ],
   "source": [
    "plt.figure()\n",
    "\n",
    "k_range = k_values/N\n",
    "\n",
    "plt.plot(k_range, capacity_k)\n",
    "plt.xlabel('k/N')\n",
    "plt.ylabel('Capacities')\n",
    "plt.title('Capacity as a function of k/N')\n",
    "\n",
    "plt.grid(True)\n",
    "plt.savefig('question41.png', bbox_inches='tight')"
   ]
  },
  {
   "cell_type": "markdown",
   "metadata": {
    "id": "B1NkBeSo7DKR"
   },
   "source": [
    "#### Only considering up to 50% correlated patterns"
   ]
  },
  {
   "cell_type": "code",
   "execution_count": 13,
   "metadata": {
    "colab": {
     "base_uri": "https://localhost:8080/"
    },
    "id": "Y0zVOW1A7DKR",
    "outputId": "99f92457-b9ff-45e5-b323-a9ab2150f3a5"
   },
   "outputs": [
    {
     "name": "stdout",
     "output_type": "stream",
     "text": [
      "k_values: \n",
      "[ 0 10 20 30 40 50]\n"
     ]
    }
   ],
   "source": [
    "k_values = np.arange(0, 60, 10)\n",
    "print(\"k_values: \")\n",
    "print(k_values)"
   ]
  },
  {
   "cell_type": "code",
   "execution_count": 14,
   "metadata": {
    "colab": {
     "base_uri": "https://localhost:8080/"
    },
    "id": "-7R-SF_H7DKR",
    "outputId": "0f231892-b020-439b-e0e0-5ae1d3847498"
   },
   "outputs": [
    {
     "name": "stdout",
     "output_type": "stream",
     "text": [
      "For k = 0: \n",
      "Capacity is equal to: 0.29\n",
      "For k = 10: \n",
      "Capacity is equal to: 0.09\n",
      "For k = 20: \n",
      "Capacity is equal to: 0.05\n",
      "For k = 30: \n",
      "Capacity is equal to: 0.03\n",
      "For k = 40: \n",
      "Capacity is equal to: 0.02\n",
      "For k = 50: \n",
      "Capacity is equal to: 0.02\n"
     ]
    }
   ],
   "source": [
    "capacity_k = []\n",
    "\n",
    "for k in k_values:\n",
    "    \n",
    "    probability_list = []\n",
    "    \n",
    "    for P in num_pattern_list:\n",
    "\n",
    "        # create an instance of the class HopfieldNetwork\n",
    "        fast_hopfield_net = Hopfield_fast(nr_neurons= pattern_size**2)\n",
    "\n",
    "        # instantiate a pattern factory\n",
    "        factory = pattern_tools.PatternFactory(pattern_size, pattern_size)\n",
    "\n",
    "        identical_count = 0\n",
    "\n",
    "        for i in range(running_iterations_fast): # run the script some times\n",
    "\n",
    "            pattern_list = []\n",
    "            # add random patterns to the list (this value changes to obtain different probabilities for our plot)\n",
    "            pattern_list.extend(factory.create_random_pattern_list(nr_patterns=P, on_probability=0.5))\n",
    "\n",
    "            ref_pattern = np.reshape(pattern_list[0], (1,pattern_size**2)) # reshaping so that can set the k first values to identical values\n",
    "            \n",
    "            new_pattern_list = []  # defining correlated patter list\n",
    "            \n",
    "            for i, pattern in enumerate(pattern_list):\n",
    "                if i == 0:\n",
    "                    new_pattern_list.append(np.reshape(ref_pattern, (pattern_size, pattern_size)))\n",
    "                if i!=0:\n",
    "                    pattern = np.reshape(pattern, (1,pattern_size**2))\n",
    "                    pattern[0][:k+1] = ref_pattern[0][:k+1]\n",
    "                    pattern = np.reshape(pattern, (pattern_size, pattern_size))\n",
    "                    new_pattern_list.append(pattern)\n",
    "                \n",
    "            # let the hopfield network \"learn\" the patterns. Note: they are not stored\n",
    "            # explicitly but only network weights are updated !\n",
    "            fast_hopfield_net.store_patterns(new_pattern_list)\n",
    "\n",
    "            # initialize with original pattern\n",
    "            fast_hopfield_net.set_state_from_pattern(new_pattern_list[0])\n",
    "            # from this initial state, let the network dynamics evolve. \n",
    "            states = fast_hopfield_net.run_with_monitoring(nr_steps=T-1) # T-1 gets us to state 5\n",
    "\n",
    "            # each network state is a vector. reshape it to the same shape used to create the patterns.\n",
    "            states_as_patterns = factory.reshape_patterns(states)\n",
    "            # plot the states of the network\n",
    "            # plot_tools.plot_state_sequence_and_overlap(states_as_patterns, pattern_list, reference_idx=0, suptitle=\"Network dynamics\")\n",
    "\n",
    "            # Computing the overlap\n",
    "            overlap_list = []\n",
    "            overlap_list = pattern_tools.compute_overlap_list(states_as_patterns[-1], new_pattern_list)\n",
    "            max_overlap = np.argmax(overlap_list)\n",
    "            if (max_overlap == 0): # if the overlap is maximal with pattern 1, then we increment the counting to then obtain the probability\n",
    "                identical_count += 1\n",
    "\n",
    "        proba_correct = identical_count / running_iterations_fast\n",
    "        #print(\"Probability that our pattern was correctly retrieved:\" +str(proba_correct))\n",
    "\n",
    "        probability_list.append(proba_correct)\n",
    "        \n",
    "    probability_list = np.array(probability_list)\n",
    "    P_star = len(probability_list[probability_list >= 0.99]) # maximal value obtained where probability is still above or equal to 0.99\n",
    "\n",
    "    print(\"For k = \"+str(k)+\": \")\n",
    "    print(\"Capacity is equal to: \"+str(P_star/N))\n",
    "    capacity_k.append(P_star/N)"
   ]
  },
  {
   "cell_type": "code",
   "execution_count": 15,
   "metadata": {
    "colab": {
     "base_uri": "https://localhost:8080/",
     "height": 295
    },
    "id": "-hk6KLoZ7DKS",
    "outputId": "efa84213-9f59-4f0c-e664-f1993cd60103"
   },
   "outputs": [
    {
     "data": {
      "image/png": "[encoded data removed]",
      "text/plain": [
       "<Figure size 432x288 with 1 Axes>"
      ]
     },
     "metadata": {
      "needs_background": "light",
      "tags": []
     },
     "output_type": "display_data"
    }
   ],
   "source": [
    "plt.figure()\n",
    "\n",
    "k_range = k_values/N\n",
    "\n",
    "plt.plot(k_range, capacity_k)\n",
    "plt.xlabel('k/N')\n",
    "plt.ylabel('Capacities')\n",
    "plt.title('Capacity as a function of k/N')\n",
    "\n",
    "plt.grid(True)\n",
    "plt.savefig('question41_50percent.png', bbox_inches='tight')"
   ]
  }
 ],
 "metadata": {
  "accelerator": "GPU",
  "colab": {
   "name": "BMNN Miniproject.ipynb",
   "provenance": []
  },
  "kernelspec": {
   "display_name": "Python 3",
   "language": "python",
   "name": "python3"
  },
  "language_info": {
   "codemirror_mode": {
    "name": "ipython",
    "version": 3
   },
   "file_extension": ".py",
   "mimetype": "text/x-python",
   "name": "python",
   "nbconvert_exporter": "python",
   "pygments_lexer": "ipython3",
   "version": "3.8.5"
  }
 },
 "nbformat": 4,
 "nbformat_minor": 1
}
