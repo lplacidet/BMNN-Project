{
 "cells": [
  {
   "cell_type": "code",
   "execution_count": null,
   "metadata": {},
   "outputs": [],
   "source": [
    "# start with importing the libraries we need\n",
    "\n",
    "%matplotlib inline  \n",
    "import matplotlib.pyplot as plt\n",
    "import numpy as np\n",
    "from neurodynex3.hopfield_network import pattern_tools, plot_tools, network\n",
    "import neurodynex3.hopfield_network.pattern_tools as tools"
   ]
  },
  {
   "cell_type": "markdown",
   "metadata": {},
   "source": [
    "# In order to use the class, complete the code and fill the question marks"
   ]
  },
  {
   "cell_type": "code",
   "execution_count": null,
   "metadata": {},
   "outputs": [],
   "source": [
    "# Alternative more efficient way store the patterns\n",
    "\n",
    "class Hopfield_fast(network.HopfieldNetwork):\n",
    "    def __init__(self, nr_neurons):\n",
    "        super().__init__(nr_neurons)\n",
    "    \n",
    "    def store_patterns(self, pattern_list):\n",
    "        # check if the input is a list or a numpy array\n",
    "        if type(pattern_list) == list:\n",
    "            pattern_list = np.array(pattern_list)\n",
    "        pattern_list = pattern_list.reshape(pattern_list.shape[0],-1)\n",
    "        pattern_size = pattern_list.shape[1]\n",
    "        # fill in the following line for make the Hopfield_fast class to run\n",
    "        self.weights = 1 / pattern_size  * np.einsum('?,?->?', ?, ?) \n",
    "        np.fill_diagonal(self.weights, 0)\n",
    "        "
   ]
  },
  {
   "cell_type": "code",
   "execution_count": null,
   "metadata": {},
   "outputs": [],
   "source": [
    "# Before you continue test that your weights are correct (compare with the neurodynex version)\n",
    "nr_patterns = ?\n",
    "pattern_size = ? \n",
    "\n",
    "print('All the weights are the same', ??)"
   ]
  },
  {
   "cell_type": "code",
   "execution_count": null,
   "metadata": {},
   "outputs": [],
   "source": []
  }
 ],
 "metadata": {
  "kernelspec": {
   "display_name": "Python 3",
   "language": "python",
   "name": "python3"
  },
  "language_info": {
   "codemirror_mode": {
    "name": "ipython",
    "version": 3
   },
   "file_extension": ".py",
   "mimetype": "text/x-python",
   "name": "python",
   "nbconvert_exporter": "python",
   "pygments_lexer": "ipython3",
   "version": "3.8.5"
  }
 },
 "nbformat": 4,
 "nbformat_minor": 4
}
