{
 "cells": [
  {
   "cell_type": "code",
   "execution_count": 80,
   "metadata": {},
   "outputs": [],
   "source": [
    "# start with importing the libraries we need\n",
    "\n",
    "%matplotlib inline  \n",
    "import matplotlib.pyplot as plt\n",
    "import numpy as np\n",
    "from neurodynex3.hopfield_network import pattern_tools, plot_tools, network\n",
    "import neurodynex3.hopfield_network.pattern_tools as tools"
   ]
  },
  {
   "cell_type": "markdown",
   "metadata": {},
   "source": [
    "# Miniproject: Hopfield Networks\n",
    "\n",
    "# 1. Theory\n",
    "\n",
    "See report for theory answers"
   ]
  },
  {
   "cell_type": "code",
   "execution_count": 3,
   "metadata": {},
   "outputs": [
    {
     "data": {
      "image/png": "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\n",
      "text/plain": [
       "<Figure size 432x288 with 4 Axes>"
      ]
     },
     "metadata": {
      "needs_background": "light"
     },
     "output_type": "display_data"
    },
    {
     "data": {
      "image/png": "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\n",
      "text/plain": [
       "<Figure size 432x288 with 2 Axes>"
      ]
     },
     "metadata": {
      "needs_background": "light"
     },
     "output_type": "display_data"
    },
    {
     "name": "stdout",
     "output_type": "stream",
     "text": [
      "[array([1, 1, 1, 1, 1, 1, 0, 1, 1, 1, 0, 1, 0, 1, 1, 1, 0, 0, 0, 0, 1, 1,\n",
      "       1, 1, 0, 0, 1, 1, 0, 0, 0, 0, 0, 1, 0, 1, 0, 0, 1, 0, 0, 0, 1, 1,\n",
      "       0, 1, 0, 1, 1, 0, 0, 1, 1, 0, 0, 0, 0, 0, 1, 1, 1, 0, 0, 1, 0, 1,\n",
      "       1, 1, 0, 0, 1, 1, 0, 1, 1, 0, 1, 0, 0, 0, 1, 0, 1, 0, 0, 1, 0, 1,\n",
      "       1, 1, 0, 0, 1, 1, 1, 1, 0, 0, 1, 1]), array([1., 1., 1., 1., 1., 1., 1., 1., 1., 1., 1., 1., 1., 1., 1., 1., 1.,\n",
      "       1., 1., 1., 1., 1., 1., 1., 1., 1., 1., 1., 1., 1., 1., 1., 1., 1.,\n",
      "       1., 1., 1., 1., 1., 1., 1., 1., 1., 1., 1., 1., 1., 1., 1., 1., 1.,\n",
      "       1., 1., 1., 1., 1., 1., 1., 1., 1., 1., 1., 1., 1., 1., 1., 1., 1.,\n",
      "       1., 1., 1., 1., 1., 1., 1., 1., 1., 1., 1., 1., 1., 1., 1., 1., 1.,\n",
      "       1., 1., 1., 1., 1., 1., 1., 1., 1., 1., 1., 1., 1., 1., 1.]), array([1., 1., 1., 1., 1., 1., 1., 1., 1., 1., 1., 1., 1., 1., 1., 1., 1.,\n",
      "       1., 1., 1., 1., 1., 1., 1., 1., 1., 1., 1., 1., 1., 1., 1., 1., 1.,\n",
      "       1., 1., 1., 1., 1., 1., 1., 1., 1., 1., 1., 1., 1., 1., 1., 1., 1.,\n",
      "       1., 1., 1., 1., 1., 1., 1., 1., 1., 1., 1., 1., 1., 1., 1., 1., 1.,\n",
      "       1., 1., 1., 1., 1., 1., 1., 1., 1., 1., 1., 1., 1., 1., 1., 1., 1.,\n",
      "       1., 1., 1., 1., 1., 1., 1., 1., 1., 1., 1., 1., 1., 1., 1.]), array([1., 1., 1., 1., 1., 1., 1., 1., 1., 1., 1., 1., 1., 1., 1., 1., 1.,\n",
      "       1., 1., 1., 1., 1., 1., 1., 1., 1., 1., 1., 1., 1., 1., 1., 1., 1.,\n",
      "       1., 1., 1., 1., 1., 1., 1., 1., 1., 1., 1., 1., 1., 1., 1., 1., 1.,\n",
      "       1., 1., 1., 1., 1., 1., 1., 1., 1., 1., 1., 1., 1., 1., 1., 1., 1.,\n",
      "       1., 1., 1., 1., 1., 1., 1., 1., 1., 1., 1., 1., 1., 1., 1., 1., 1.,\n",
      "       1., 1., 1., 1., 1., 1., 1., 1., 1., 1., 1., 1., 1., 1., 1.]), array([1., 1., 1., 1., 1., 1., 1., 1., 1., 1., 1., 1., 1., 1., 1., 1., 1.,\n",
      "       1., 1., 1., 1., 1., 1., 1., 1., 1., 1., 1., 1., 1., 1., 1., 1., 1.,\n",
      "       1., 1., 1., 1., 1., 1., 1., 1., 1., 1., 1., 1., 1., 1., 1., 1., 1.,\n",
      "       1., 1., 1., 1., 1., 1., 1., 1., 1., 1., 1., 1., 1., 1., 1., 1., 1.,\n",
      "       1., 1., 1., 1., 1., 1., 1., 1., 1., 1., 1., 1., 1., 1., 1., 1., 1.,\n",
      "       1., 1., 1., 1., 1., 1., 1., 1., 1., 1., 1., 1., 1., 1., 1.])]\n",
      "\n"
     ]
    },
    {
     "data": {
      "image/png": "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\n",
      "text/plain": [
       "<Figure size 432x288 with 1 Axes>"
      ]
     },
     "metadata": {
      "needs_background": "light"
     },
     "output_type": "display_data"
    },
    {
     "data": {
      "image/png": "iVBORw0KGgoAAAANSUhEUgAAAXwAAAEVCAYAAADjHF5YAAAAOXRFWHRTb2Z0d2FyZQBNYXRwbG90bGliIHZlcnNpb24zLjMuMiwgaHR0cHM6Ly9tYXRwbG90bGliLm9yZy8vihELAAAACXBIWXMAAAsTAAALEwEAmpwYAAAXRUlEQVR4nO3debRlZX3m8e8TBrUZQpASoQBxQBHtBUqJJqLRVtOAuogkJoAhxkQrjiFZGtu03THadtroWnZ3nAhG4xDHFUFKLEWlgygNymBQSkCrCUhZzApUCa2Av/5j75LT99z5njrn3nq/n7X2qrPH972/uvfZ++y9zz6pKiRJO75fmnQHJEnjYeBLUiMMfElqhIEvSY0w8CWpEQa+JDXCwFdzkpyX5KWLXPdDSd466j4tRZKnJbl60v3Q8mfgaySSXJvkpiS7DUx7aZLz5rn+sgvSlaKqvlZVj5l0P7T8GfgapZ2BUyfdiZmk4++8muUvv0bpHcDrkuw13cwkhyb5cpIfJbk6ye/009cCLwJen2Rrks8leUmSzw2suzHJpwfGr09yRP/615JcnOSO/t9fG1juvCT/NckFwF3AI6b0ab8k307yuhn6/IQklyXZkuRTwAMH5l2R5PkD47skuTXJEUkOTlJJXpzkB/30Nw4se1SSC5PcnuSGJO9OsuvA/EryyiTf79v+L0ke2a9zZ5JPb1s+yTOSbBpY98AkZyS5JcltSd7dT39Ukq/2dbq1/3nUkqpycFjyAFwLPBs4A3hrP+2lwHn9692A64GX0L0TeCJwK/C4fv6Htq3Xjz8CuJ3uoGQ/4DrghwPzftzP27t/fUq/3ZP68Qf3y54H/AB4XD9/l37aS4GDge8Ba2f4mXbt2/2zfr3fBu4Z+PleD3xqYPnjge/0rw8GCng/8CDgcOCnwGP7+UcCT+n7dDBwJfCnA9sqYB2wZ9/3nwLn9j/7LwPfBV7cL/sMYFP/eifgcuC/9zV/IHB0P+8TwBv7uv1iukM7g0f4GrW/BF6TZNWU6c8Drq2qf6iqe6vqMuAzdCE6pKquAbYARwC/DpwD/DDJof3416rq58Bzge9X1Uf77X4CuAp4/sDmPlRVG/r59/TTDqML/jdV1ekz/CxPoQv6/1FV91TVPwEXD8z/R+C4JHv246cAH52yjTdX1d1VdTldEB/e/3yXVtVFfZ+uBf6u/7kG/U1V3VlVG4ArgC9V1TVVdQfwBeAJ0/T5KGB/4M+r6idV9X+r6uv9vHuAhwH7T5muRhj4GqmqugI4G3jDlFkPA57cn8K4PcntdKdxHjrL5r5Kd/T69P71eXSh+Ov9OHThdt2U9a4DVg+MXz/Ntl8E/BD4p1na35/uXcXgEwZ/0VZVbQYuAH6rP411LPCxKdu4ceD1XcDuAEkeneTsJDcmuRP4a2CfKeveNPD67mnGd5+mzwcC11XVvdPMez0Q4JtJNiT5w2mW0Q7MwNf28CbgZQyH7leraq+BYfeqekU/f7rHtm4L/Kf1r7/KcOBvptuZDDqILsy3mW7bf0V3SunjSXaa4ee4AVidJFO2PejDwO8BLwQurKofMj/vo3snckhV7Qn8R7owXqrrgYOS7Dx1RlXdWFUvq6r9gT8G3pvkUSNoUyuEga+Rq6qNwKeAPxmYfDbw6CSn9Bc3d0nypCSP7effxJQLqnSh/kzgQVW1CfgacAzwYOBb/TLr++2enGTnJL9Ld7rm7Dm6eQ9dSO8GfHSGu3cuBO4F/qTf9gl0p0wGfZbuesSpwEfmaHPQHsCdwNb+NNUr5lh+vr5Jt6N6W5LdkjwwyVMBkrwwyQH9cj+m2xHeN6J2tQIY+Npe3kIXpgBU1RbgN4AT6Y7KbwT+BnhAv8gHgMP60z2f7df5HrCVLuipqjuBa4ALquq+ftptdNcHXgvcRnfa4nlVdetcHayqnwEnAA8BPjg19Afm/wFdQP4u3UXpwWXuprsW8fCp8+bwOuBkuusU76fbQS5ZX5fnA4+iu1i9ia7fAE8CvpFkK90F4VOr6l9H0a5Whvz/pyclLVSSvwQeXVW/N+m+SLMZOs8naf6S7A38Ed0dOtKy5ikdaZGSvIzuIukXqur8SfdHmoundCSpER7hS1IjDHxJaoSBL0mNMPAlqREGviQ1wsCXpEYY+JLUCANfkhph4EtSIwx8SWqEgS9JjTDwJakRBr4kNcLAl6RGGPiS1AgDX5IaYeBLUiMMfElqhIEvSY0w8CWpEQa+JDWi2cBPcnSS/53kjiQ/SnJBkif1805Ocl2SnyT5bJK9J93fcZipJkn2S7IuyeYkleTgSfd1XGapyXOTfD3J7UluTPL+JHtMur/jMEtNnpnkO31NbktyZpLVk+7vuMyWKQPL/EP/N/SoSfSxycBPsidwNvAuYG9gNfBm4KdJHgf8HXAKsC9wF/DeCXV1bGarCfBz4IvAb02sgxMwR01+GXgrsD/wWOAA4B2T6en4zFGT7wL/vqr2oqvL94H3Taan4zVHXbYtczTwyIl0cFsfqmqS7U9EkjXAV/pfzKnz/ho4uKpO7scfCVwJPLiqtoy1o2M0W00GltkZuAd4eFVdO6auTcx8ajKw7AnAm6vq3273jk3QfGuS5AHAXwHHV9VhY+jaRM1Vl/5v52LgxcDlwCFVtXF8Pew0eYQPfA+4L8mHkxyb5FcG5j2O7j8EgKr6P8DPgEePuY/jNltNWrWQmjwd2DCmfk3SrDVJclCS24G7gdcBb59AHydhrt+VPwPOr6pvT6Bvv9Bk4FfVncDRQAHvB27pz1HvC+wO3DFllTuAHfr87Bw1adJ8a5LkOXRHbn85/l6O11w1qaof9Ee5+wD/CbhqUn0dp9nqkuRA4I9ZBr8fTZ7SmSrJocA/0p1z/DfABVX19oH5W4BnVNWlE+ri2A3WpKpO6qc1dUpnqhlq8hTgc8CJVXXuJPs3CdPVZGDeQ+neLa+uqnsn0b9JmZIpuwJnVdVH+nmFp3Qmp6quAj4EPJ7ubfnh2+YleQTwALq3bM2YUhMxXJMkTwDWAX/YYtjDnL8nOwMPAfYcZ5+Wgyl1eRbwjv5urhv7RS5McvK4+9Vk4Cc5NMlrkxzQjx8InARcBHwMeH6SpyXZDXgLcMaOfMEW5qwJSR5It+MDeEA/vkObrSZJHk9359Jrqupzk+znOM1RkxOSPCbJLyVZBbwT+FZV/WiSfR6HOf5+Hk13EHlEPwA8Hzhz3P1sMvCBLcCTgW8k+Qndf8oVwGuragPwcrrgv5nu3P0rJ9XRMZqxJv38u4Gt/eur+vEd3Ww1eS2wCvhAkq390MJF29lqsppuJ7gF+A7d7bwvmFA/x222TLm5qm7cNvTL31pVY/8b8hy+JDWi1SN8SWqOgS9JjTDwJakRBr4kNWLnSXdgNiHL54ryTF2pLHnTtYCNfDyPWT412Y5OrqutyRTWZNhCagLWxSN8SWqEgS9JjTDwJakRBr4kNcLAl6RGLOu7dBZ8Z8x0y4/gLppZjeJGoibuG5A0aR7hS1IjDHxJaoSBL0mNMPAlqREGviQ1YnnfpbPQO2wWsvxC767ZntuWpDHwCF+SGmHgS1IjDHxJaoSBL0mNWN4XbUfy2IIRXfhdSF9GsQ1JGjGP8CWpEQa+JDXCwJekRhj4ktQIA1+SGrG879JZqO39ZSfLpU1JWgSP8CWpEQa+JDXCwJekRhj4ktQIA1+SGrEy79LZnl9GMorlZ+rfjP32GTuStj+P8CWpEQa+JDXCwJekRhj4ktQIA1+SGrG879KZxLdPjeLZOAu908ebdCSNgUf4ktQIA1+SGmHgS1IjDHxJaoSBL0mNWN536cxkOd29s9A7ciRpQjzCl6RGGPiS1AgDX5IaYeBLUiNW5kXbhVxYXfBjDibwKAafrSBpDDzCl6RGGPiS1AgDX5IaYeBLUiMMfElqxPK+S2cUjy0YyV00s5iuj9u7TUlaBI/wJakRBr4kNcLAl6RGGPiS1AgDX5IakSqf4yJJLfAIX5IaYeBLUiMMfElqhIEvSY0w8CWpEQa+JDXCwJekRhj4ktQIA1+SGmHgS1IjDHxJaoSBL0mNMPAlqREGviQ1wsCXpEYY+JLUCANfkhph4EtSIwx8SWqEgS9JjTDwJakRBr4kNcLAl6RGGPiS1AgDX5IaYeDPIMnJSa5L8pMkn02y9yzLXpvk7iRb++FLA/OemeQ7SW5PcluSM5OsHs9PMXrWZZg1GWZNhi2LmlSVw5QBeBywBXg6sDvwceCTsyx/LfDsGebtC+zfv34A8HZg3aR/RutiTaxJezVZ9kf4/Z7uz5N8u98zfiDJvkm+kGRLkq8k+ZURN/si4HNVdX5VbQX+M3BCkj0WuqGquqmqNg9Mug941FI7aF2GWZNh1mRY0zWZ9J5vHnvGa4GL6PZqq4GbgcuAJ9Dt3f4X8KYZ1j0IuH2W4eQZ1jsL+A9Tpm0FjpyljzcBtwBfAg6foR8/B+4B/sC6jL4u1sSaWJPZh51ZGd5VVTcBJPkacHNVfasfPxN41nQrVdUPgL0W0d7uwB1Tpt0BzLQ3fhHdL0yAU4FzkhxaVbcP9qM/Z/cy4KpF9Gk61mWYNRlmTYY1WZNlf0qnd9PA67unGd99xO1tBfacMm1PunNwQ6rqgqq6u6ruqqr/Rrfnfdo0y/0I+DBwVpJR7GytyzBrMsyaDGuyJisl8BclyUEDV7mnG140w6obgMMHtvMIurd635tn00W3Z57OzsBDGP7PHxvrMsyaDLMmw1Z6TVbKKZ1F6d/2LGZP/THgwiRPo3tb9RbgjKoa2hsnOQg4ELiYbgf6GmAf4IJ+/gl0/9nfBx4MvBP4Vr9nngjrMsyaDLMmw1Z6TXboI/zFqqoNwMvp/pNupjvP9spt85OcluS0fnQP4H3Aj4EfAscAx1bVbf381cAX6d66fYfuIssLxvBjjJx1GWZNhlmTYculJumv+EqSdnAe4UtSI0YS+Ek+mOTmJFfMMD9J/jbJxv7DDk8cRbuSpPkb1RH+h+jOM83kWOCQflhLd35KkjRGIwn8qjofmO0K8fHAR6pzEd0HBvYbRduSpPkZ122Zq4HrB8Y39dNumLpgkrV07wLYbbfdjjz00EPH0sFJufTSS2+tqlWzLdNaTWDuuliTYdZkeq3VZdaazOf5C/MZgIOBK2aY93ng6IHxc5nhGRKDw5FHHlk7OuCSWkCdW6hJ1cLqYk2syXyHFuoyW03GdZfOJroPEmxzALB5hmUlSdvBuAJ/HfD7/d06TwHuqKqh0zmSpO1nJOfwk3wCeAawT5JNwJuAXQCq6jRgPXAcsBG4C3jJKNqVJM3fSAK/qk6aY34BrxpFW5KkxfGTtpLUCANfkhph4EtSIwx8SWqEgS9JjTDwJakRBr4kNcLAl6RGGPiS1AgDX5IaYeBLUiMMfElqhIEvSY0w8CWpEQa+JDViVF+AcgzwP4GdgL+vqrdNmf8M4CzgX/tJZ1TVW0bRtsbj4Dd8ft7LXvu2527Hniwf1mR61mXYcqnJkgM/yU7Ae4Dn0H137cVJ1lXVd6cs+rWqet5S25MkLc4ojvCPAjZW1TUAST4JHA9MDfxFWy57x+VkITUB6zIdazLMmgzbkWoyisBfDVw/ML4JePI0y/1qksuBzcDrqmrDCNrWArX6iz4X6zLMmgxb6TUZxUXbTDOtpoxfBjysqg4H3gV8dsaNJWuTXJLkkltuuWUE3Vv5rMkwazLMmkzPutxvFEf4m4ADB8YPoDuK/4WqunPg9fok702yT1XdOnVjVXU6cDrAmjVrpu44mrSSa7K9joisyTBrMj3rcr9RHOFfDByS5OFJdgVOBNYNLpDkoUnSvz6qb/e2EbQtSZqnJR/hV9W9SV4NnEN3W+YHq2pDkpf3808Dfht4RZJ7gbuBE6tqRe1pJWmlG8l9+FW1Hlg/ZdppA6/fDbx7FG1JkhbHT9pKUiMMfElqhIEvSY0w8CWpEQa+JDViJHfp7GhW+senJWk6O3TgG9ySdL8dOvDHzR2MpOXMc/iS1AgDX5IaYeBLUiMMfElqhIEvSY0w8CWpEQa+JDXCwJekRowk8JMck+TqJBuTvGGa+Unyt/38byd54ijalSTN35IDP8lOwHuAY4HDgJOSHDZlsWOBQ/phLfC+pbYrSVqYURzhHwVsrKprqupnwCeB46csczzwkepcBOyVZL8RtC1Jmq+qWtJA9wXlfz8wfgrw7inLnA0cPTB+LrBmhu2tBS4BLjnooINqRwdcUnPXuKmaVM1dF2tiTar8+5nObDUZxRF+ptuPLGKZbmLV6VW1pqrWrFq1asmd2xFYk2HWZJg1mZ51ud8oAn8TcODA+AHA5kUsI0najkYR+BcDhyR5eJJdgROBdVOWWQf8fn+3zlOAO6rqhhG0LUmapyU/D7+q7k3yauAcYCfgg1W1IcnL+/mnAeuB44CNwF3AS5bariRpYUbyBShVtZ4u1AennTbwuoBXjaItSdLi+ElbSWqEgS9JjTDwJakRBr4kNcLAl6RGGPiS1AgDX5IaYeBLUiMMfElqhIEvSY0w8CWpEQa+JDXCwJekRhj4ktQIA1+SGmHgS1IjlvQFKEn2Bj4FHAxcC/xOVf14muWuBbYA9wH3VtWapbQrSVq4pR7hvwE4t6oOAc7tx2fyzKo6wrCXpMlYauAfD3y4f/1h4DeXuD1J0nay1MDft6puAOj/fcgMyxXwpSSXJlk72waTrE1ySZJLbrnlliV2b8dgTYZZk2HWZHrW5X5zBn6SryS5Yprh+AW089SqeiJwLPCqJE+facGqOr2q1lTVmlWrVi2giR2XNRlmTYZZk+lZl/vNedG2qp4907wkNyXZr6puSLIfcPMM29jc/3tzkjOBo4DzF9lnSdIiLPWUzjrgxf3rFwNnTV0gyW5J9tj2GvgN4IoltitJWqClBv7bgOck+T7wnH6cJPsnWd8vsy/w9SSXA98EPl9VX1xiu5KkBVrSffhVdRvwrGmmbwaO619fAxy+lHYkSUvnJ20lqREGviQ1wsCXpEYY+JLUCANfkhph4EtSIwx8SWqEgS9JjTDwJakRBr4kNcLAl6RGGPiS1AgDX5IaYeBLUiMMfElqxJICP8kLk2xI8vMka2ZZ7pgkVyfZmOQNS2lTkrQ4Sz3CvwI4gVm+nzbJTsB76L7A/DDgpCSHLbFdSdICLfUbr64ESDLbYkcBG/tvviLJJ4Hjge8upW1J0sKM4xz+auD6gfFN/TRJ0hjNeYSf5CvAQ6eZ9caqOmsebUx3+F+ztLcWWNuPbk1y9Szb3ge4dR59GMV626uth821gWVck8WuN591Zq3LDliT+aw3yprMp71RrbM911vJfz/jr0lVLXkAzgPWzDDvV4FzBsb/AviLEbV7ybjWG2dbK6Um467ljlyTlVIXa7Jya1lVYzmlczFwSJKHJ9kVOBFYN4Z2JUkDlnpb5guSbKI7iv98knP66fsnWQ9QVfcCrwbOAa4EPl1VG5bWbUnSQi31Lp0zgTOnmb4ZOG5gfD2wfiltzeD0Ma43zraWYtz9HGctF2sl1GQp6y3WSvg7WAk1Wex6Y69J+nNCkqQdnI9WkKRGrMjAX8yjGpJ8MMnNSa5YYFsHJvnnJFf2j5E4dZ7rPTDJN5Nc3q/35oW0K0mjtuJO6fSPavge8By6D3FdDJxUVbN+cjfJ04GtwEeq6vELaG8/YL+quizJHsClwG/Oo70Au1XV1iS7AF8HTq2qi+bbtiSN0ko8wv/Foxqq6mfAtkc1zKqqzgd+tNDGquqGqrqsf72F7k6jOT8pXJ2t/egu/bCy9q6SdigrMfAn9qiGJAcDTwC+Mc/ld0ryL8DNwJeral7rSdL2sBIDf0GPahhZo8nuwGeAP62qO+ezTlXdV1VHAAcARyWZ96kkSRq1lRj4m4ADB8YPADZvzwb7c/CfAT5WVWcsdP2qup3u8RPHjLZnkjR/KzHwx/qohv7i6weAK6vqnQtYb1WSvfrXDwKeDVy1XTopSfOw4gJ/sY9qSPIJ4ELgMUk2JfmjeTb5VOAU4N8l+Zd+OG6ulYD9gH9O8m26ndSXq+rsebYpSSO34m7LlCQtzoo7wpckLY6BL0mNMPAlqREGviQ1wsCXpEYY+JLUCANfkhph4EtSI/4fqx+VcQZsq9wAAAAASUVORK5CYII=\n",
      "text/plain": [
       "<Figure size 432x288 with 10 Axes>"
      ]
     },
     "metadata": {
      "needs_background": "light"
     },
     "output_type": "display_data"
    },
    {
     "name": "stdout",
     "output_type": "stream",
     "text": [
      "[1. 1. 1. 1. 1. 1. 1. 1. 1. 1. 1. 1. 1. 1. 1. 1. 1. 1. 1. 1. 1. 1. 1. 1.\n",
      " 1. 1. 1. 1. 1. 1. 1. 1. 1. 1. 1. 1. 1. 1. 1. 1. 1. 1. 1. 1. 1. 1. 1. 1.\n",
      " 1. 1. 1. 1. 1. 1. 1. 1. 1. 1. 1. 1. 1. 1. 1. 1. 1. 1. 1. 1. 1. 1. 1. 1.\n",
      " 1. 1. 1. 1. 1. 1. 1. 1. 1. 1. 1. 1. 1. 1. 1. 1. 1. 1. 1. 1. 1. 1. 1. 1.\n",
      " 1. 1. 1. 1.]\n"
     ]
    }
   ],
   "source": [
    "# Running a simulation for question 1.2 to highlight issue with having pattern values equal to 0 and 1\n",
    "\n",
    "pattern_size = 10 # Pattern size, chosen so that pattern_size**2 = 100 = N\n",
    "\n",
    "# create an instance of the class HopfieldNetwork\n",
    "hopfield_net = network.HopfieldNetwork(nr_neurons= pattern_size**2)\n",
    "# instantiate a pattern factory\n",
    "factory = pattern_tools.PatternFactory(pattern_size, pattern_size)\n",
    "\n",
    "pattern_list = []\n",
    "new_pattern_list = []\n",
    "\n",
    "# add random patterns to the list\n",
    "pattern_list.extend(factory.create_random_pattern_list(nr_patterns=4, on_probability=0.5))\n",
    "\n",
    "for i, pattern in enumerate(pattern_list):\n",
    "    pattern = np.reshape(pattern, (1,pattern_size**2))\n",
    "    for k in range(len(pattern[0])):\n",
    "        if pattern[0][k] == -1:\n",
    "            pattern[0][k] = 0 # Changing the pattern values so that they are equalt to either 0 or 1\n",
    "    pattern = np.reshape(pattern, (pattern_size, pattern_size))\n",
    "    new_pattern_list.append(pattern)\n",
    "\n",
    "plot_tools.plot_pattern_list(new_pattern_list)\n",
    "# how similar are the random patterns and the checkerboard? Check the overlaps\n",
    "overlap_matrix = pattern_tools.compute_overlap_matrix(new_pattern_list)\n",
    "plot_tools.plot_overlap_matrix(overlap_matrix)\n",
    "\n",
    "# let the hopfield network \"learn\" the patterns. Note: they are not stored\n",
    "# explicitly but only network weights are updated !\n",
    "hopfield_net.store_patterns(new_pattern_list)\n",
    "\n",
    "plt.figure()\n",
    "plt.hist(hopfield_net.weights.flatten(),10)\n",
    "\n",
    "hopfield_net.set_state_from_pattern(new_pattern_list[0])\n",
    "#hopfield_net.set_state_from_pattern(0*new_pattern_list[0]) # even if we set the pattern to only zero values, all the values are converge to 1\n",
    "\n",
    "# from this initial state, let the network dynamics evolve. \n",
    "states = hopfield_net.run_with_monitoring(nr_steps=4)\n",
    "print(states)\n",
    "\n",
    "# each network state is a vector. reshape it to the same shape used to create the patterns.\n",
    "states_as_patterns = factory.reshape_patterns(states)\n",
    "# plot the states of the network\n",
    "plot_tools.plot_state_sequence_and_overlap(states_as_patterns, new_pattern_list, reference_idx=0, suptitle=\"Network dynamics\")\n",
    "\n",
    "\n",
    "# plt.figure()\n",
    "# plt.hist(hopfield_net.weights.flatten(), 20)\n",
    "\n",
    "print(states[4])"
   ]
  },
  {
   "cell_type": "markdown",
   "metadata": {},
   "source": [
    "# 2. Capacity\n",
    "\n",
    "### Question 2.2."
   ]
  },
  {
   "cell_type": "code",
<<<<<<< HEAD
   "execution_count": 81,
=======
   "execution_count": 58,
>>>>>>> 43ad1c884f0925ecce60599dc49ce70c6e4881a3
   "metadata": {},
   "outputs": [],
   "source": [
    "# Global variables\n",
    "\n",
    "N = 100 # number of neurons considering for our pattern\n",
    "T = 5 # time-steps for effectively stored patterns\n",
    "\n",
    "pattern_size = 10 # Pattern size, chosen so that pattern_size**2 = 100 = N\n",
    "\n",
    "# To obtain the probability that the first pattern is  is effectivley stored, we iterate the script a certain\n",
    "# amount of time (number of hopfield models generated to estimate probability)\n",
    "running_iterations_slow = 100\n",
    "running_iterations_fast = 10000"
   ]
  },
  {
   "cell_type": "markdown",
   "metadata": {},
   "source": [
    "#### Using code from neurodynex3 Python library:\n"
   ]
  },
  {
   "cell_type": "code",
<<<<<<< HEAD
   "execution_count": 82,
=======
   "execution_count": 14,
>>>>>>> 43ad1c884f0925ecce60599dc49ce70c6e4881a3
   "metadata": {},
   "outputs": [],
   "source": [
    "# Number of patterns we are currently working with: (we are zooming in on the beginning by taking\n",
    "# more points and thus have more precision there)\n",
    "num_pattern_list_beginning = np.arange(1,16, 1)\n",
    "num_pattern_list_end = np.arange(20, 55, 5)\n",
    "num_pattern_list = np.concatenate((num_pattern_list_beginning, num_pattern_list_end), axis=None)\n",
    "# When increasing number of patterns, retrieving probability\n",
    "probability_list = []"
   ]
  },
  {
   "cell_type": "code",
<<<<<<< HEAD
   "execution_count": 83,
=======
   "execution_count": 15,
>>>>>>> 43ad1c884f0925ecce60599dc49ce70c6e4881a3
   "metadata": {},
   "outputs": [
    {
     "name": "stdout",
     "output_type": "stream",
     "text": [
      "[ 1  2  3  4  5  6  7  8  9 10 11 12 13 14 15 20 25 30 35 40 45 50]\n"
     ]
    }
   ],
   "source": [
    "print(num_pattern_list)"
   ]
  },
  {
   "cell_type": "code",
<<<<<<< HEAD
   "execution_count": 74,
=======
   "execution_count": 16,
>>>>>>> 43ad1c884f0925ecce60599dc49ce70c6e4881a3
   "metadata": {
    "scrolled": true
   },
   "outputs": [
    {
     "name": "stdout",
     "output_type": "stream",
     "text": [
      "Running for 1 patterns...\n",
      "Probability that our pattern was correctly retrieved:1.0\n",
      "Running for 2 patterns...\n",
      "Probability that our pattern was correctly retrieved:1.0\n",
      "Running for 3 patterns...\n",
      "Probability that our pattern was correctly retrieved:1.0\n",
      "Running for 4 patterns...\n",
      "Probability that our pattern was correctly retrieved:1.0\n",
      "Running for 5 patterns...\n",
      "Probability that our pattern was correctly retrieved:1.0\n",
      "Running for 6 patterns...\n",
      "Probability that our pattern was correctly retrieved:1.0\n",
      "Running for 7 patterns...\n",
<<<<<<< HEAD
      "Probability that our pattern was correctly retrieved:0.99\n",
      "Running for 8 patterns...\n",
      "Probability that our pattern was correctly retrieved:0.98\n",
      "Running for 9 patterns...\n"
     ]
    },
    {
     "ename": "KeyboardInterrupt",
     "evalue": "",
     "output_type": "error",
     "traceback": [
      "\u001b[1;31m---------------------------------------------------------------------------\u001b[0m",
      "\u001b[1;31mKeyboardInterrupt\u001b[0m                         Traceback (most recent call last)",
      "\u001b[1;32m<ipython-input-74-8c47a631af4d>\u001b[0m in \u001b[0;36m<module>\u001b[1;34m\u001b[0m\n\u001b[0;32m     18\u001b[0m         \u001b[1;31m# let the hopfield network \"learn\" the patterns. Note: they are not stored\u001b[0m\u001b[1;33m\u001b[0m\u001b[1;33m\u001b[0m\u001b[0m\n\u001b[0;32m     19\u001b[0m         \u001b[1;31m# explicitly but only network weights are updated !\u001b[0m\u001b[1;33m\u001b[0m\u001b[1;33m\u001b[0m\u001b[0m\n\u001b[1;32m---> 20\u001b[1;33m         \u001b[0mhopfield_net\u001b[0m\u001b[1;33m.\u001b[0m\u001b[0mstore_patterns\u001b[0m\u001b[1;33m(\u001b[0m\u001b[0mpattern_list\u001b[0m\u001b[1;33m)\u001b[0m\u001b[1;33m\u001b[0m\u001b[0m\n\u001b[0m\u001b[0;32m     21\u001b[0m \u001b[1;33m\u001b[0m\u001b[0m\n\u001b[0;32m     22\u001b[0m         \u001b[1;31m# initialize with original pattern\u001b[0m\u001b[1;33m\u001b[0m\u001b[1;33m\u001b[0m\u001b[0m\n",
      "\u001b[1;32mc:\\users\\eng gasser\\appdata\\local\\programs\\python\\python36\\lib\\site-packages\\neurodynex3\\hopfield_network\\network.py\u001b[0m in \u001b[0;36mstore_patterns\u001b[1;34m(self, pattern_list)\u001b[0m\n\u001b[0;32m    107\u001b[0m                 \u001b[1;32mfor\u001b[0m \u001b[0mk\u001b[0m \u001b[1;32min\u001b[0m \u001b[0mrange\u001b[0m\u001b[1;33m(\u001b[0m\u001b[0mself\u001b[0m\u001b[1;33m.\u001b[0m\u001b[0mnrOfNeurons\u001b[0m\u001b[1;33m)\u001b[0m\u001b[1;33m:\u001b[0m\u001b[1;33m\u001b[0m\u001b[0m\n\u001b[0;32m    108\u001b[0m                     \u001b[0mself\u001b[0m\u001b[1;33m.\u001b[0m\u001b[0mweights\u001b[0m\u001b[1;33m[\u001b[0m\u001b[0mi\u001b[0m\u001b[1;33m,\u001b[0m \u001b[0mk\u001b[0m\u001b[1;33m]\u001b[0m \u001b[1;33m+=\u001b[0m \u001b[0mp_flat\u001b[0m\u001b[1;33m[\u001b[0m\u001b[0mi\u001b[0m\u001b[1;33m]\u001b[0m \u001b[1;33m*\u001b[0m \u001b[0mp_flat\u001b[0m\u001b[1;33m[\u001b[0m\u001b[0mk\u001b[0m\u001b[1;33m]\u001b[0m\u001b[1;33m\u001b[0m\u001b[0m\n\u001b[1;32m--> 109\u001b[1;33m         \u001b[0mself\u001b[0m\u001b[1;33m.\u001b[0m\u001b[0mweights\u001b[0m \u001b[1;33m/=\u001b[0m \u001b[0mself\u001b[0m\u001b[1;33m.\u001b[0m\u001b[0mnrOfNeurons\u001b[0m\u001b[1;33m\u001b[0m\u001b[0m\n\u001b[0m\u001b[0;32m    110\u001b[0m         \u001b[1;31m# no self connections:\u001b[0m\u001b[1;33m\u001b[0m\u001b[1;33m\u001b[0m\u001b[0m\n\u001b[0;32m    111\u001b[0m         \u001b[0mnp\u001b[0m\u001b[1;33m.\u001b[0m\u001b[0mfill_diagonal\u001b[0m\u001b[1;33m(\u001b[0m\u001b[0mself\u001b[0m\u001b[1;33m.\u001b[0m\u001b[0mweights\u001b[0m\u001b[1;33m,\u001b[0m \u001b[1;36m0\u001b[0m\u001b[1;33m)\u001b[0m\u001b[1;33m\u001b[0m\u001b[0m\n",
      "\u001b[1;31mKeyboardInterrupt\u001b[0m: "
=======
      "Probability that our pattern was correctly retrieved:1.0\n",
      "Running for 8 patterns...\n",
      "Probability that our pattern was correctly retrieved:1.0\n",
      "Running for 9 patterns...\n",
      "Probability that our pattern was correctly retrieved:1.0\n",
      "Running for 10 patterns...\n",
      "Probability that our pattern was correctly retrieved:1.0\n",
      "Running for 11 patterns...\n",
      "Probability that our pattern was correctly retrieved:1.0\n",
      "Running for 12 patterns...\n",
      "Probability that our pattern was correctly retrieved:1.0\n",
      "Running for 13 patterns...\n",
      "Probability that our pattern was correctly retrieved:1.0\n",
      "Running for 14 patterns...\n",
      "Probability that our pattern was correctly retrieved:1.0\n",
      "Running for 15 patterns...\n",
      "Probability that our pattern was correctly retrieved:1.0\n",
      "Running for 20 patterns...\n",
      "Probability that our pattern was correctly retrieved:1.0\n",
      "Running for 25 patterns...\n",
      "Probability that our pattern was correctly retrieved:1.0\n",
      "Running for 30 patterns...\n",
      "Probability that our pattern was correctly retrieved:0.99\n",
      "Running for 35 patterns...\n",
      "Probability that our pattern was correctly retrieved:0.99\n",
      "Running for 40 patterns...\n",
      "Probability that our pattern was correctly retrieved:0.94\n",
      "Running for 45 patterns...\n",
      "Probability that our pattern was correctly retrieved:0.94\n",
      "Running for 50 patterns...\n",
      "Probability that our pattern was correctly retrieved:0.98\n"
>>>>>>> 43ad1c884f0925ecce60599dc49ce70c6e4881a3
     ]
    }
   ],
   "source": [
    "for P in num_pattern_list:\n",
    "    \n",
    "    print('Running for '+str(P)+' patterns...')\n",
    "    # create an instance of the class HopfieldNetwork\n",
    "    hopfield_net = network.HopfieldNetwork(nr_neurons= pattern_size**2)\n",
    "\n",
    "    # instantiate a pattern factory\n",
    "    factory = pattern_tools.PatternFactory(pattern_size, pattern_size)\n",
    "\n",
    "    identical_count = 0\n",
    "    \n",
    "    for i in range(running_iterations_slow): # run the script some times\n",
    "\n",
    "        pattern_list = []\n",
    "        # add random patterns to the list (this value changes to obtain different probabilities for our plot)\n",
    "        pattern_list.extend(factory.create_random_pattern_list(nr_patterns=P, on_probability=0.5))\n",
    "\n",
    "        # let the hopfield network \"learn\" the patterns. Note: they are not stored\n",
    "        # explicitly but only network weights are updated !\n",
    "        hopfield_net.store_patterns(pattern_list)\n",
    "\n",
    "        # initialize with original pattern\n",
    "        hopfield_net.set_state_from_pattern(pattern_list[0])\n",
    "        # from this initial state, let the network dynamics evolve. \n",
    "        states = hopfield_net.run_with_monitoring(nr_steps=T-1) # T-1 gets us to state 5\n",
    "\n",
    "        # each network state is a vector. reshape it to the same shape used to create the patterns.\n",
    "        states_as_patterns = factory.reshape_patterns(states)\n",
    "        # plot the states of the network\n",
    "        # plot_tools.plot_state_sequence_and_overlap(states_as_patterns, pattern_list, reference_idx=0, suptitle=\"Network dynamics\")\n",
    "    \n",
    "        overlap_list = []\n",
    "        \n",
    "        overlap_list = pattern_tools.compute_overlap_list(states_as_patterns[-1], pattern_list)\n",
    "        max_overlap = np.argmax(overlap_list)\n",
    " \n",
    "        if (max_overlap == 0):\n",
    "            identical_count += 1\n",
    "        # More restrictive definition of stored patterns\n",
    "        #if (np.sum(states_as_patterns[-1] == pattern_list[0])) == 100:\n",
    "            # We have identical patterns, one neuron state was flipped after 5 iterations\n",
    "            #identical_count += 1\n",
    "\n",
    "    proba_correct = identical_count / running_iterations_slow\n",
    "    print(\"Probability that our pattern was correctly retrieved:\" +str(proba_correct))\n",
    "\n",
    "    probability_list.append(proba_correct)"
   ]
  },
  {
   "cell_type": "code",
   "execution_count": 17,
   "metadata": {},
   "outputs": [
    {
     "data": {
      "image/png": "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\n",
      "text/plain": [
       "<Figure size 432x288 with 1 Axes>"
      ]
     },
     "metadata": {
      "needs_background": "light"
     },
     "output_type": "display_data"
    }
   ],
   "source": [
    "# Plotting the probability for pattern p^1 to be effectively stored, as a function of the number of patterns\n",
    "\n",
    "plt.figure()\n",
    "plt.scatter(num_pattern_list, probability_list)\n",
    "plt.xlabel('Number of patterns')\n",
    "plt.ylabel('Probability')\n",
    "plt.title('Probability of effectively storing pattern p^1 as a function of the number of patterns')\n",
    "plt.grid(True)"
   ]
  },
  {
   "cell_type": "markdown",
   "metadata": {},
   "source": [
    "For the slow Hopfield network, we used considerably less iterations given the computation time.  As a result, we have a higher variability."
   ]
  },
  {
   "cell_type": "markdown",
   "metadata": {},
   "source": [
    "#### Implementing alternative and more efficient method to store patterns: and checking if weights are still the same"
   ]
  },
  {
   "cell_type": "code",
<<<<<<< HEAD
   "execution_count": 84,
=======
   "execution_count": 59,
>>>>>>> 43ad1c884f0925ecce60599dc49ce70c6e4881a3
   "metadata": {},
   "outputs": [],
   "source": [
    "# Using alternative and more efficient way to store patterns\n",
    "\n",
    "class Hopfield_fast(network.HopfieldNetwork):\n",
    "    def __init__(self, nr_neurons):\n",
    "        super().__init__(nr_neurons)\n",
    "    \n",
    "    def store_patterns(self, pattern_list):\n",
    "        # check if the input is a list or a numpy array\n",
    "        if type(pattern_list) == list:\n",
    "            pattern_list = np.array(pattern_list)\n",
    "        pattern_list = pattern_list.reshape(pattern_list.shape[0],-1)\n",
    "        pattern_size = pattern_list.shape[1]\n",
    "        # fill in the following line for make the Hopfield_fast class to run\n",
    "        self.weights = 1 / pattern_size  * np.einsum('ij,jk->ik', pattern_list.T, pattern_list) \n",
    "        np.fill_diagonal(self.weights, 0)"
   ]
  },
  {
   "cell_type": "code",
<<<<<<< HEAD
   "execution_count": 85,
=======
   "execution_count": 60,
>>>>>>> 43ad1c884f0925ecce60599dc49ce70c6e4881a3
   "metadata": {},
   "outputs": [
    {
     "name": "stdout",
     "output_type": "stream",
     "text": [
      "[[ True  True  True ...  True  True  True]\n",
      " [ True  True  True ...  True  True  True]\n",
      " [ True  True  True ...  True  True  True]\n",
      " ...\n",
      " [ True  True  True ...  True  True  True]\n",
      " [ True  True  True ...  True  True  True]\n",
      " [ True  True  True ...  True  True  True]]\n",
      "All the weights are the same? True\n"
     ]
    }
   ],
   "source": [
    "# Before you continue test that your weights are correct (compare with the neurodynex version)\n",
    "P = 4\n",
    "slow_hopfield_net = network.HopfieldNetwork(nr_neurons= pattern_size**2)\n",
    "fast_hopfield_net = Hopfield_fast(pattern_size**2)\n",
    "\n",
    "factory = pattern_tools.PatternFactory(pattern_size, pattern_size)\n",
    "\n",
    "pattern_list = []\n",
    "# add random patterns to the list (this value changes to obtain different probabilities for our plot)\n",
    "pattern_list.extend(factory.create_random_pattern_list(nr_patterns=P, on_probability=0.5))\n",
    "\n",
    "# let the hopfield network \"learn\" the patterns. Note: they are not stored\n",
    "# explicitly but only network weights are updated !\n",
    "slow_hopfield_net.store_patterns(pattern_list)\n",
    "fast_hopfield_net.store_patterns(pattern_list)\n",
    "\n",
    "print(slow_hopfield_net.weights == fast_hopfield_net.weights)\n",
    "print('All the weights are the same? '+str((slow_hopfield_net.weights == fast_hopfield_net.weights).all()))"
   ]
  },
  {
   "cell_type": "markdown",
   "metadata": {},
   "source": [
    "#### Obtaining the plot using alternative and more efficient method to store patterns:"
   ]
  },
  {
   "cell_type": "code",
<<<<<<< HEAD
   "execution_count": 86,
=======
   "execution_count": 61,
>>>>>>> 43ad1c884f0925ecce60599dc49ce70c6e4881a3
   "metadata": {},
   "outputs": [
    {
     "name": "stdout",
     "output_type": "stream",
     "text": [
      "[  1   1   2   3   4   5   6   7   8   9  10  11  12  13  14  15  16  17\n",
      "  18  19  20  21  22  23  24  25  26  27  28  29  30  31  32  33  34  35\n",
      "  36  37  38  39  40  41  42  43  44  45  46  47  48  49  50  51  52  53\n",
      "  54  55  56  57  58  59  60  61  62  63  64  65  66  67  68  69  70  71\n",
      "  72  73  74  75  76  77  78  79  80  81  82  83  84  85  86  87  88  89\n",
      "  90  91  92  93  94  95  96  97  98  99 100]\n"
     ]
    }
   ],
   "source": [
    "# Number of patterns we are currently working with:\n",
    "num_pattern_list = np.arange(0, 101, 1)\n",
    "#num_pattern_list = np.arange(0, 1001, 1)\n",
    "num_pattern_list[0] = 1 # Solving issue with zero patterns...\n",
    "print(num_pattern_list)\n",
    "\n",
    "# When increasing number of patterns, retrieving probability\n",
    "fast_probability_list = []"
   ]
  },
  {
   "cell_type": "code",
<<<<<<< HEAD
   "execution_count": 88,
   "metadata": {},
=======
   "execution_count": 62,
   "metadata": {
    "scrolled": true
   },
>>>>>>> 43ad1c884f0925ecce60599dc49ce70c6e4881a3
   "outputs": [
    {
     "name": "stdout",
     "output_type": "stream",
     "text": [
      "Running for 1 patterns...\n",
      "Probability that our pattern was correctly retrieved:1.0\n",
      "Running for 1 patterns...\n",
      "Probability that our pattern was correctly retrieved:1.0\n",
      "Running for 2 patterns...\n",
      "Probability that our pattern was correctly retrieved:1.0\n",
      "Running for 3 patterns...\n",
      "Probability that our pattern was correctly retrieved:1.0\n",
      "Running for 4 patterns...\n",
      "Probability that our pattern was correctly retrieved:1.0\n",
      "Running for 5 patterns...\n",
      "Probability that our pattern was correctly retrieved:1.0\n",
      "Running for 6 patterns...\n",
      "Probability that our pattern was correctly retrieved:1.0\n",
      "Running for 7 patterns...\n",
      "Probability that our pattern was correctly retrieved:1.0\n",
      "Running for 8 patterns...\n",
<<<<<<< HEAD
      "Probability that our pattern was correctly retrieved:0.97\n",
      "Running for 9 patterns...\n",
      "Probability that our pattern was correctly retrieved:0.98\n",
      "Running for 10 patterns...\n",
      "Probability that our pattern was correctly retrieved:0.96\n",
      "Running for 11 patterns...\n",
      "Probability that our pattern was correctly retrieved:0.95\n",
      "Running for 12 patterns...\n",
      "Probability that our pattern was correctly retrieved:0.88\n",
      "Running for 13 patterns...\n",
      "Probability that our pattern was correctly retrieved:0.87\n",
      "Running for 14 patterns...\n",
      "Probability that our pattern was correctly retrieved:0.79\n",
=======
      "Probability that our pattern was correctly retrieved:1.0\n",
      "Running for 9 patterns...\n",
      "Probability that our pattern was correctly retrieved:1.0\n",
      "Running for 10 patterns...\n",
      "Probability that our pattern was correctly retrieved:1.0\n",
      "Running for 11 patterns...\n",
      "Probability that our pattern was correctly retrieved:1.0\n",
      "Running for 12 patterns...\n",
      "Probability that our pattern was correctly retrieved:1.0\n",
      "Running for 13 patterns...\n",
      "Probability that our pattern was correctly retrieved:0.9999\n",
      "Running for 14 patterns...\n",
      "Probability that our pattern was correctly retrieved:0.9999\n",
>>>>>>> 43ad1c884f0925ecce60599dc49ce70c6e4881a3
      "Running for 15 patterns...\n",
      "Probability that our pattern was correctly retrieved:0.9999\n",
      "Running for 16 patterns...\n",
<<<<<<< HEAD
      "Probability that our pattern was correctly retrieved:0.61\n",
=======
      "Probability that our pattern was correctly retrieved:0.9998\n",
>>>>>>> 43ad1c884f0925ecce60599dc49ce70c6e4881a3
      "Running for 17 patterns...\n",
      "Probability that our pattern was correctly retrieved:0.9998\n",
      "Running for 18 patterns...\n",
<<<<<<< HEAD
      "Probability that our pattern was correctly retrieved:0.55\n",
      "Running for 19 patterns...\n",
      "Probability that our pattern was correctly retrieved:0.53\n",
      "Running for 20 patterns...\n",
      "Probability that our pattern was correctly retrieved:0.46\n",
      "Running for 21 patterns...\n",
      "Probability that our pattern was correctly retrieved:0.23\n",
      "Running for 22 patterns...\n",
      "Probability that our pattern was correctly retrieved:0.21\n",
      "Running for 23 patterns...\n",
      "Probability that our pattern was correctly retrieved:0.2\n",
      "Running for 24 patterns...\n",
      "Probability that our pattern was correctly retrieved:0.2\n",
      "Running for 25 patterns...\n",
      "Probability that our pattern was correctly retrieved:0.12\n",
      "Running for 26 patterns...\n",
      "Probability that our pattern was correctly retrieved:0.02\n",
      "Running for 27 patterns...\n",
      "Probability that our pattern was correctly retrieved:0.09\n",
      "Running for 28 patterns...\n",
      "Probability that our pattern was correctly retrieved:0.02\n",
      "Running for 29 patterns...\n",
      "Probability that our pattern was correctly retrieved:0.06\n",
      "Running for 30 patterns...\n",
      "Probability that our pattern was correctly retrieved:0.01\n",
      "Running for 31 patterns...\n",
      "Probability that our pattern was correctly retrieved:0.05\n",
      "Running for 32 patterns...\n",
      "Probability that our pattern was correctly retrieved:0.0\n",
      "Running for 33 patterns...\n",
      "Probability that our pattern was correctly retrieved:0.01\n",
      "Running for 34 patterns...\n",
      "Probability that our pattern was correctly retrieved:0.02\n",
      "Running for 35 patterns...\n",
      "Probability that our pattern was correctly retrieved:0.0\n",
      "Running for 36 patterns...\n",
      "Probability that our pattern was correctly retrieved:0.0\n",
=======
      "Probability that our pattern was correctly retrieved:0.9996\n",
      "Running for 19 patterns...\n",
      "Probability that our pattern was correctly retrieved:0.9993\n",
      "Running for 20 patterns...\n",
      "Probability that our pattern was correctly retrieved:0.9986\n",
      "Running for 21 patterns...\n",
      "Probability that our pattern was correctly retrieved:0.9983\n",
      "Running for 22 patterns...\n",
      "Probability that our pattern was correctly retrieved:0.9984\n",
      "Running for 23 patterns...\n",
      "Probability that our pattern was correctly retrieved:0.9967\n",
      "Running for 24 patterns...\n",
      "Probability that our pattern was correctly retrieved:0.996\n",
      "Running for 25 patterns...\n",
      "Probability that our pattern was correctly retrieved:0.9953\n",
      "Running for 26 patterns...\n",
      "Probability that our pattern was correctly retrieved:0.9949\n",
      "Running for 27 patterns...\n",
      "Probability that our pattern was correctly retrieved:0.9935\n",
      "Running for 28 patterns...\n",
      "Probability that our pattern was correctly retrieved:0.9933\n",
      "Running for 29 patterns...\n",
      "Probability that our pattern was correctly retrieved:0.99\n",
      "Running for 30 patterns...\n",
      "Probability that our pattern was correctly retrieved:0.9879\n",
      "Running for 31 patterns...\n",
      "Probability that our pattern was correctly retrieved:0.9868\n",
      "Running for 32 patterns...\n",
      "Probability that our pattern was correctly retrieved:0.9831\n",
      "Running for 33 patterns...\n",
      "Probability that our pattern was correctly retrieved:0.9789\n",
      "Running for 34 patterns...\n",
      "Probability that our pattern was correctly retrieved:0.9779\n",
      "Running for 35 patterns...\n",
      "Probability that our pattern was correctly retrieved:0.9794\n",
      "Running for 36 patterns...\n",
      "Probability that our pattern was correctly retrieved:0.9735\n",
>>>>>>> 43ad1c884f0925ecce60599dc49ce70c6e4881a3
      "Running for 37 patterns...\n",
      "Probability that our pattern was correctly retrieved:0.9683\n",
      "Running for 38 patterns...\n",
<<<<<<< HEAD
      "Probability that our pattern was correctly retrieved:0.01\n",
      "Running for 39 patterns...\n",
      "Probability that our pattern was correctly retrieved:0.01\n",
      "Running for 40 patterns...\n",
      "Probability that our pattern was correctly retrieved:0.01\n",
      "Running for 41 patterns...\n",
      "Probability that our pattern was correctly retrieved:0.01\n",
=======
      "Probability that our pattern was correctly retrieved:0.9674\n",
      "Running for 39 patterns...\n",
      "Probability that our pattern was correctly retrieved:0.9631\n",
      "Running for 40 patterns...\n",
      "Probability that our pattern was correctly retrieved:0.9628\n",
      "Running for 41 patterns...\n",
      "Probability that our pattern was correctly retrieved:0.9589\n",
>>>>>>> 43ad1c884f0925ecce60599dc49ce70c6e4881a3
      "Running for 42 patterns...\n",
      "Probability that our pattern was correctly retrieved:0.9587\n",
      "Running for 43 patterns...\n",
      "Probability that our pattern was correctly retrieved:0.9508\n",
      "Running for 44 patterns...\n",
      "Probability that our pattern was correctly retrieved:0.9434\n",
      "Running for 45 patterns...\n",
      "Probability that our pattern was correctly retrieved:0.9405\n",
      "Running for 46 patterns...\n",
      "Probability that our pattern was correctly retrieved:0.9371\n",
      "Running for 47 patterns...\n",
      "Probability that our pattern was correctly retrieved:0.9369\n",
      "Running for 48 patterns...\n",
      "Probability that our pattern was correctly retrieved:0.9343\n",
      "Running for 49 patterns...\n",
      "Probability that our pattern was correctly retrieved:0.9279\n",
      "Running for 50 patterns...\n",
      "Probability that our pattern was correctly retrieved:0.9214\n",
      "Running for 51 patterns...\n",
      "Probability that our pattern was correctly retrieved:0.9253\n",
      "Running for 52 patterns...\n",
      "Probability that our pattern was correctly retrieved:0.9174\n",
      "Running for 53 patterns...\n",
      "Probability that our pattern was correctly retrieved:0.9208\n",
      "Running for 54 patterns...\n",
      "Probability that our pattern was correctly retrieved:0.9129\n",
      "Running for 55 patterns...\n",
      "Probability that our pattern was correctly retrieved:0.9068\n",
      "Running for 56 patterns...\n",
      "Probability that our pattern was correctly retrieved:0.9072\n",
      "Running for 57 patterns...\n",
      "Probability that our pattern was correctly retrieved:0.9019\n",
      "Running for 58 patterns...\n",
      "Probability that our pattern was correctly retrieved:0.8951\n",
      "Running for 59 patterns...\n",
      "Probability that our pattern was correctly retrieved:0.8976\n",
      "Running for 60 patterns...\n",
      "Probability that our pattern was correctly retrieved:0.8957\n",
      "Running for 61 patterns...\n",
      "Probability that our pattern was correctly retrieved:0.8922\n",
      "Running for 62 patterns...\n",
      "Probability that our pattern was correctly retrieved:0.8853\n",
      "Running for 63 patterns...\n",
      "Probability that our pattern was correctly retrieved:0.8847\n",
      "Running for 64 patterns...\n",
      "Probability that our pattern was correctly retrieved:0.8793\n",
      "Running for 65 patterns...\n",
      "Probability that our pattern was correctly retrieved:0.8852\n",
      "Running for 66 patterns...\n",
      "Probability that our pattern was correctly retrieved:0.8685\n",
      "Running for 67 patterns...\n",
      "Probability that our pattern was correctly retrieved:0.8694\n",
      "Running for 68 patterns...\n",
      "Probability that our pattern was correctly retrieved:0.8712\n",
      "Running for 69 patterns...\n",
      "Probability that our pattern was correctly retrieved:0.8676\n",
      "Running for 70 patterns...\n",
      "Probability that our pattern was correctly retrieved:0.8546\n",
      "Running for 71 patterns...\n",
      "Probability that our pattern was correctly retrieved:0.8578\n",
      "Running for 72 patterns...\n",
      "Probability that our pattern was correctly retrieved:0.8586\n",
      "Running for 73 patterns...\n",
      "Probability that our pattern was correctly retrieved:0.8577\n",
      "Running for 74 patterns...\n",
      "Probability that our pattern was correctly retrieved:0.8618\n",
      "Running for 75 patterns...\n",
      "Probability that our pattern was correctly retrieved:0.8553\n",
      "Running for 76 patterns...\n",
      "Probability that our pattern was correctly retrieved:0.8507\n",
      "Running for 77 patterns...\n",
      "Probability that our pattern was correctly retrieved:0.8482\n",
      "Running for 78 patterns...\n",
      "Probability that our pattern was correctly retrieved:0.8521\n",
      "Running for 79 patterns...\n",
      "Probability that our pattern was correctly retrieved:0.8421\n",
      "Running for 80 patterns...\n",
      "Probability that our pattern was correctly retrieved:0.8415\n",
      "Running for 81 patterns...\n",
      "Probability that our pattern was correctly retrieved:0.84\n",
      "Running for 82 patterns...\n",
      "Probability that our pattern was correctly retrieved:0.8415\n",
      "Running for 83 patterns...\n",
      "Probability that our pattern was correctly retrieved:0.8372\n",
      "Running for 84 patterns...\n",
      "Probability that our pattern was correctly retrieved:0.836\n",
      "Running for 85 patterns...\n",
      "Probability that our pattern was correctly retrieved:0.8408\n",
      "Running for 86 patterns...\n",
      "Probability that our pattern was correctly retrieved:0.8331\n",
      "Running for 87 patterns...\n",
      "Probability that our pattern was correctly retrieved:0.8359\n",
      "Running for 88 patterns...\n",
      "Probability that our pattern was correctly retrieved:0.8257\n",
      "Running for 89 patterns...\n",
      "Probability that our pattern was correctly retrieved:0.8395\n",
      "Running for 90 patterns...\n",
      "Probability that our pattern was correctly retrieved:0.8242\n",
      "Running for 91 patterns...\n",
      "Probability that our pattern was correctly retrieved:0.8266\n",
      "Running for 92 patterns...\n",
      "Probability that our pattern was correctly retrieved:0.8264\n",
      "Running for 93 patterns...\n",
      "Probability that our pattern was correctly retrieved:0.8213\n",
      "Running for 94 patterns...\n",
<<<<<<< HEAD
      "Probability that our pattern was correctly retrieved:0.0\n",
      "Running for 95 patterns...\n",
      "Probability that our pattern was correctly retrieved:0.0\n",
      "Running for 96 patterns...\n",
      "Probability that our pattern was correctly retrieved:0.0\n",
      "Running for 97 patterns...\n",
      "Probability that our pattern was correctly retrieved:0.0\n",
      "Running for 98 patterns...\n",
      "Probability that our pattern was correctly retrieved:0.0\n",
      "Running for 99 patterns...\n",
      "Probability that our pattern was correctly retrieved:0.0\n",
      "Running for 100 patterns...\n",
      "Probability that our pattern was correctly retrieved:0.0\n"
=======
      "Probability that our pattern was correctly retrieved:0.8182\n",
      "Running for 95 patterns...\n"
     ]
    },
    {
     "name": "stdout",
     "output_type": "stream",
     "text": [
      "Probability that our pattern was correctly retrieved:0.8215\n",
      "Running for 96 patterns...\n",
      "Probability that our pattern was correctly retrieved:0.8169\n",
      "Running for 97 patterns...\n",
      "Probability that our pattern was correctly retrieved:0.8167\n",
      "Running for 98 patterns...\n",
      "Probability that our pattern was correctly retrieved:0.8158\n",
      "Running for 99 patterns...\n",
      "Probability that our pattern was correctly retrieved:0.8144\n",
      "Running for 100 patterns...\n",
      "Probability that our pattern was correctly retrieved:0.812\n"
>>>>>>> 43ad1c884f0925ecce60599dc49ce70c6e4881a3
     ]
    }
   ],
   "source": [
    "for P in num_pattern_list:\n",
    "    \n",
    "    print('Running for '+str(P)+' patterns...')\n",
    "    # create an instance of the class HopfieldNetwork\n",
    "    fast_hopfield_net = Hopfield_fast(nr_neurons= pattern_size**2)\n",
    "    \n",
    "    # instantiate a pattern factory\n",
    "    factory = pattern_tools.PatternFactory(pattern_size, pattern_size)\n",
    "\n",
    "    identical_count = 0\n",
    "    \n",
    "    for i in range(running_iterations_fast): # run the script some times\n",
    "\n",
    "        pattern_list = []\n",
    "        # add random patterns to the list (this value changes to obtain different probabilities for our plot)\n",
    "        pattern_list.extend(factory.create_random_pattern_list(nr_patterns=P, on_probability=0.5))\n",
    "\n",
    "        # let the hopfield network \"learn\" the patterns. Note: they are not stored\n",
    "        # explicitly but only network weights are updated !\n",
    "        fast_hopfield_net.store_patterns(pattern_list)\n",
    "\n",
    "        # initialize with original pattern\n",
    "        fast_hopfield_net.set_state_from_pattern(pattern_list[0])\n",
    "        # from this initial state, let the network dynamics evolve. \n",
    "        states = fast_hopfield_net.run_with_monitoring(nr_steps=T-1) # T-1 gets us to state 5\n",
    "\n",
    "        # each network state is a vector. reshape it to the same shape used to create the patterns.\n",
    "        states_as_patterns = factory.reshape_patterns(states)\n",
    "        # plot the states of the network\n",
    "        # plot_tools.plot_state_sequence_and_overlap(states_as_patterns, pattern_list, reference_idx=0, suptitle=\"Network dynamics\")\n",
    "\n",
    "        overlap_list = []\n",
    "        \n",
    "        overlap_list = pattern_tools.compute_overlap_list(states_as_patterns[-1], pattern_list)\n",
    "        max_overlap = np.argmax(overlap_list)\n",
    " \n",
    "        if (max_overlap == 0):\n",
    "            identical_count += 1\n",
    "        # More restrictive definition of stored patterns\n",
    "        #if (np.sum(states_as_patterns[-1] == pattern_list[0])) == 100:\n",
    "            # We have identical patterns, one neuron state was flipped after 5 iterations\n",
    "            #identical_count += 1\n",
    "\n",
    "    proba_correct = identical_count / running_iterations_fast\n",
    "    print(\"Probability that our pattern was correctly retrieved:\" +str(proba_correct))\n",
    "\n",
    "    fast_probability_list.append(proba_correct)"
   ]
  },
  {
   "cell_type": "code",
<<<<<<< HEAD
   "execution_count": 89,
=======
   "execution_count": 63,
>>>>>>> 43ad1c884f0925ecce60599dc49ce70c6e4881a3
   "metadata": {},
   "outputs": [
    {
     "data": {
<<<<<<< HEAD
      "image/png": "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\n",
=======
      "image/png": "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\n",
>>>>>>> 43ad1c884f0925ecce60599dc49ce70c6e4881a3
      "text/plain": [
       "<Figure size 432x288 with 1 Axes>"
      ]
     },
     "metadata": {
      "needs_background": "light"
     },
     "output_type": "display_data"
    }
   ],
   "source": [
    "# Plotting the probability for pattern p^1 to be effectively stored, as a function of the number of patterns\n",
    "\n",
    "plt.figure()\n",
    "plt.scatter(num_pattern_list, fast_probability_list)\n",
    "plt.xlabel('Number of patterns')\n",
    "plt.ylabel('Probability')\n",
    "plt.title('Probability of effectively storing pattern p^1 as a function of the number of patterns')\n",
    "plt.grid(True)\n",
    "plt.savefig('question22.png', bbox_inches='tight')"
   ]
  },
  {
   "cell_type": "markdown",
   "metadata": {},
   "source": [
    "### Question 2.3."
   ]
  },
  {
   "cell_type": "code",
<<<<<<< HEAD
   "execution_count": 90,
=======
   "execution_count": 64,
>>>>>>> 43ad1c884f0925ecce60599dc49ce70c6e4881a3
   "metadata": {},
   "outputs": [
    {
     "name": "stdout",
     "output_type": "stream",
     "text": [
<<<<<<< HEAD
      "From the previous question, the empirical capacity is: 0.08\n"
=======
      "From the previous question, the empirical capacity is: 0.3\n"
>>>>>>> 43ad1c884f0925ecce60599dc49ce70c6e4881a3
     ]
    }
   ],
   "source": [
    "# Extracting empirical capacity:\n",
    "\n",
    "# We are looking for the maximal number of patterns that the network can store with P = 0.99\n",
    "\n",
    "fast_probability_list_array = np.array(fast_probability_list)\n",
    "P_star_empirical = len(fast_probability_list_array[fast_probability_list_array >= 0.99]) # maximal value obtained where probability is still above or equal to 0.99\n",
    "\n",
    "C_empirical = P_star_empirical / N\n",
    "\n",
    "print(\"From the previous question, the empirical capacity is: \"+str(C_empirical))"
   ]
  },
  {
   "cell_type": "code",
<<<<<<< HEAD
   "execution_count": 91,
=======
   "execution_count": 65,
   "metadata": {},
   "outputs": [],
   "source": [
    "# Comparing to theoretical capacity found in pen&pencil exercise 3 of week 5:\n",
    "# Instead of having 1 flipped pixel over 10000, we have 1 flipped pixel over 100\n",
    "\n",
    "# To have on average, at most, one bit to be wrong: corresponds to erf(sqrt(N/(2*(P-1)))) = 1-2/N = 0.98\n",
    "import scipy.integrate as integrate\n",
    "import scipy.special as special\n",
    "\n",
    "# Defining error function so then can identify for which x we have 0.98\n",
    "def erf(x):\n",
    "    return integrate.quad(lambda t: 2/(np.sqrt(np.pi))*np.exp(-t**2), 0, x)"
   ]
  },
  {
   "cell_type": "code",
   "execution_count": 66,
>>>>>>> 43ad1c884f0925ecce60599dc49ce70c6e4881a3
   "metadata": {},
   "outputs": [
    {
     "name": "stdout",
     "output_type": "stream",
     "text": [
      "(0.9997639655834708, 3.405675212119053e-14)\n"
     ]
    }
   ],
   "source": [
    "# Testing out the function with the example of the P&P Exercise from week 5: we do obtain 0.9998\n",
    "print(erf(2.6))"
   ]
  },
  {
   "cell_type": "code",
   "execution_count": 67,
   "metadata": {
    "scrolled": true
   },
   "outputs": [
    {
     "name": "stdout",
     "output_type": "stream",
     "text": [
      "When computing by hand, in order to have 0.98, we have x = np.sqrt(-np.log(0.02))\n",
      "The numerical value is therefore: 1.977883466088977\n",
      "When checking with the erf function we defined: \n",
      "0.9948444348021958\n"
     ]
    }
   ],
   "source": [
    "print(\"When computing by hand, in order to have 0.98, we have x = np.sqrt(-np.log(0.02))\")\n",
    "print(\"The numerical value is therefore: \"+str(np.sqrt(-np.log(0.02))))\n",
    "\n",
    "print(\"When checking with the erf function we defined: \")\n",
    "print(erf(np.sqrt(-np.log(0.02)))[0])"
   ]
  },
  {
   "cell_type": "code",
   "execution_count": 68,
   "metadata": {},
   "outputs": [
    {
     "name": "stdout",
     "output_type": "stream",
     "text": [
      "We deduce the theoretical capacity:0.13781110931766574\n"
     ]
    }
   ],
   "source": [
    "# This gives us:\n",
    "\n",
    "P_star_theoretical = 1 + N/(2*( np.sqrt(-np.log(0.02)) **2))\n",
    "\n",
    "C_theoretical = P_star_theoretical/N\n",
    "\n",
    "print(\"We deduce the theoretical capacity:\"+str(C_theoretical))"
   ]
  },
  {
   "cell_type": "markdown",
   "metadata": {},
   "source": [
    "# 3. From binary neurons to saturated rectified linear neurons\n",
    "\n",
    "### Question 3.1"
   ]
  },
  {
   "cell_type": "code",
<<<<<<< HEAD
   "execution_count": 92,
=======
   "execution_count": 19,
>>>>>>> 43ad1c884f0925ecce60599dc49ce70c6e4881a3
   "metadata": {},
   "outputs": [],
   "source": [
    "t_range = np.linspace(-10,10, 1000000)\n",
    "\n",
    "def g(h, beta):\n",
    "    return np.minimum(1, np.maximum(-1, beta*h))"
   ]
  },
  {
   "cell_type": "code",
<<<<<<< HEAD
   "execution_count": 93,
=======
   "execution_count": 101,
>>>>>>> 43ad1c884f0925ecce60599dc49ce70c6e4881a3
   "metadata": {},
   "outputs": [
    {
     "data": {
      "image/png": "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\n",
      "text/plain": [
       "<Figure size 432x288 with 1 Axes>"
      ]
     },
     "metadata": {
      "needs_background": "light"
     },
     "output_type": "display_data"
    }
   ],
   "source": [
    "beta = 1\n",
    "y_values = []\n",
    "\n",
    "for t in t_range:\n",
    "    y = g(t, beta)\n",
    "    y_values.append(y)\n",
    "\n",
    "\n",
    "plt.figure()\n",
    "plt.plot(t_range, y_values)\n",
    "plt.xlabel('h')\n",
    "plt.ylabel('g(h)')\n",
    "plt.title('Gain function for beta = 1')\n",
    "plt.grid(True)\n",
    "plt.savefig('question31.png', bbox_inches='tight')"
   ]
  },
  {
   "cell_type": "markdown",
   "metadata": {},
   "source": [
    "### Question 3.2\n",
    "\n",
    "See report for theoretical answer\n",
    "\n",
    "### Question 3.3"
   ]
  },
  {
   "cell_type": "code",
   "execution_count": 20,
   "metadata": {},
   "outputs": [
    {
     "name": "stdout",
     "output_type": "stream",
     "text": [
      "Beta values:\n",
      "[   1   10   20   30   40   50   60   70   80   90  100  110  120  130\n",
      "  140  150  160  170  180  190  200  210  220  230  240  250  260  270\n",
      "  280  290  300  310  320  330  340  350  360  370  380  390  400  410\n",
      "  420  430  440  450  460  470  480  490  500  510  520  530  540  550\n",
      "  560  570  580  590  600  610  620  630  640  650  660  670  680  690\n",
      "  700  710  720  730  740  750  760  770  780  790  800  810  820  830\n",
      "  840  850  860  870  880  890  900  910  920  930  940  950  960  970\n",
      "  980  990 1000]\n"
     ]
    }
   ],
   "source": [
    "betas = np.arange(1, 1010, 10)\n",
    "betas[1:] = betas[1:]-1\n",
    "\n",
    "print('Beta values:')\n",
    "print(betas)"
   ]
  },
  {
   "cell_type": "code",
   "execution_count": 21,
   "metadata": {},
   "outputs": [
    {
     "name": "stdout",
     "output_type": "stream",
     "text": [
      "[  1   2   3   4   5   6   7   8   9  10  11  12  13  14  15  16  17  18\n",
      "  19  20  30  40  50  60  70  80  90 100]\n"
     ]
    }
   ],
   "source": [
    "num_pattern_list = np.arange(1,20,1)\n",
    "num_pattern_list_ending = np.arange(20,110,10)\n",
    "num_pattern_list = np.concatenate((num_pattern_list, num_pattern_list_ending), axis=None)\n",
    "print(num_pattern_list)"
   ]
  },
  {
   "cell_type": "code",
   "execution_count": 22,
   "metadata": {},
   "outputs": [],
   "source": [
    "def update_function(state_s0, weights):\n",
    "    global beta\n",
    "    random_neuron_idx_list = np.random.permutation(len(state_s0))\n",
    "    state_s1 = state_s0.copy()\n",
    "    for i in range(len(random_neuron_idx_list)):\n",
    "        rand_neuron_i = random_neuron_idx_list[i]\n",
    "        h_i = np.dot(weights[:, rand_neuron_i], state_s1)\n",
    "        prop_state_s1_on = np.minimum(1, np.maximum(-1, beta*h_i))\n",
    "        # the update here is probabilistic and in the next line we do the inference step\n",
    "        state_s1[rand_neuron_i] = 1 if prop_state_s1_on > np.random.rand() else -1 \n",
    "    return state_s1"
   ]
  },
  {
   "cell_type": "code",
   "execution_count": 95,
   "metadata": {
    "scrolled": true
   },
   "outputs": [
    {
     "name": "stdout",
     "output_type": "stream",
     "text": [
      "For Beta=1, The Capacity=0.0\n",
      "For Beta=10, The Capacity=0.08\n",
      "For Beta=20, The Capacity=0.08\n",
      "For Beta=30, The Capacity=0.09\n",
      "For Beta=40, The Capacity=0.09\n",
      "For Beta=50, The Capacity=0.09\n",
      "For Beta=60, The Capacity=0.09\n",
      "For Beta=70, The Capacity=0.09\n",
      "For Beta=80, The Capacity=0.08\n",
      "For Beta=90, The Capacity=0.09\n",
      "For Beta=100, The Capacity=0.08\n",
      "For Beta=110, The Capacity=0.08\n",
      "For Beta=120, The Capacity=0.08\n",
      "For Beta=130, The Capacity=0.07\n",
      "For Beta=140, The Capacity=0.09\n",
      "For Beta=150, The Capacity=0.09\n",
      "For Beta=160, The Capacity=0.08\n",
      "For Beta=170, The Capacity=0.08\n",
      "For Beta=180, The Capacity=0.1\n",
      "For Beta=190, The Capacity=0.09\n",
      "For Beta=200, The Capacity=0.08\n",
      "For Beta=210, The Capacity=0.08\n",
      "For Beta=220, The Capacity=0.08\n",
      "For Beta=230, The Capacity=0.08\n",
      "For Beta=240, The Capacity=0.09\n",
      "For Beta=250, The Capacity=0.08\n",
      "For Beta=260, The Capacity=0.08\n",
      "For Beta=270, The Capacity=0.08\n",
      "For Beta=280, The Capacity=0.07\n",
      "For Beta=290, The Capacity=0.09\n",
      "For Beta=300, The Capacity=0.09\n",
      "For Beta=310, The Capacity=0.07\n",
      "For Beta=320, The Capacity=0.09\n",
      "For Beta=330, The Capacity=0.08\n",
      "For Beta=340, The Capacity=0.07\n",
      "For Beta=350, The Capacity=0.09\n",
      "For Beta=360, The Capacity=0.09\n",
      "For Beta=370, The Capacity=0.08\n",
      "For Beta=380, The Capacity=0.08\n",
      "For Beta=390, The Capacity=0.08\n",
      "For Beta=400, The Capacity=0.08\n",
      "For Beta=410, The Capacity=0.1\n",
      "For Beta=420, The Capacity=0.09\n",
      "For Beta=430, The Capacity=0.08\n",
      "For Beta=440, The Capacity=0.09\n",
      "For Beta=450, The Capacity=0.08\n",
      "For Beta=460, The Capacity=0.09\n",
      "For Beta=470, The Capacity=0.08\n",
      "For Beta=480, The Capacity=0.09\n",
      "For Beta=490, The Capacity=0.09\n",
      "For Beta=500, The Capacity=0.09\n",
      "For Beta=510, The Capacity=0.08\n",
      "For Beta=520, The Capacity=0.08\n",
      "For Beta=530, The Capacity=0.08\n",
      "For Beta=540, The Capacity=0.09\n",
      "For Beta=550, The Capacity=0.08\n",
      "For Beta=560, The Capacity=0.09\n",
      "For Beta=570, The Capacity=0.09\n",
      "For Beta=580, The Capacity=0.08\n",
      "For Beta=590, The Capacity=0.09\n",
      "For Beta=600, The Capacity=0.08\n",
      "For Beta=610, The Capacity=0.08\n",
      "For Beta=620, The Capacity=0.09\n",
      "For Beta=630, The Capacity=0.09\n",
      "For Beta=640, The Capacity=0.09\n",
      "For Beta=650, The Capacity=0.08\n",
      "For Beta=660, The Capacity=0.08\n",
      "For Beta=670, The Capacity=0.09\n",
      "For Beta=680, The Capacity=0.09\n",
      "For Beta=690, The Capacity=0.09\n",
      "For Beta=700, The Capacity=0.09\n",
      "For Beta=710, The Capacity=0.08\n",
      "For Beta=720, The Capacity=0.08\n",
      "For Beta=730, The Capacity=0.09\n",
      "For Beta=740, The Capacity=0.1\n",
      "For Beta=750, The Capacity=0.09\n",
      "For Beta=760, The Capacity=0.08\n",
      "For Beta=770, The Capacity=0.08\n",
      "For Beta=780, The Capacity=0.08\n",
      "For Beta=790, The Capacity=0.08\n",
      "For Beta=800, The Capacity=0.09\n",
      "For Beta=810, The Capacity=0.08\n",
      "For Beta=820, The Capacity=0.07\n",
      "For Beta=830, The Capacity=0.09\n",
      "For Beta=840, The Capacity=0.08\n",
      "For Beta=850, The Capacity=0.08\n",
      "For Beta=860, The Capacity=0.1\n",
      "For Beta=870, The Capacity=0.09\n",
      "For Beta=880, The Capacity=0.09\n",
      "For Beta=890, The Capacity=0.09\n",
      "For Beta=900, The Capacity=0.09\n",
      "For Beta=910, The Capacity=0.08\n",
      "For Beta=920, The Capacity=0.09\n",
      "For Beta=930, The Capacity=0.08\n",
      "For Beta=940, The Capacity=0.09\n",
      "For Beta=950, The Capacity=0.09\n",
      "For Beta=960, The Capacity=0.09\n",
      "For Beta=970, The Capacity=0.08\n",
      "For Beta=980, The Capacity=0.08\n",
      "For Beta=990, The Capacity=0.08\n",
      "For Beta=1000, The Capacity=0.08\n"
     ]
    }
   ],
   "source": [
    "capacity = []\n",
    "\n",
    "for beta in betas:\n",
    "    \n",
    "    probability_list = []\n",
    "\n",
    "    for P in num_pattern_list:\n",
    "\n",
    "        hopfield_net = Hopfield_fast(nr_neurons= pattern_size**2)\n",
    "        hopfield_net.set_dynamics_to_user_function(update_function)\n",
    "        \n",
    "        factory = pattern_tools.PatternFactory(pattern_size, pattern_size)\n",
    "        identical_count = 0\n",
    "\n",
    "        for i in range(running_iterations_fast):\n",
    "            pattern_list = []\n",
    "            # add random patterns to the list\n",
    "            pattern_list.extend(factory.create_random_pattern_list(nr_patterns=P, on_probability=0.5))\n",
    "            # let the hopfield network \"learn\" the patterns. Note: they are not stored\n",
    "            # explicitly but only network weights are updated !\n",
    "            hopfield_net.store_patterns(pattern_list)\n",
    "            # initialize with original pattern\n",
    "            hopfield_net.set_state_from_pattern(pattern_list[0])\n",
    "            # from this initial state, let the network dynamics evolve. \n",
    "            states = hopfield_net.run_with_monitoring(nr_steps=5) # T-1 gets us to state 5\n",
    "            # each network state is a vector. reshape it to the same shape used to create the patterns.\n",
    "            states_as_patterns = factory.reshape_patterns(states)\n",
    "\n",
    "            # Computing the overlap\n",
    "            overlap_list = []\n",
    "            overlap_list = pattern_tools.compute_overlap_list(states_as_patterns[-1], pattern_list)\n",
    "            max_overlap = np.argmax(overlap_list)\n",
    "            if (max_overlap == 0): # if the overlap is maximal with pattern 1, then we increment the counting to then obtain the probability\n",
    "                identical_count += 1\n",
    "\n",
    "\n",
    "        proba_correct = identical_count / running_iterations_fast\n",
    "        probability_list.append(proba_correct)\n",
    "\n",
    "    probability_list = np.array(probability_list)\n",
    "    P_star = len(probability_list[probability_list >= 0.99]) # maximal value obtained where probability is still above or equal to 0.99\n",
    "\n",
    "    capacity.append(P_star/N)\n",
    "    print('For Beta='+str(beta)+', The Capacity='+str(P_star/N))"
   ]
  },
  {
   "cell_type": "code",
   "execution_count": 104,
   "metadata": {},
   "outputs": [
    {
     "data": {
      "image/png": "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\n",
      "text/plain": [
       "<Figure size 432x288 with 1 Axes>"
      ]
     },
     "metadata": {
      "needs_background": "light"
     },
     "output_type": "display_data"
    }
   ],
   "source": [
    "plt.plot(betas, capacity)\n",
    "plt.xlabel('Beta')\n",
    "plt.ylabel('Capacity')\n",
    "plt.grid(True)\n",
    "plt.title('Capacity as a function of Beta')\n",
    "plt.savefig('question33.png', bbox_inches='tight')"
   ]
  },
  {
   "cell_type": "markdown",
   "metadata": {},
   "source": [
    "###### Zooming into beta values which are closer to 0:"
   ]
  },
  {
   "cell_type": "code",
   "execution_count": 27,
   "metadata": {},
   "outputs": [],
   "source": [
    "betas_begin = np.arange(1, 21, 1)\n",
    "betas_end = np.arange(20,105,5)\n",
    "betas = np.concatenate((betas_begin, betas_end), axis=None)"
   ]
  },
  {
   "cell_type": "code",
   "execution_count": 28,
   "metadata": {
    "scrolled": true
   },
   "outputs": [
    {
     "name": "stdout",
     "output_type": "stream",
     "text": [
      "For Beta=1, The Capacity=0.0\n",
      "For Beta=2, The Capacity=0.03\n",
      "For Beta=3, The Capacity=0.06\n",
      "For Beta=4, The Capacity=0.06\n",
      "For Beta=5, The Capacity=0.07\n",
      "For Beta=6, The Capacity=0.08\n",
      "For Beta=7, The Capacity=0.08\n",
      "For Beta=8, The Capacity=0.08\n",
      "For Beta=9, The Capacity=0.09\n",
      "For Beta=10, The Capacity=0.09\n",
      "For Beta=11, The Capacity=0.08\n",
      "For Beta=12, The Capacity=0.08\n",
      "For Beta=13, The Capacity=0.08\n",
      "For Beta=14, The Capacity=0.09\n",
      "For Beta=15, The Capacity=0.09\n",
      "For Beta=16, The Capacity=0.09\n",
      "For Beta=17, The Capacity=0.09\n",
      "For Beta=18, The Capacity=0.08\n",
      "For Beta=19, The Capacity=0.1\n",
      "For Beta=20, The Capacity=0.08\n",
      "For Beta=20, The Capacity=0.07\n",
      "For Beta=25, The Capacity=0.09\n",
      "For Beta=30, The Capacity=0.08\n",
      "For Beta=35, The Capacity=0.09\n",
      "For Beta=40, The Capacity=0.09\n",
      "For Beta=45, The Capacity=0.08\n",
      "For Beta=50, The Capacity=0.08\n",
      "For Beta=55, The Capacity=0.09\n",
      "For Beta=60, The Capacity=0.08\n",
      "For Beta=65, The Capacity=0.09\n",
      "For Beta=70, The Capacity=0.08\n",
      "For Beta=75, The Capacity=0.08\n",
      "For Beta=80, The Capacity=0.08\n",
      "For Beta=85, The Capacity=0.09\n",
      "For Beta=90, The Capacity=0.08\n",
      "For Beta=95, The Capacity=0.09\n",
      "For Beta=100, The Capacity=0.09\n"
     ]
    }
   ],
   "source": [
    "# Zooming in for beta values:\n",
    "capacity_smaller_betas = []\n",
    "\n",
    "for beta in betas:\n",
    "    \n",
    "    probability_list = []\n",
    "\n",
    "    for P in num_pattern_list:\n",
    "\n",
    "        hopfield_net = Hopfield_fast(nr_neurons= pattern_size**2)\n",
    "        hopfield_net.set_dynamics_to_user_function(update_function)\n",
    "        \n",
    "        factory = pattern_tools.PatternFactory(pattern_size, pattern_size)\n",
    "        identical_count = 0\n",
    "\n",
    "        for i in range(running_iterations_fast):\n",
    "            pattern_list = []\n",
    "            # add random patterns to the list\n",
    "            pattern_list.extend(factory.create_random_pattern_list(nr_patterns=P, on_probability=0.5))\n",
    "            # let the hopfield network \"learn\" the patterns. Note: they are not stored\n",
    "            # explicitly but only network weights are updated !\n",
    "            hopfield_net.store_patterns(pattern_list)\n",
    "            # initialize with original pattern\n",
    "            hopfield_net.set_state_from_pattern(pattern_list[0])\n",
    "            # from this initial state, let the network dynamics evolve. \n",
    "            states = hopfield_net.run_with_monitoring(nr_steps=5) # T-1 gets us to state 5\n",
    "            # each network state is a vector. reshape it to the same shape used to create the patterns.\n",
    "            states_as_patterns = factory.reshape_patterns(states)\n",
    "            # Computing the overlap\n",
    "            overlap_list = []\n",
    "            overlap_list = pattern_tools.compute_overlap_list(states_as_patterns[-1], pattern_list)\n",
    "            max_overlap = np.argmax(overlap_list)\n",
    "            if (max_overlap == 0): # if the overlap is maximal with pattern 1, then we increment the counting to then obtain the probability\n",
    "                identical_count += 1\n",
    "\n",
    "        proba_correct = identical_count / running_iterations_fast\n",
    "        probability_list.append(proba_correct)\n",
    "\n",
    "    probability_list = np.array(probability_list)\n",
    "    P_star = len(probability_list[probability_list >= 0.99]) # maximal value obtained where probability is still above or equal to 0.99\n",
    "\n",
    "    capacity_smaller_betas.append(P_star/N)\n",
    "    print('For Beta='+str(beta)+', The Capacity='+str(P_star/N))"
   ]
  },
  {
   "cell_type": "code",
<<<<<<< HEAD
   "execution_count": 97,
=======
   "execution_count": 31,
>>>>>>> 43ad1c884f0925ecce60599dc49ce70c6e4881a3
   "metadata": {},
   "outputs": [
    {
     "data": {
<<<<<<< HEAD
      "image/png": "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\n",
=======
      "image/png": "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\n",
      "text/plain": [
       "<Figure size 432x288 with 1 Axes>"
      ]
     },
     "metadata": {
      "needs_background": "light"
     },
     "output_type": "display_data"
    }
   ],
   "source": [
    "plt.plot(betas, capacity_smaller_betas)\n",
    "plt.xlabel('Beta')\n",
    "plt.ylabel('Capacity')\n",
    "plt.grid(True)\n",
    "plt.title('Capacity as a function of Beta')\n",
    "plt.savefig('question33zoomedin.png', bbox_inches='tight')"
   ]
  },
  {
   "cell_type": "markdown",
   "metadata": {},
   "source": [
    "### Question 3.4"
   ]
  },
  {
   "cell_type": "code",
   "execution_count": 105,
   "metadata": {},
   "outputs": [
    {
     "data": {
      "image/png": "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\n",
>>>>>>> 43ad1c884f0925ecce60599dc49ce70c6e4881a3
      "text/plain": [
       "<Figure size 432x288 with 1 Axes>"
      ]
     },
     "metadata": {
      "needs_background": "light"
     },
     "output_type": "display_data"
    }
   ],
   "source": [
<<<<<<< HEAD
    "small_betas = [0.1,0.25,0.5,0.75,1]\n",
=======
    "small_betas = [0.1, 0.25, 0.5, 0.75, 1]\n",
    "\n",
>>>>>>> 43ad1c884f0925ecce60599dc49ce70c6e4881a3
    "plt.figure()\n",
    "\n",
    "for beta in small_betas:\n",
    "    y_values = []\n",
<<<<<<< HEAD
=======
    "\n",
>>>>>>> 43ad1c884f0925ecce60599dc49ce70c6e4881a3
    "    for t in t_range:\n",
    "        y = g(t, beta)\n",
    "        y_values.append(y)\n",
    "\n",
<<<<<<< HEAD
    "    plt.plot(t_range, y_values, label=beta)\n",
    "    plt.xlabel('h')\n",
    "    plt.ylabel('g(h)')\n",
    "plt.legend()\n",
    "plt.title('Gain function for betas < 1')\n",
    "plt.savefig('question3.4.png')"
=======
    "\n",
    "    plt.plot(t_range, y_values, label = beta)\n",
    "    plt.xlabel('h')\n",
    "    plt.ylabel('g(h)')\n",
    "    plt.title('Gain function for betas < 1')\n",
    "\n",
    "plt.grid(True)\n",
    "plt.legend()\n",
    "plt.savefig('question34.png', bbox_inches='tight')"
>>>>>>> 43ad1c884f0925ecce60599dc49ce70c6e4881a3
   ]
  },
  {
   "cell_type": "code",
   "execution_count": 43,
   "metadata": {},
   "outputs": [
    {
     "name": "stdout",
     "output_type": "stream",
     "text": [
      "\n"
     ]
    },
    {
     "data": {
      "image/png": "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\n",
      "text/plain": [
       "<Figure size 432x288 with 1 Axes>"
      ]
     },
     "metadata": {
      "needs_background": "light"
     },
     "output_type": "display_data"
    },
    {
     "data": {
      "image/png": "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\n",
      "text/plain": [
       "<Figure size 432x288 with 12 Axes>"
      ]
     },
     "metadata": {
      "needs_background": "light"
     },
     "output_type": "display_data"
    }
   ],
   "source": [
    "# Running a simulation with such a small beta value to see evolution:\n",
    "\n",
    "# Defining values\n",
    "small_beta = 0.25\n",
    "beta = small_beta\n",
    "pattern_size = 10 # Pattern size, chosen so that pattern_size**2 = 100 = N\n",
    "number_patterns = 5\n",
    "\n",
    "# create an instance of the class HopfieldNetwork\n",
    "hopfield_net = Hopfield_fast(nr_neurons= pattern_size**2)\n",
    "hopfield_net.set_dynamics_to_user_function(update_function)\n",
    "\n",
    "# instantiate a pattern factory\n",
    "factory = pattern_tools.PatternFactory(pattern_size, pattern_size)\n",
    "\n",
    "pattern_list = []\n",
    "\n",
    "# add random patterns to the list\n",
    "pattern_list.extend(factory.create_random_pattern_list(nr_patterns=number_patterns, on_probability=0.5))\n",
    "\n",
    "# let the hopfield network \"learn\" the patterns. Note: they are not stored\n",
    "# explicitly but only network weights are updated !\n",
    "hopfield_net.store_patterns(pattern_list)\n",
    "\n",
    "plt.figure()\n",
    "plt.hist(hopfield_net.weights.flatten(),10)\n",
    "\n",
    "hopfield_net.set_state_from_pattern(pattern_list[0])\n",
    "#hopfield_net.set_state_from_pattern(0*new_pattern_list[0]) # even if we set the pattern to only zero values, all the values are converge to 1\n",
    "\n",
    "# from this initial state, let the network dynamics evolve. \n",
    "states = hopfield_net.run_with_monitoring(nr_steps=5)\n",
    "\n",
    "# each network state is a vector. reshape it to the same shape used to create the patterns.\n",
    "states_as_patterns = factory.reshape_patterns(states)\n",
    "# plot the states of the network\n",
    "plot_tools.plot_state_sequence_and_overlap(states_as_patterns, pattern_list, reference_idx=0, suptitle=\"Network dynamics\")\n",
    "\n"
   ]
  },
  {
   "cell_type": "markdown",
   "metadata": {},
   "source": [
    "# 4. Correlated Patterns\n",
    "\n",
    "### Question 4.1"
   ]
  },
  {
   "cell_type": "code",
   "execution_count": 109,
   "metadata": {},
   "outputs": [
    {
     "name": "stdout",
     "output_type": "stream",
     "text": [
      "k_values: \n",
      "[ 0 10 20 30 40 50 60 70 80 90]\n"
     ]
    }
   ],
   "source": [
    "k_values = np.arange(0, 100, 10)\n",
    "print(\"k_values: \")\n",
    "print(k_values)"
   ]
  },
  {
   "cell_type": "code",
   "execution_count": 113,
   "metadata": {},
   "outputs": [
    {
     "name": "stdout",
     "output_type": "stream",
     "text": [
      "[  1   2   3   4   5   6   7   8   9  10  11  12  13  14  15  16  17  18\n",
      "  19  20  21  22  23  24  25  26  27  28  29  30  31  32  33  34  35  36\n",
      "  37  38  39  40  41  42  43  44  45  46  47  48  49  50  51  52  53  54\n",
      "  55  56  57  58  59  60  61  62  63  64  65  66  67  68  69  70  71  72\n",
      "  73  74  75  76  77  78  79  80  81  82  83  84  85  86  87  88  89  90\n",
      "  91  92  93  94  95  96  97  98  99 100]\n"
     ]
    }
   ],
   "source": [
    "num_pattern_list = np.arange(1, 101, 1)\n",
    "print(num_pattern_list)"
   ]
  },
  {
   "cell_type": "code",
   "execution_count": 141,
   "metadata": {
    "scrolled": true
   },
   "outputs": [
    {
     "name": "stdout",
     "output_type": "stream",
     "text": [
      "For k = 0: \n",
      "Capacity is equal to: 0.09\n",
      "For k = 10: \n",
      "Capacity is equal to: 0.05\n",
      "For k = 20: \n",
      "Capacity is equal to: 0.04\n",
      "For k = 30: \n",
      "Capacity is equal to: 0.03\n",
      "For k = 40: \n",
      "Capacity is equal to: 0.02\n",
      "For k = 50: \n",
      "Capacity is equal to: 0.02\n",
      "For k = 60: \n",
      "Capacity is equal to: 0.02\n",
      "For k = 70: \n",
      "Capacity is equal to: 0.02\n",
      "For k = 80: \n",
      "Capacity is equal to: 0.02\n",
      "For k = 90: \n",
      "Capacity is equal to: 0.01\n"
     ]
    }
   ],
   "source": [
    "capacity_k = []\n",
    "\n",
    "for k in k_values:\n",
    "    \n",
    "    probability_list = []\n",
    "    \n",
    "    for P in num_pattern_list:\n",
    "\n",
    "        # create an instance of the class HopfieldNetwork\n",
    "        fast_hopfield_net = Hopfield_fast(nr_neurons= pattern_size**2)\n",
    "\n",
    "        # instantiate a pattern factory\n",
    "        factory = pattern_tools.PatternFactory(pattern_size, pattern_size)\n",
    "\n",
    "        identical_count = 0\n",
    "\n",
    "        for i in range(running_iterations_fast): # run the script some times\n",
    "\n",
    "            pattern_list = []\n",
    "            # add random patterns to the list (this value changes to obtain different probabilities for our plot)\n",
    "            pattern_list.extend(factory.create_random_pattern_list(nr_patterns=P, on_probability=0.5))\n",
    "\n",
    "            ref_pattern = np.reshape(pattern_list[0], (1,pattern_size**2)) # reshaping so that can set the k first values to identical values\n",
    "            \n",
    "            new_pattern_list = []  # defining correlated patter list\n",
    "            \n",
    "            for i, pattern in enumerate(pattern_list):\n",
    "                if i == 0:\n",
    "                    new_pattern_list.append(np.reshape(ref_pattern, (pattern_size, pattern_size)))\n",
    "                if i!=0:\n",
    "                    pattern = np.reshape(pattern, (1,pattern_size**2))\n",
    "                    pattern[0][:k+1] = ref_pattern[0][:k+1]\n",
    "                    pattern = np.reshape(pattern, (pattern_size, pattern_size))\n",
    "                    new_pattern_list.append(pattern)\n",
    "                \n",
    "            # let the hopfield network \"learn\" the patterns. Note: they are not stored\n",
    "            # explicitly but only network weights are updated !\n",
    "            fast_hopfield_net.store_patterns(new_pattern_list)\n",
    "\n",
    "            # initialize with original pattern\n",
    "            fast_hopfield_net.set_state_from_pattern(new_pattern_list[0])\n",
    "            # from this initial state, let the network dynamics evolve. \n",
    "            states = fast_hopfield_net.run_with_monitoring(nr_steps=T-1) # T-1 gets us to state 5\n",
    "\n",
    "            # each network state is a vector. reshape it to the same shape used to create the patterns.\n",
    "            states_as_patterns = factory.reshape_patterns(states)\n",
    "            # plot the states of the network\n",
    "            # plot_tools.plot_state_sequence_and_overlap(states_as_patterns, pattern_list, reference_idx=0, suptitle=\"Network dynamics\")\n",
    "\n",
    "            # Computing the overlap\n",
    "            overlap_list = []\n",
    "            overlap_list = pattern_tools.compute_overlap_list(states_as_patterns[-1], new_pattern_list)\n",
    "            max_overlap = np.argmax(overlap_list)\n",
    "            if (max_overlap == 0): # if the overlap is maximal with pattern 1, then we increment the counting to then obtain the probability\n",
    "                identical_count += 1\n",
    "\n",
    "        proba_correct = identical_count / running_iterations_fast\n",
    "        #print(\"Probability that our pattern was correctly retrieved:\" +str(proba_correct))\n",
    "\n",
    "        probability_list.append(proba_correct)\n",
    "        \n",
    "    probability_list = np.array(probability_list)\n",
    "    P_star = len(probability_list[probability_list >= 0.99]) # maximal value obtained where probability is still above or equal to 0.99\n",
    "\n",
    "    print(\"For k = \"+str(k)+\": \")\n",
    "    print(\"Capacity is equal to: \"+str(P_star/N))\n",
    "    capacity_k.append(P_star/N)"
   ]
  },
  {
   "cell_type": "code",
   "execution_count": 143,
   "metadata": {},
   "outputs": [
    {
     "data": {
      "image/png": "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\n",
      "text/plain": [
       "<Figure size 432x288 with 1 Axes>"
      ]
     },
     "metadata": {
      "needs_background": "light"
     },
     "output_type": "display_data"
    }
   ],
   "source": [
    "plt.figure()\n",
    "\n",
    "k_range = k_values/N\n",
    "\n",
    "plt.plot(k_range, capacity_k)\n",
    "plt.xlabel('k/N')\n",
    "plt.ylabel('Capacities')\n",
    "plt.title('Capacity as a function of k/N')\n",
    "\n",
    "plt.grid(True)\n",
    "plt.savefig('question41.png', bbox_inches='tight')"
   ]
  }
 ],
 "metadata": {
  "kernelspec": {
   "display_name": "Python 3",
   "language": "python",
   "name": "python3"
  },
  "language_info": {
   "codemirror_mode": {
    "name": "ipython",
    "version": 3
   },
   "file_extension": ".py",
   "mimetype": "text/x-python",
   "name": "python",
   "nbconvert_exporter": "python",
   "pygments_lexer": "ipython3",
   "version": "3.6.2rc2"
  }
 },
 "nbformat": 4,
 "nbformat_minor": 4
}
