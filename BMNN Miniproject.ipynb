{
 "cells": [
  {
   "cell_type": "code",
   "execution_count": 80,
   "metadata": {},
   "outputs": [],
   "source": [
    "# start with importing the libraries we need\n",
    "\n",
    "%matplotlib inline  \n",
    "import matplotlib.pyplot as plt\n",
    "import numpy as np\n",
    "from neurodynex3.hopfield_network import pattern_tools, plot_tools, network\n",
    "import neurodynex3.hopfield_network.pattern_tools as tools"
   ]
  },
  {
   "cell_type": "markdown",
   "metadata": {},
   "source": [
    "# Miniproject: Hopfield Networks\n",
    "\n",
    "# 1. Theory\n",
    "\n",
    "See report for theory answers\n",
    "\n",
    "# 2. Capacity\n",
    "\n",
    "### Question 2.2."
   ]
  },
  {
   "cell_type": "code",
   "execution_count": 81,
   "metadata": {},
   "outputs": [],
   "source": [
    "# Global variables\n",
    "\n",
    "N = 100 # number of neurons considering for our pattern\n",
    "T = 5 # time-steps for effectively stored patterns\n",
    "\n",
    "pattern_size = 10 # Pattern size, chosen so that pattern_size**2 = 100 = N\n",
    "\n",
    "# To obtain the probability that the first pattern is  is effectivley stored, we iterate the script a certain\n",
    "# amount of time (number of hopfield models generated to estimate probability)\n",
    "running_iterations = 100"
   ]
  },
  {
   "cell_type": "markdown",
   "metadata": {},
   "source": [
    "#### Using code from neurodynex3 Python library:\n"
   ]
  },
  {
   "cell_type": "code",
   "execution_count": 82,
   "metadata": {},
   "outputs": [],
   "source": [
    "# Number of patterns we are currently working with: (we are zooming in on the beginning by taking\n",
    "# more points and thus have more precision there)\n",
    "num_pattern_list_beginning = np.arange(1,16, 1)\n",
    "num_pattern_list_end = np.arange(20, 55, 5)\n",
    "num_pattern_list = np.concatenate((num_pattern_list_beginning, num_pattern_list_end), axis=None)\n",
    "# When increasing number of patterns, retrieving probability\n",
    "probability_list = []"
   ]
  },
  {
   "cell_type": "code",
   "execution_count": 83,
   "metadata": {},
   "outputs": [
    {
     "name": "stdout",
     "output_type": "stream",
     "text": [
      "[ 1  2  3  4  5  6  7  8  9 10 11 12 13 14 15 20 25 30 35 40 45 50]\n"
     ]
    }
   ],
   "source": [
    "print(num_pattern_list)"
   ]
  },
  {
   "cell_type": "code",
   "execution_count": 74,
   "metadata": {
    "scrolled": true
   },
   "outputs": [
    {
     "name": "stdout",
     "output_type": "stream",
     "text": [
      "Running for 1 patterns...\n",
      "Probability that our pattern was correctly retrieved:1.0\n",
      "Running for 2 patterns...\n",
      "Probability that our pattern was correctly retrieved:1.0\n",
      "Running for 3 patterns...\n",
      "Probability that our pattern was correctly retrieved:1.0\n",
      "Running for 4 patterns...\n",
      "Probability that our pattern was correctly retrieved:1.0\n",
      "Running for 5 patterns...\n",
      "Probability that our pattern was correctly retrieved:1.0\n",
      "Running for 6 patterns...\n",
      "Probability that our pattern was correctly retrieved:1.0\n",
      "Running for 7 patterns...\n",
      "Probability that our pattern was correctly retrieved:0.99\n",
      "Running for 8 patterns...\n",
      "Probability that our pattern was correctly retrieved:0.98\n",
      "Running for 9 patterns...\n"
     ]
    },
    {
     "ename": "KeyboardInterrupt",
     "evalue": "",
     "output_type": "error",
     "traceback": [
      "\u001b[1;31m---------------------------------------------------------------------------\u001b[0m",
      "\u001b[1;31mKeyboardInterrupt\u001b[0m                         Traceback (most recent call last)",
      "\u001b[1;32m<ipython-input-74-8c47a631af4d>\u001b[0m in \u001b[0;36m<module>\u001b[1;34m\u001b[0m\n\u001b[0;32m     18\u001b[0m         \u001b[1;31m# let the hopfield network \"learn\" the patterns. Note: they are not stored\u001b[0m\u001b[1;33m\u001b[0m\u001b[1;33m\u001b[0m\u001b[0m\n\u001b[0;32m     19\u001b[0m         \u001b[1;31m# explicitly but only network weights are updated !\u001b[0m\u001b[1;33m\u001b[0m\u001b[1;33m\u001b[0m\u001b[0m\n\u001b[1;32m---> 20\u001b[1;33m         \u001b[0mhopfield_net\u001b[0m\u001b[1;33m.\u001b[0m\u001b[0mstore_patterns\u001b[0m\u001b[1;33m(\u001b[0m\u001b[0mpattern_list\u001b[0m\u001b[1;33m)\u001b[0m\u001b[1;33m\u001b[0m\u001b[0m\n\u001b[0m\u001b[0;32m     21\u001b[0m \u001b[1;33m\u001b[0m\u001b[0m\n\u001b[0;32m     22\u001b[0m         \u001b[1;31m# initialize with original pattern\u001b[0m\u001b[1;33m\u001b[0m\u001b[1;33m\u001b[0m\u001b[0m\n",
      "\u001b[1;32mc:\\users\\eng gasser\\appdata\\local\\programs\\python\\python36\\lib\\site-packages\\neurodynex3\\hopfield_network\\network.py\u001b[0m in \u001b[0;36mstore_patterns\u001b[1;34m(self, pattern_list)\u001b[0m\n\u001b[0;32m    107\u001b[0m                 \u001b[1;32mfor\u001b[0m \u001b[0mk\u001b[0m \u001b[1;32min\u001b[0m \u001b[0mrange\u001b[0m\u001b[1;33m(\u001b[0m\u001b[0mself\u001b[0m\u001b[1;33m.\u001b[0m\u001b[0mnrOfNeurons\u001b[0m\u001b[1;33m)\u001b[0m\u001b[1;33m:\u001b[0m\u001b[1;33m\u001b[0m\u001b[0m\n\u001b[0;32m    108\u001b[0m                     \u001b[0mself\u001b[0m\u001b[1;33m.\u001b[0m\u001b[0mweights\u001b[0m\u001b[1;33m[\u001b[0m\u001b[0mi\u001b[0m\u001b[1;33m,\u001b[0m \u001b[0mk\u001b[0m\u001b[1;33m]\u001b[0m \u001b[1;33m+=\u001b[0m \u001b[0mp_flat\u001b[0m\u001b[1;33m[\u001b[0m\u001b[0mi\u001b[0m\u001b[1;33m]\u001b[0m \u001b[1;33m*\u001b[0m \u001b[0mp_flat\u001b[0m\u001b[1;33m[\u001b[0m\u001b[0mk\u001b[0m\u001b[1;33m]\u001b[0m\u001b[1;33m\u001b[0m\u001b[0m\n\u001b[1;32m--> 109\u001b[1;33m         \u001b[0mself\u001b[0m\u001b[1;33m.\u001b[0m\u001b[0mweights\u001b[0m \u001b[1;33m/=\u001b[0m \u001b[0mself\u001b[0m\u001b[1;33m.\u001b[0m\u001b[0mnrOfNeurons\u001b[0m\u001b[1;33m\u001b[0m\u001b[0m\n\u001b[0m\u001b[0;32m    110\u001b[0m         \u001b[1;31m# no self connections:\u001b[0m\u001b[1;33m\u001b[0m\u001b[1;33m\u001b[0m\u001b[0m\n\u001b[0;32m    111\u001b[0m         \u001b[0mnp\u001b[0m\u001b[1;33m.\u001b[0m\u001b[0mfill_diagonal\u001b[0m\u001b[1;33m(\u001b[0m\u001b[0mself\u001b[0m\u001b[1;33m.\u001b[0m\u001b[0mweights\u001b[0m\u001b[1;33m,\u001b[0m \u001b[1;36m0\u001b[0m\u001b[1;33m)\u001b[0m\u001b[1;33m\u001b[0m\u001b[0m\n",
      "\u001b[1;31mKeyboardInterrupt\u001b[0m: "
     ]
    }
   ],
   "source": [
    "for P in num_pattern_list:\n",
    "    \n",
    "    print('Running for '+str(P)+' patterns...')\n",
    "    # create an instance of the class HopfieldNetwork\n",
    "    hopfield_net = network.HopfieldNetwork(nr_neurons= pattern_size**2)\n",
    "\n",
    "    # instantiate a pattern factory\n",
    "    factory = pattern_tools.PatternFactory(pattern_size, pattern_size)\n",
    "\n",
    "    identical_count = 0\n",
    "    \n",
    "    for i in range(running_iterations): # run the script some times\n",
    "\n",
    "        pattern_list = []\n",
    "        # add random patterns to the list (this value changes to obtain different probabilities for our plot)\n",
    "        pattern_list.extend(factory.create_random_pattern_list(nr_patterns=P, on_probability=0.5))\n",
    "\n",
    "        # let the hopfield network \"learn\" the patterns. Note: they are not stored\n",
    "        # explicitly but only network weights are updated !\n",
    "        hopfield_net.store_patterns(pattern_list)\n",
    "\n",
    "        # initialize with original pattern\n",
    "        hopfield_net.set_state_from_pattern(pattern_list[0])\n",
    "        # from this initial state, let the network dynamics evolve. \n",
    "        states = hopfield_net.run_with_monitoring(nr_steps=T-1) # T-1 gets us to state 5\n",
    "\n",
    "        # each network state is a vector. reshape it to the same shape used to create the patterns.\n",
    "        states_as_patterns = factory.reshape_patterns(states)\n",
    "        # plot the states of the network\n",
    "        # plot_tools.plot_state_sequence_and_overlap(states_as_patterns, pattern_list, reference_idx=0, suptitle=\"Network dynamics\")\n",
    "\n",
    "        if (np.sum(states_as_patterns[-1] == pattern_list[0])) == 100:\n",
    "            # We have identical patterns, one neuron state was flipped after 5 iterations\n",
    "            identical_count += 1\n",
    "\n",
    "    proba_correct = identical_count / running_iterations\n",
    "    print(\"Probability that our pattern was correctly retrieved:\" +str(proba_correct))\n",
    "\n",
    "    probability_list.append(proba_correct)"
   ]
  },
  {
   "cell_type": "code",
   "execution_count": 46,
   "metadata": {},
   "outputs": [
    {
     "data": {
      "image/png": "[encoded data removed]",
      "text/plain": [
       "<Figure size 432x288 with 1 Axes>"
      ]
     },
     "metadata": {
      "needs_background": "light"
     },
     "output_type": "display_data"
    }
   ],
   "source": [
    "# Plotting the probability for pattern p^1 to be effectively stored, as a function of the number of patterns\n",
    "\n",
    "plt.figure()\n",
    "plt.scatter(num_pattern_list, probability_list)\n",
    "plt.xlabel('Number of patterns')\n",
    "plt.ylabel('Probability')\n",
    "plt.title('Probability of effectively storing pattern p^1 as a function of the number of patterns')\n",
    "plt.grid(True)"
   ]
  },
  {
   "cell_type": "markdown",
   "metadata": {},
   "source": [
    "#### Implementing alternative and more efficient method to store patterns: and checking if weights are still the same"
   ]
  },
  {
   "cell_type": "code",
   "execution_count": 84,
   "metadata": {},
   "outputs": [],
   "source": [
    "# Using alternative and more efficient way to store patterns\n",
    "\n",
    "class Hopfield_fast(network.HopfieldNetwork):\n",
    "    def __init__(self, nr_neurons):\n",
    "        super().__init__(nr_neurons)\n",
    "    \n",
    "    def store_patterns(self, pattern_list):\n",
    "        # check if the input is a list or a numpy array\n",
    "        if type(pattern_list) == list:\n",
    "            pattern_list = np.array(pattern_list)\n",
    "        pattern_list = pattern_list.reshape(pattern_list.shape[0],-1)\n",
    "        pattern_size = pattern_list.shape[1]\n",
    "        # fill in the following line for make the Hopfield_fast class to run\n",
    "        self.weights = 1 / pattern_size  * np.einsum('ij,jk->ik', pattern_list.T, pattern_list) \n",
    "        np.fill_diagonal(self.weights, 0)"
   ]
  },
  {
   "cell_type": "code",
   "execution_count": 85,
   "metadata": {},
   "outputs": [
    {
     "name": "stdout",
     "output_type": "stream",
     "text": [
      "[[ True  True  True ...  True  True  True]\n",
      " [ True  True  True ...  True  True  True]\n",
      " [ True  True  True ...  True  True  True]\n",
      " ...\n",
      " [ True  True  True ...  True  True  True]\n",
      " [ True  True  True ...  True  True  True]\n",
      " [ True  True  True ...  True  True  True]]\n",
      "All the weights are the same? True\n"
     ]
    }
   ],
   "source": [
    "# Before you continue test that your weights are correct (compare with the neurodynex version)\n",
    "\n",
    "slow_hopfield_net = network.HopfieldNetwork(nr_neurons= pattern_size**2)\n",
    "fast_hopfield_net = Hopfield_fast(pattern_size**2)\n",
    "\n",
    "factory = pattern_tools.PatternFactory(pattern_size, pattern_size)\n",
    "\n",
    "pattern_list = []\n",
    "# add random patterns to the list (this value changes to obtain different probabilities for our plot)\n",
    "pattern_list.extend(factory.create_random_pattern_list(nr_patterns=P, on_probability=0.5))\n",
    "\n",
    "# let the hopfield network \"learn\" the patterns. Note: they are not stored\n",
    "# explicitly but only network weights are updated !\n",
    "slow_hopfield_net.store_patterns(pattern_list)\n",
    "fast_hopfield_net.store_patterns(pattern_list)\n",
    "\n",
    "print(slow_hopfield_net.weights == fast_hopfield_net.weights)\n",
    "print('All the weights are the same? '+str((slow_hopfield_net.weights == fast_hopfield_net.weights).all()))"
   ]
  },
  {
   "cell_type": "markdown",
   "metadata": {},
   "source": [
    "#### Obtaining the plot using alternative and more efficient method to store patterns:"
   ]
  },
  {
   "cell_type": "code",
   "execution_count": 86,
   "metadata": {},
   "outputs": [
    {
     "name": "stdout",
     "output_type": "stream",
     "text": [
      "[  1   1   2   3   4   5   6   7   8   9  10  11  12  13  14  15  16  17\n",
      "  18  19  20  21  22  23  24  25  26  27  28  29  30  31  32  33  34  35\n",
      "  36  37  38  39  40  41  42  43  44  45  46  47  48  49  50  51  52  53\n",
      "  54  55  56  57  58  59  60  61  62  63  64  65  66  67  68  69  70  71\n",
      "  72  73  74  75  76  77  78  79  80  81  82  83  84  85  86  87  88  89\n",
      "  90  91  92  93  94  95  96  97  98  99 100]\n"
     ]
    }
   ],
   "source": [
    "# Number of patterns we are currently working with:\n",
    "num_pattern_list = np.arange(0, 101, 1)\n",
    "num_pattern_list[0] = 1 # Solving issue with zero patterns...\n",
    "print(num_pattern_list)\n",
    "\n",
    "# When increasing number of patterns, retrieving probability\n",
    "fast_probability_list = []"
   ]
  },
  {
   "cell_type": "code",
   "execution_count": 88,
   "metadata": {},
   "outputs": [
    {
     "name": "stdout",
     "output_type": "stream",
     "text": [
      "Running for 1 patterns...\n",
      "Probability that our pattern was correctly retrieved:1.0\n",
      "Running for 1 patterns...\n",
      "Probability that our pattern was correctly retrieved:1.0\n",
      "Running for 2 patterns...\n",
      "Probability that our pattern was correctly retrieved:1.0\n",
      "Running for 3 patterns...\n",
      "Probability that our pattern was correctly retrieved:1.0\n",
      "Running for 4 patterns...\n",
      "Probability that our pattern was correctly retrieved:1.0\n",
      "Running for 5 patterns...\n",
      "Probability that our pattern was correctly retrieved:1.0\n",
      "Running for 6 patterns...\n",
      "Probability that our pattern was correctly retrieved:1.0\n",
      "Running for 7 patterns...\n",
      "Probability that our pattern was correctly retrieved:1.0\n",
      "Running for 8 patterns...\n",
      "Probability that our pattern was correctly retrieved:0.97\n",
      "Running for 9 patterns...\n",
      "Probability that our pattern was correctly retrieved:0.98\n",
      "Running for 10 patterns...\n",
      "Probability that our pattern was correctly retrieved:0.96\n",
      "Running for 11 patterns...\n",
      "Probability that our pattern was correctly retrieved:0.95\n",
      "Running for 12 patterns...\n",
      "Probability that our pattern was correctly retrieved:0.88\n",
      "Running for 13 patterns...\n",
      "Probability that our pattern was correctly retrieved:0.87\n",
      "Running for 14 patterns...\n",
      "Probability that our pattern was correctly retrieved:0.79\n",
      "Running for 15 patterns...\n",
      "Probability that our pattern was correctly retrieved:0.73\n",
      "Running for 16 patterns...\n",
      "Probability that our pattern was correctly retrieved:0.61\n",
      "Running for 17 patterns...\n",
      "Probability that our pattern was correctly retrieved:0.59\n",
      "Running for 18 patterns...\n",
      "Probability that our pattern was correctly retrieved:0.55\n",
      "Running for 19 patterns...\n",
      "Probability that our pattern was correctly retrieved:0.53\n",
      "Running for 20 patterns...\n",
      "Probability that our pattern was correctly retrieved:0.46\n",
      "Running for 21 patterns...\n",
      "Probability that our pattern was correctly retrieved:0.23\n",
      "Running for 22 patterns...\n",
      "Probability that our pattern was correctly retrieved:0.21\n",
      "Running for 23 patterns...\n",
      "Probability that our pattern was correctly retrieved:0.2\n",
      "Running for 24 patterns...\n",
      "Probability that our pattern was correctly retrieved:0.2\n",
      "Running for 25 patterns...\n",
      "Probability that our pattern was correctly retrieved:0.12\n",
      "Running for 26 patterns...\n",
      "Probability that our pattern was correctly retrieved:0.02\n",
      "Running for 27 patterns...\n",
      "Probability that our pattern was correctly retrieved:0.09\n",
      "Running for 28 patterns...\n",
      "Probability that our pattern was correctly retrieved:0.02\n",
      "Running for 29 patterns...\n",
      "Probability that our pattern was correctly retrieved:0.06\n",
      "Running for 30 patterns...\n",
      "Probability that our pattern was correctly retrieved:0.01\n",
      "Running for 31 patterns...\n",
      "Probability that our pattern was correctly retrieved:0.05\n",
      "Running for 32 patterns...\n",
      "Probability that our pattern was correctly retrieved:0.0\n",
      "Running for 33 patterns...\n",
      "Probability that our pattern was correctly retrieved:0.01\n",
      "Running for 34 patterns...\n",
      "Probability that our pattern was correctly retrieved:0.02\n",
      "Running for 35 patterns...\n",
      "Probability that our pattern was correctly retrieved:0.0\n",
      "Running for 36 patterns...\n",
      "Probability that our pattern was correctly retrieved:0.0\n",
      "Running for 37 patterns...\n",
      "Probability that our pattern was correctly retrieved:0.0\n",
      "Running for 38 patterns...\n",
      "Probability that our pattern was correctly retrieved:0.01\n",
      "Running for 39 patterns...\n",
      "Probability that our pattern was correctly retrieved:0.01\n",
      "Running for 40 patterns...\n",
      "Probability that our pattern was correctly retrieved:0.01\n",
      "Running for 41 patterns...\n",
      "Probability that our pattern was correctly retrieved:0.01\n",
      "Running for 42 patterns...\n",
      "Probability that our pattern was correctly retrieved:0.0\n",
      "Running for 43 patterns...\n",
      "Probability that our pattern was correctly retrieved:0.0\n",
      "Running for 44 patterns...\n",
      "Probability that our pattern was correctly retrieved:0.0\n",
      "Running for 45 patterns...\n",
      "Probability that our pattern was correctly retrieved:0.0\n",
      "Running for 46 patterns...\n",
      "Probability that our pattern was correctly retrieved:0.0\n",
      "Running for 47 patterns...\n",
      "Probability that our pattern was correctly retrieved:0.0\n",
      "Running for 48 patterns...\n",
      "Probability that our pattern was correctly retrieved:0.0\n",
      "Running for 49 patterns...\n",
      "Probability that our pattern was correctly retrieved:0.0\n",
      "Running for 50 patterns...\n",
      "Probability that our pattern was correctly retrieved:0.0\n",
      "Running for 51 patterns...\n",
      "Probability that our pattern was correctly retrieved:0.0\n",
      "Running for 52 patterns...\n",
      "Probability that our pattern was correctly retrieved:0.0\n",
      "Running for 53 patterns...\n",
      "Probability that our pattern was correctly retrieved:0.0\n",
      "Running for 54 patterns...\n",
      "Probability that our pattern was correctly retrieved:0.0\n",
      "Running for 55 patterns...\n",
      "Probability that our pattern was correctly retrieved:0.0\n",
      "Running for 56 patterns...\n",
      "Probability that our pattern was correctly retrieved:0.0\n",
      "Running for 57 patterns...\n",
      "Probability that our pattern was correctly retrieved:0.0\n",
      "Running for 58 patterns...\n",
      "Probability that our pattern was correctly retrieved:0.0\n",
      "Running for 59 patterns...\n",
      "Probability that our pattern was correctly retrieved:0.0\n",
      "Running for 60 patterns...\n",
      "Probability that our pattern was correctly retrieved:0.0\n",
      "Running for 61 patterns...\n",
      "Probability that our pattern was correctly retrieved:0.0\n",
      "Running for 62 patterns...\n",
      "Probability that our pattern was correctly retrieved:0.0\n",
      "Running for 63 patterns...\n",
      "Probability that our pattern was correctly retrieved:0.0\n",
      "Running for 64 patterns...\n",
      "Probability that our pattern was correctly retrieved:0.0\n",
      "Running for 65 patterns...\n",
      "Probability that our pattern was correctly retrieved:0.0\n",
      "Running for 66 patterns...\n",
      "Probability that our pattern was correctly retrieved:0.0\n",
      "Running for 67 patterns...\n",
      "Probability that our pattern was correctly retrieved:0.0\n",
      "Running for 68 patterns...\n",
      "Probability that our pattern was correctly retrieved:0.0\n",
      "Running for 69 patterns...\n",
      "Probability that our pattern was correctly retrieved:0.0\n",
      "Running for 70 patterns...\n",
      "Probability that our pattern was correctly retrieved:0.0\n",
      "Running for 71 patterns...\n",
      "Probability that our pattern was correctly retrieved:0.0\n",
      "Running for 72 patterns...\n",
      "Probability that our pattern was correctly retrieved:0.0\n",
      "Running for 73 patterns...\n",
      "Probability that our pattern was correctly retrieved:0.0\n",
      "Running for 74 patterns...\n",
      "Probability that our pattern was correctly retrieved:0.0\n",
      "Running for 75 patterns...\n",
      "Probability that our pattern was correctly retrieved:0.0\n",
      "Running for 76 patterns...\n",
      "Probability that our pattern was correctly retrieved:0.0\n",
      "Running for 77 patterns...\n",
      "Probability that our pattern was correctly retrieved:0.0\n",
      "Running for 78 patterns...\n",
      "Probability that our pattern was correctly retrieved:0.0\n",
      "Running for 79 patterns...\n",
      "Probability that our pattern was correctly retrieved:0.0\n",
      "Running for 80 patterns...\n",
      "Probability that our pattern was correctly retrieved:0.0\n",
      "Running for 81 patterns...\n",
      "Probability that our pattern was correctly retrieved:0.0\n",
      "Running for 82 patterns...\n",
      "Probability that our pattern was correctly retrieved:0.0\n",
      "Running for 83 patterns...\n",
      "Probability that our pattern was correctly retrieved:0.0\n",
      "Running for 84 patterns...\n",
      "Probability that our pattern was correctly retrieved:0.0\n",
      "Running for 85 patterns...\n",
      "Probability that our pattern was correctly retrieved:0.0\n",
      "Running for 86 patterns...\n",
      "Probability that our pattern was correctly retrieved:0.0\n",
      "Running for 87 patterns...\n",
      "Probability that our pattern was correctly retrieved:0.0\n",
      "Running for 88 patterns...\n",
      "Probability that our pattern was correctly retrieved:0.0\n",
      "Running for 89 patterns...\n",
      "Probability that our pattern was correctly retrieved:0.0\n",
      "Running for 90 patterns...\n",
      "Probability that our pattern was correctly retrieved:0.0\n",
      "Running for 91 patterns...\n",
      "Probability that our pattern was correctly retrieved:0.0\n",
      "Running for 92 patterns...\n",
      "Probability that our pattern was correctly retrieved:0.0\n",
      "Running for 93 patterns...\n",
      "Probability that our pattern was correctly retrieved:0.0\n",
      "Running for 94 patterns...\n",
      "Probability that our pattern was correctly retrieved:0.0\n",
      "Running for 95 patterns...\n",
      "Probability that our pattern was correctly retrieved:0.0\n",
      "Running for 96 patterns...\n",
      "Probability that our pattern was correctly retrieved:0.0\n",
      "Running for 97 patterns...\n",
      "Probability that our pattern was correctly retrieved:0.0\n",
      "Running for 98 patterns...\n",
      "Probability that our pattern was correctly retrieved:0.0\n",
      "Running for 99 patterns...\n",
      "Probability that our pattern was correctly retrieved:0.0\n",
      "Running for 100 patterns...\n",
      "Probability that our pattern was correctly retrieved:0.0\n"
     ]
    }
   ],
   "source": [
    "for P in num_pattern_list:\n",
    "    \n",
    "    print('Running for '+str(P)+' patterns...')\n",
    "    # create an instance of the class HopfieldNetwork\n",
    "    fast_hopfield_net = Hopfield_fast(nr_neurons= pattern_size**2)\n",
    "    \n",
    "    # instantiate a pattern factory\n",
    "    factory = pattern_tools.PatternFactory(pattern_size, pattern_size)\n",
    "\n",
    "    identical_count = 0\n",
    "    \n",
    "    for i in range(running_iterations): # run the script some times\n",
    "\n",
    "        pattern_list = []\n",
    "        # add random patterns to the list (this value changes to obtain different probabilities for our plot)\n",
    "        pattern_list.extend(factory.create_random_pattern_list(nr_patterns=P, on_probability=0.5))\n",
    "\n",
    "        # let the hopfield network \"learn\" the patterns. Note: they are not stored\n",
    "        # explicitly but only network weights are updated !\n",
    "        fast_hopfield_net.store_patterns(pattern_list)\n",
    "\n",
    "        # initialize with original pattern\n",
    "        fast_hopfield_net.set_state_from_pattern(pattern_list[0])\n",
    "        # from this initial state, let the network dynamics evolve. \n",
    "        states = fast_hopfield_net.run_with_monitoring(nr_steps=T-1) # T-1 gets us to state 5\n",
    "\n",
    "        # each network state is a vector. reshape it to the same shape used to create the patterns.\n",
    "        states_as_patterns = factory.reshape_patterns(states)\n",
    "        # plot the states of the network\n",
    "        # plot_tools.plot_state_sequence_and_overlap(states_as_patterns, pattern_list, reference_idx=0, suptitle=\"Network dynamics\")\n",
    "\n",
    "        if (np.sum(states_as_patterns[-1] == pattern_list[0])) == 100:\n",
    "            # We have identical patterns, one neuron state was flipped after 5 iterations\n",
    "            identical_count += 1\n",
    "\n",
    "    proba_correct = identical_count / running_iterations\n",
    "    print(\"Probability that our pattern was correctly retrieved:\" +str(proba_correct))\n",
    "\n",
    "    fast_probability_list.append(proba_correct)"
   ]
  },
  {
   "cell_type": "code",
   "execution_count": 89,
   "metadata": {},
   "outputs": [
    {
     "data": {
      "image/png": "[encoded data removed]",
      "text/plain": [
       "<Figure size 432x288 with 1 Axes>"
      ]
     },
     "metadata": {
      "needs_background": "light"
     },
     "output_type": "display_data"
    }
   ],
   "source": [
    "# Plotting the probability for pattern p^1 to be effectively stored, as a function of the number of patterns\n",
    "\n",
    "plt.figure()\n",
    "plt.scatter(num_pattern_list, fast_probability_list)\n",
    "plt.xlabel('Number of patterns')\n",
    "plt.ylabel('Probability')\n",
    "plt.title('Probability of effectively storing pattern p^1 as a function of the number of patterns')\n",
    "plt.grid(True)\n",
    "plt.savefig('question22.png', bbox_inches='tight')"
   ]
  },
  {
   "cell_type": "markdown",
   "metadata": {},
   "source": [
    "### Question 2.3."
   ]
  },
  {
   "cell_type": "code",
   "execution_count": 90,
   "metadata": {},
   "outputs": [
    {
     "name": "stdout",
     "output_type": "stream",
     "text": [
      "From the previous question, the empirical capacity is: 0.08\n"
     ]
    }
   ],
   "source": [
    "# Extracting empirical capacity:\n",
    "\n",
    "# We are looking for the maximal number of patterns that the network can store with P = 0.99\n",
    "\n",
    "fast_probability_list_array = np.array(fast_probability_list)\n",
    "P_star_empirical = len(fast_probability_list_array[fast_probability_list_array >= 0.99]) # maximal value obtained where probability is still above or equal to 0.99\n",
    "\n",
    "C_empirical = P_star_empirical / N\n",
    "\n",
    "print(\"From the previous question, the empirical capacity is: \"+str(C_empirical))"
   ]
  },
  {
   "cell_type": "code",
   "execution_count": 91,
   "metadata": {},
   "outputs": [
    {
     "name": "stdout",
     "output_type": "stream",
     "text": [
      "From the Pen&Pencil exercise 3 of week 5, we deduce the theoretical capacity:0.08396449704142012\n"
     ]
    }
   ],
   "source": [
    "# Comparing to theoretical capacity found in pen&pencil exercise 3 of week 5:\n",
    "# Instead of having 1 flipped pixel over 10000, we have 1 flipped pixel over 100\n",
    "\n",
    "# To have on average, at most, one bit to be wrong: corresponds to erf(2.6) = 0.9998\n",
    "# We can deduce: sqrt(N/2(P-1)) = 2.6\n",
    "\n",
    "# This gives us:\n",
    "\n",
    "P_star_theoretical = 1 + N/(2*(2.6**2))\n",
    "\n",
    "C_theoretical = P_star_theoretical/N\n",
    "\n",
    "print(\"From the Pen&Pencil exercise 3 of week 5, we deduce the theoretical capacity:\"+str(C_theoretical))"
   ]
  },
  {
   "cell_type": "markdown",
   "metadata": {},
   "source": [
    "# 3. From binary neurons to saturated rectified linear neurons\n",
    "\n",
    "### Question 3.1"
   ]
  },
  {
   "cell_type": "code",
   "execution_count": 92,
   "metadata": {},
   "outputs": [],
   "source": [
    "t_range = np.linspace(-10,10, 1000000)\n",
    "\n",
    "def g(h, beta):\n",
    "    return np.minimum(1, np.maximum(-1, beta*h))"
   ]
  },
  {
   "cell_type": "code",
   "execution_count": 93,
   "metadata": {},
   "outputs": [
    {
     "data": {
      "image/png": "[encoded data removed]",
      "text/plain": [
       "<Figure size 432x288 with 1 Axes>"
      ]
     },
     "metadata": {
      "needs_background": "light"
     },
     "output_type": "display_data"
    }
   ],
   "source": [
    "beta = 1\n",
    "y_values = []\n",
    "\n",
    "for t in t_range:\n",
    "    y = g(t, beta)\n",
    "    y_values.append(y)\n",
    "\n",
    "\n",
    "plt.figure()\n",
    "plt.plot(t_range, y_values)\n",
    "plt.xlabel('h')\n",
    "plt.ylabel('g(h)')\n",
    "plt.title('Gain function for beta = 1')\n",
    "plt.grid(True)\n",
    "plt.savefig('question31.png', bbox_inches='tight')"
   ]
  },
  {
   "cell_type": "markdown",
   "metadata": {},
   "source": [
    "### Question 3.2\n",
    "\n",
    "See report for theoretical answer\n",
    "\n",
    "### Question 3.3"
   ]
  },
  {
   "cell_type": "code",
   "execution_count": 83,
   "metadata": {},
   "outputs": [
    {
     "name": "stdout",
     "output_type": "stream",
     "text": [
      "Beta values:\n",
      "[   1   10   20   30   40   50   60   70   80   90  100  110  120  130\n",
      "  140  150  160  170  180  190  200  210  220  230  240  250  260  270\n",
      "  280  290  300  310  320  330  340  350  360  370  380  390  400  410\n",
      "  420  430  440  450  460  470  480  490  500  510  520  530  540  550\n",
      "  560  570  580  590  600  610  620  630  640  650  660  670  680  690\n",
      "  700  710  720  730  740  750  760  770  780  790  800  810  820  830\n",
      "  840  850  860  870  880  890  900  910  920  930  940  950  960  970\n",
      "  980  990 1000]\n"
     ]
    }
   ],
   "source": [
    "betas = np.arange(1, 1010, 10)\n",
    "betas[1:] = betas[1:]-1\n",
    "\n",
    "print('Beta values:')\n",
    "print(betas)"
   ]
  },
  {
   "cell_type": "code",
   "execution_count": 89,
   "metadata": {},
   "outputs": [
    {
     "name": "stdout",
     "output_type": "stream",
     "text": [
      "[  1   2   3   4   5   6   7   8   9  10  11  12  13  14  15  16  17  18\n",
      "  19  20  30  40  50  60  70  80  90 100]\n"
     ]
    }
   ],
   "source": [
    "num_pattern_list = np.arange(1,20,1)\n",
    "num_pattern_list_ending = np.arange(20,110,10)\n",
    "num_pattern_list = np.concatenate((num_pattern_list, num_pattern_list_ending), axis=None)\n",
    "print(num_pattern_list)"
   ]
  },
  {
   "cell_type": "code",
   "execution_count": 90,
   "metadata": {},
   "outputs": [],
   "source": [
    "def update_function(state_s0, weights):\n",
    "    global beta\n",
    "    random_neuron_idx_list = np.random.permutation(len(state_s0))\n",
    "    state_s1 = state_s0.copy()\n",
    "    for i in range(len(random_neuron_idx_list)):\n",
    "        rand_neuron_i = random_neuron_idx_list[i]\n",
    "        h_i = np.dot(weights[:, rand_neuron_i], state_s1)\n",
    "        prop_state_s1_on = np.minimum(1, np.maximum(-1, beta*h_i))\n",
    "        # the update here is probabilistic and in the next line we do the inference step\n",
    "        state_s1[rand_neuron_i] = 1 if prop_state_s1_on > np.random.rand() else -1 \n",
    "    return state_s1"
   ]
  },
  {
   "cell_type": "code",
   "execution_count": null,
   "metadata": {
    "scrolled": true
   },
   "outputs": [
    {
     "name": "stdout",
     "output_type": "stream",
     "text": [
      "For Beta=1, The Capacity=0.0\n",
      "For Beta=10, The Capacity=0.08\n",
      "For Beta=20, The Capacity=0.08\n",
      "For Beta=30, The Capacity=0.09\n",
      "For Beta=40, The Capacity=0.09\n",
      "For Beta=50, The Capacity=0.09\n",
      "For Beta=60, The Capacity=0.09\n",
      "For Beta=70, The Capacity=0.09\n",
      "For Beta=80, The Capacity=0.08\n",
      "For Beta=90, The Capacity=0.09\n",
      "For Beta=100, The Capacity=0.08\n",
      "For Beta=110, The Capacity=0.08\n",
      "For Beta=120, The Capacity=0.08\n",
      "For Beta=130, The Capacity=0.07\n",
      "For Beta=140, The Capacity=0.09\n",
      "For Beta=150, The Capacity=0.09\n",
      "For Beta=160, The Capacity=0.08\n",
      "For Beta=170, The Capacity=0.08\n",
      "For Beta=180, The Capacity=0.1\n",
      "For Beta=190, The Capacity=0.09\n",
      "For Beta=200, The Capacity=0.08\n",
      "For Beta=210, The Capacity=0.08\n",
      "For Beta=220, The Capacity=0.08\n",
      "For Beta=230, The Capacity=0.08\n",
      "For Beta=240, The Capacity=0.09\n",
      "For Beta=250, The Capacity=0.08\n",
      "For Beta=260, The Capacity=0.08\n",
      "For Beta=270, The Capacity=0.08\n",
      "For Beta=280, The Capacity=0.07\n",
      "For Beta=290, The Capacity=0.09\n",
      "For Beta=300, The Capacity=0.09\n",
      "For Beta=310, The Capacity=0.07\n",
      "For Beta=320, The Capacity=0.09\n",
      "For Beta=330, The Capacity=0.08\n",
      "For Beta=340, The Capacity=0.07\n",
      "For Beta=350, The Capacity=0.09\n",
      "For Beta=360, The Capacity=0.09\n",
      "For Beta=370, The Capacity=0.08\n",
      "For Beta=380, The Capacity=0.08\n",
      "For Beta=390, The Capacity=0.08\n",
      "For Beta=400, The Capacity=0.08\n",
      "For Beta=410, The Capacity=0.1\n",
      "For Beta=420, The Capacity=0.09\n"
     ]
    }
   ],
   "source": [
    "capacity = []\n",
    "\n",
    "for beta in betas:\n",
    "    \n",
    "    probability_list = []\n",
    "\n",
    "    #print('Beta value: '+str(beta))\n",
    "    for P in num_pattern_list:\n",
    "\n",
    "        #print(\"Patter n°: \"+str(P))\n",
    "        hopfield_net = Hopfield_fast(nr_neurons= pattern_size**2)\n",
    "        hopfield_net.set_dynamics_to_user_function(update_function)\n",
    "        \n",
    "        factory = pattern_tools.PatternFactory(pattern_size, pattern_size)\n",
    "        identical_count = 0\n",
    "\n",
    "        for i in range(running_iterations):\n",
    "            pattern_list = []\n",
    "            # add random patterns to the list\n",
    "            pattern_list.extend(factory.create_random_pattern_list(nr_patterns=P, on_probability=0.5))\n",
    "            # let the hopfield network \"learn\" the patterns. Note: they are not stored\n",
    "            # explicitly but only network weights are updated !\n",
    "            hopfield_net.store_patterns(pattern_list)\n",
    "            # initialize with original pattern\n",
    "            hopfield_net.set_state_from_pattern(pattern_list[0])\n",
    "            # from this initial state, let the network dynamics evolve. \n",
    "            states = hopfield_net.run_with_monitoring(nr_steps=5) # T-1 gets us to state 5\n",
    "            # each network state is a vector. reshape it to the same shape used to create the patterns.\n",
    "            states_as_patterns = factory.reshape_patterns(states)\n",
    "            # plot the states of the network\n",
    "            # plot_tools.plot_state_sequence_and_overlap(states_as_patterns, pattern_list, reference_idx=0, suptitle=\"Network dynamics\")\n",
    "            if (np.sum(states_as_patterns[-1] == pattern_list[0])) == 100:\n",
    "                # We have identical patterns, one neuron state was flipped after 5 iterations\n",
    "                identical_count += 1\n",
    "\n",
    "        proba_correct = identical_count / running_iterations\n",
    "        #print(proba_correct)\n",
    "        probability_list.append(proba_correct)\n",
    "\n",
    "    #print(probability_list)\n",
    "    probability_list = np.array(probability_list)\n",
    "    P_star = len(probability_list[probability_list >= 0.99]) # maximal value obtained where probability is still above or equal to 0.99\n",
    "\n",
    "    capacity.append(P_star/N)\n",
    "    print('For Beta='+str(beta)+', The Capacity='+str(P_star/N))"
   ]
  },
  {
   "cell_type": "code",
   "execution_count": null,
   "metadata": {},
   "outputs": [],
   "source": [
    "plt.scatter(betas, capacity)\n",
    "plt.xlabel('Beta')\n",
    "plt.ylabel('Capacity')\n",
    "plt.title('Capacity as a function of Beta')"
   ]
  },
  {
   "cell_type": "markdown",
   "metadata": {},
   "source": [
    "### Question 3.4"
   ]
  },
  {
   "cell_type": "code",
   "execution_count": 97,
   "metadata": {},
   "outputs": [
    {
     "data": {
      "image/png": "[encoded data removed]",
      "text/plain": [
       "<Figure size 432x288 with 1 Axes>"
      ]
     },
     "metadata": {
      "needs_background": "light"
     },
     "output_type": "display_data"
    }
   ],
   "source": [
    "small_betas = [0.1,0.25,0.5,0.75,1]\n",
    "plt.figure()\n",
    "\n",
    "for beta in small_betas:\n",
    "    y_values = []\n",
    "    for t in t_range:\n",
    "        y = g(t, beta)\n",
    "        y_values.append(y)\n",
    "\n",
    "    plt.plot(t_range, y_values, label=beta)\n",
    "    plt.xlabel('h')\n",
    "    plt.ylabel('g(h)')\n",
    "plt.legend()\n",
    "plt.title('Gain function for betas < 1')\n",
    "plt.savefig('question3.4.png')"
   ]
  },
  {
   "cell_type": "code",
   "execution_count": 103,
   "metadata": {},
   "outputs": [
    {
     "data": {
      "text/plain": [
       "Text(0.5, 1.0, 'Gain function for beta = 1')"
      ]
     },
     "execution_count": 103,
     "metadata": {},
     "output_type": "execute_result"
    },
    {
     "data": {
      "image/png": "[encoded data removed]",
      "text/plain": [
       "<Figure size 432x288 with 1 Axes>"
      ]
     },
     "metadata": {
      "needs_background": "light"
     },
     "output_type": "display_data"
    }
   ],
   "source": [
    "beta = 0.25\n",
    "y_values = []\n",
    "\n",
    "for t in t_range:\n",
    "    y = g(t, beta)\n",
    "    y_values.append(y)\n",
    "\n",
    "\n",
    "plt.figure()\n",
    "plt.plot(t_range, y_values)\n",
    "plt.xlabel('h')\n",
    "plt.ylabel('g(h)')\n",
    "plt.title('Gain function for beta = 1')"
   ]
  },
  {
   "cell_type": "code",
   "execution_count": 104,
   "metadata": {},
   "outputs": [
    {
     "data": {
      "text/plain": [
       "Text(0.5, 1.0, 'Gain function for beta = 1')"
      ]
     },
     "execution_count": 104,
     "metadata": {},
     "output_type": "execute_result"
    },
    {
     "data": {
      "image/png": "[encoded data removed]",
      "text/plain": [
       "<Figure size 432x288 with 1 Axes>"
      ]
     },
     "metadata": {
      "needs_background": "light"
     },
     "output_type": "display_data"
    }
   ],
   "source": [
    "beta = 0.1\n",
    "y_values = []\n",
    "\n",
    "for t in t_range:\n",
    "    y = g(t, beta)\n",
    "    y_values.append(y)\n",
    "\n",
    "\n",
    "plt.figure()\n",
    "plt.plot(t_range, y_values)\n",
    "plt.xlabel('h')\n",
    "plt.ylabel('g(h)')\n",
    "plt.title('Gain function for beta = 1')"
   ]
  },
  {
   "cell_type": "code",
   "execution_count": null,
   "metadata": {},
   "outputs": [],
   "source": []
  }
 ],
 "metadata": {
  "kernelspec": {
   "display_name": "Python 3",
   "language": "python",
   "name": "python3"
  },
  "language_info": {
   "codemirror_mode": {
    "name": "ipython",
    "version": 3
   },
   "file_extension": ".py",
   "mimetype": "text/x-python",
   "name": "python",
   "nbconvert_exporter": "python",
   "pygments_lexer": "ipython3",
   "version": "3.6.2rc2"
  }
 },
 "nbformat": 4,
 "nbformat_minor": 4
}
